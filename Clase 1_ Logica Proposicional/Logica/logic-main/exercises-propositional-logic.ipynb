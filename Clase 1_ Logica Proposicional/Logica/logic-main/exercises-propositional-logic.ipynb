{
 "cells": [
  {
   "cell_type": "markdown",
   "metadata": {},
   "source": [
    "# Exercises in Propositional Logic"
   ]
  },
  {
   "cell_type": "markdown",
   "metadata": {},
   "source": [
    "---"
   ]
  },
  {
   "cell_type": "markdown",
   "metadata": {},
   "source": [
    "Are the following propositions logically equivalent?\n",
    "\n",
    "$\\text{P} \\rightarrow \\lnot\\text{P} \\overset{?}{\\equiv} \\lnot\\text{P}$\n",
    "\n",
    "Proof by truth table\n",
    "\n",
    "$\n",
    "\\begin{array}{c|cc}\n",
    "\\text{P} & \\lnot\\text{P} & \\text{P} \\rightarrow \\lnot\\text{P} \\\\\n",
    "\\hline\n",
    "\\text{T} & \\text{F} & \\text{F} \\\\\n",
    "\\text{F} & \\text{T} & \\text{T} \\\\\n",
    "\\end{array}\n",
    "$\n",
    "\n",
    "Yes\n",
    "\n",
    "$\\therefore \\text{P} \\rightarrow \\lnot\\text{P} \\equiv \\lnot\\text{P}$\n",
    "\n",
    "$\\blacksquare$"
   ]
  },
  {
   "cell_type": "markdown",
   "metadata": {},
   "source": [
    "---"
   ]
  },
  {
   "cell_type": "markdown",
   "metadata": {},
   "source": [
    "Are the following propositions logically equivalent?\n",
    "\n",
    "$\\lnot\\text{P} \\lor \\lnot\\text{Q} \\overset{?}{\\equiv} \\lnot(\\text{P} \\land \\text{Q})$\n",
    "\n",
    "Proof by truth table\n",
    "\n",
    "$\n",
    "\\begin{array}{cc|ccccc}\n",
    "\\text{P} & \\text{Q} & \\lnot\\text{P} & \\lnot\\text{Q} & \\lnot\\text{P} \\lor \\lnot\\text{Q} & \\text{P} \\land \\text{Q} & \\lnot(\\text{P} \\land \\text{Q}) \\\\\n",
    "\\hline\n",
    "\\text{T} & \\text{T} & \\text{F} & \\text{F} & \\text{F} & \\text{T} & \\text{F} \\\\\n",
    "\\text{T} & \\text{F} & \\text{F} & \\text{T} & \\text{T} & \\text{F} & \\text{T} \\\\\n",
    "\\text{F} & \\text{T} & \\text{T} & \\text{F} & \\text{T} & \\text{F} & \\text{T} \\\\\n",
    "\\text{F} & \\text{F} & \\text{T} & \\text{T} & \\text{T} & \\text{F} & \\text{T} \\\\\n",
    "\\end{array}\n",
    "$\n",
    "\n",
    "Yes\n",
    "\n",
    "$\\therefore \\lnot\\text{P} \\lor \\lnot\\text{Q} \\equiv \\lnot(\\text{P} \\land \\text{Q})$\n",
    "\n",
    "$\\blacksquare$"
   ]
  },
  {
   "cell_type": "markdown",
   "metadata": {},
   "source": [
    "---"
   ]
  },
  {
   "cell_type": "markdown",
   "metadata": {},
   "source": [
    "Are the following propositions logically equivalent?\n",
    "\n",
    "$\\text{P} \\leftrightarrow \\text{Q} \\overset{?}{\\equiv} \\text{P} \\rightarrow \\text{Q}$\n",
    "\n",
    "Proof by truth table\n",
    "\n",
    "$\n",
    "\\begin{array}{cc|cc}\n",
    "\\text{P} & \\text{Q} & \\text{P} \\leftrightarrow \\text{Q} & \\text{P} \\rightarrow \\text{Q} \\\\\n",
    "\\hline\n",
    "\\text{T} & \\text{T} & \\text{T} & \\text{T} \\\\\n",
    "\\text{T} & \\text{F} & \\text{F} & \\text{F} \\\\\n",
    "\\text{F} & \\text{T} & \\color{red}\\text{F} & \\color{red}\\text{T} \\\\\n",
    "\\text{F} & \\text{F} & \\text{T} & \\text{T} \\\\\n",
    "\\end{array}\n",
    "$\n",
    "\n",
    "No\n",
    "\n",
    "$\\therefore \\text{P} \\leftrightarrow \\text{Q} \\not\\equiv \\text{P} \\rightarrow \\text{Q}$\n",
    "\n",
    "$\\blacksquare$"
   ]
  },
  {
   "cell_type": "markdown",
   "metadata": {},
   "source": [
    "---"
   ]
  },
  {
   "cell_type": "markdown",
   "metadata": {},
   "source": [
    "Are the following propositions logically equivalent?\n",
    "\n",
    "$(\\text{P} \\lor \\lnot\\text{Q}) \\rightarrow \\text{R} \\overset{?}{\\equiv} (\\text{P} \\leftrightarrow \\text{Q}) \\rightarrow \\text{R} \\overset{?}{\\equiv} \\lnot\\text{R} \\rightarrow (\\lnot\\text{P} \\land \\text{Q})$\n",
    "\n",
    "Proof by truth table\n",
    "\n",
    "$\n",
    "\\begin{array}{ccc|c|c|c}\n",
    "\\text{P} & \\text{Q} & \\text{R} & (\\text{P} \\lor \\lnot\\text{Q}) \\rightarrow \\text{R} & (\\text{P} \\leftrightarrow \\text{Q}) \\rightarrow \\text{R} & \\lnot\\text{R} \\rightarrow (\\lnot\\text{P} \\land \\text{Q}) \\\\\n",
    "\\hline\n",
    "\\text{T} & \\text{T} & \\text{T} & \\text{T} & \\text{T} & \\text{T} \\\\\n",
    "\\text{T} & \\text{T} & \\text{F} & \\text{F} & \\text{F} & \\text{F} \\\\\n",
    "\\text{T} & \\text{F} & \\text{T} & \\text{T} & \\text{T} & \\text{T} \\\\\n",
    "\\text{T} & \\text{F} & \\text{F} & \\color{blue}\\text{F} & \\color{red}\\text{T} & \\color{blue}\\text{F} \\\\\n",
    "\\text{F} & \\text{T} & \\text{T} & \\text{T} & \\text{T} & \\text{T} \\\\\n",
    "\\text{F} & \\text{T} & \\text{F} & \\text{T} & \\text{T} & \\text{T} \\\\\n",
    "\\text{F} & \\text{F} & \\text{T} & \\text{T} & \\text{T} & \\text{T} \\\\\n",
    "\\text{F} & \\text{F} & \\text{F} & \\text{F} & \\text{F} & \\text{F} \\\\\n",
    "\\end{array}\n",
    "$\n",
    "\n",
    "$\\therefore (\\text{P} \\lor \\lnot\\text{Q}) \\rightarrow \\text{R} \\equiv \\lnot\\text{R} \\rightarrow (\\lnot\\text{P} \\land \\text{Q})$\n",
    "\n",
    "$\\blacksquare$"
   ]
  },
  {
   "cell_type": "markdown",
   "metadata": {},
   "source": [
    "---"
   ]
  },
  {
   "cell_type": "markdown",
   "metadata": {},
   "source": [
    "Are the following propositions logically equivalent?\n",
    "\n",
    "$\\lnot(\\text{P} \\lor \\text{Q}) \\lor (\\lnot\\text{P} \\land \\text{Q}) \\overset{?}{\\equiv} \\lnot\\text{P}$\n",
    "\n",
    "Proof by substitution\n",
    "\n",
    "$\n",
    "\\begin{aligned}\n",
    "\\lnot(\\text{P} \\lor \\text{Q}) \\lor (\\lnot\\text{P} \\land \\text{Q}) && \\\\\n",
    "(\\lnot\\text{P} \\land \\lnot\\text{Q}) \\lor (\\lnot\\text{P} \\land \\text{Q}) && \\text{De Morgan} \\\\\n",
    "\\lnot\\text{P} \\land (\\lnot\\text{Q} \\lor \\text{Q}) && \\text{distributivity} \\\\\n",
    "\\lnot\\text{P} \\land \\text{T} && \\text{complementarity} \\\\\n",
    "\\lnot\\text{P} && \\text{identity} \\\\\n",
    "\\end{aligned}\n",
    "$\n",
    "\n",
    "Yes\n",
    "\n",
    "$\\therefore \\lnot(\\text{P} \\lor \\text{Q}) \\lor (\\lnot\\text{P} \\land \\text{Q}) \\equiv \\lnot\\text{P}$\n",
    "\n",
    "$\\blacksquare$"
   ]
  },
  {
   "cell_type": "markdown",
   "metadata": {},
   "source": [
    "---"
   ]
  },
  {
   "cell_type": "markdown",
   "metadata": {},
   "source": [
    "Are the following propositions logically equivalent?\n",
    "\n",
    "$\\lnot(\\text{P} \\rightarrow \\text{Q}) \\overset{?}{\\equiv} \\text{P} \\land \\lnot\\text{Q}$\n",
    "\n",
    "Proof by substitution\n",
    "\n",
    "$\n",
    "\\begin{aligned}\n",
    "\\lnot(\\text{P} \\rightarrow \\text{Q}) && \\\\\n",
    "\\lnot(\\lnot\\text{P} \\lor \\text{Q}) && \\text{conditionality} \\\\\n",
    "\\lnot\\lnot\\text{P} \\land \\lnot\\text{Q} && \\text{De Morgan} \\\\\n",
    "\\text{P} \\land \\lnot\\text{Q} && \\text{double negation} \\\\\n",
    "\\end{aligned}\n",
    "$\n",
    "\n",
    "Yes\n",
    "\n",
    "$\\therefore \\lnot(\\text{P} \\rightarrow \\text{Q}) \\equiv \\text{P} \\land \\lnot\\text{Q}$\n",
    "\n",
    "$\\blacksquare$"
   ]
  },
  {
   "cell_type": "markdown",
   "metadata": {},
   "source": [
    "---"
   ]
  }
 ],
 "metadata": {
  "language_info": {
   "name": "python"
  },
  "orig_nbformat": 4
 },
 "nbformat": 4,
 "nbformat_minor": 2
}
