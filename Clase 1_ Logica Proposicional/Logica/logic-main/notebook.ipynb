{
 "cells": [
  {
   "cell_type": "markdown",
   "metadata": {},
   "source": [
    "# Logic"
   ]
  },
  {
   "cell_type": "markdown",
   "metadata": {},
   "source": [
    "---"
   ]
  },
  {
   "cell_type": "code",
   "execution_count": 6,
   "metadata": {},
   "outputs": [],
   "source": [
    "from itertools import product"
   ]
  },
  {
   "cell_type": "markdown",
   "metadata": {},
   "source": [
    "---"
   ]
  },
  {
   "cell_type": "markdown",
   "metadata": {},
   "source": [
    "## Propositional Logic"
   ]
  },
  {
   "cell_type": "markdown",
   "metadata": {},
   "source": [
    "### Boolean Values"
   ]
  },
  {
   "cell_type": "markdown",
   "metadata": {},
   "source": [
    "$\n",
    "\\begin{array}{c|c|c}\n",
    "& \\text{Arithmetic} & \\text{Boolean Logic} \\\\\n",
    "\\hline\n",
    "\\text{Values} & ..., -2, -1, 0, 1, 2, ... & \\text{T}, \\text{F} \\\\\n",
    "\\hline\n",
    "\\text{Operators} & +, -, \\times, \\div & \\land, \\lor, \\lnot \\\\\n",
    "\\end{array}\n",
    "$"
   ]
  },
  {
   "cell_type": "markdown",
   "metadata": {},
   "source": [
    "Unlike the indefinite (or infinite) number of values on which arithmetic operates, propositional logic only deals in two Boolean values: true and false.\n",
    "\n",
    "$\n",
    "\\begin{array}{c|c|c|c}\n",
    "\\text{Boolean} & \\text{binary} & \\text{Python} & \\text{physical} \\\\\n",
    "\\hline\n",
    "\\text{true, T}  & 1 & \\text{True}  & \\text{high voltage} \\\\\n",
    "\\text{false, F} & 0 & \\text{False} & \\text{low voltage}  \\\\\n",
    "\\end{array}\n",
    "$"
   ]
  },
  {
   "cell_type": "code",
   "execution_count": 19,
   "metadata": {},
   "outputs": [
    {
     "name": "stdout",
     "output_type": "stream",
     "text": [
      "<class 'bool'>\n",
      "<class 'bool'>\n"
     ]
    }
   ],
   "source": [
    "print(type(True))\n",
    "print(type(False))"
   ]
  },
  {
   "cell_type": "markdown",
   "metadata": {},
   "source": [
    "### Conjunction (and)"
   ]
  },
  {
   "cell_type": "markdown",
   "metadata": {},
   "source": [
    "Conjunction is represented by the symbol $\\land$.\n",
    "\n",
    "Definition of the binary operation\n",
    "\n",
    "$\n",
    "\\begin{array}{c|cc}\n",
    "\\land & \\text{T} & \\text{F} \\\\\n",
    "\\hline\n",
    "\\text{T} & \\text{T} & \\text{F} \\\\\n",
    "\\text{F} & \\text{F} & \\text{F} \\\\\n",
    "\\end{array}\n",
    "$\n",
    "\n",
    "Binary truth table\n",
    "\n",
    "$\n",
    "\\begin{array}{cc|c}\n",
    "\\text{P} & \\text{Q} & \\text{P} \\land \\text{Q} \\\\\n",
    "\\hline\n",
    "\\text{T} & \\text{T} & \\text{T} \\\\\n",
    "\\text{T} & \\text{F} & \\text{F} \\\\\n",
    "\\text{F} & \\text{T} & \\text{F} \\\\\n",
    "\\text{F} & \\text{F} & \\text{F} \\\\\n",
    "\\end{array}\n",
    "$\n",
    "\n",
    "English\n",
    "* $\\text{P}$ The sky is blue.\n",
    "* $\\text{Q}$ The moon is full.\n",
    "* $\\text{P} \\land \\text{Q}$\n",
    "  * The sky is blue and the moon is full.\n",
    "  * The sky is blue, but the moon is full.\n",
    "  * Despite the fact that the sky is blue, the moon is full.\n",
    "  * Although the sky is blue, the moon is full."
   ]
  },
  {
   "cell_type": "code",
   "execution_count": 9,
   "metadata": {},
   "outputs": [
    {
     "name": "stdout",
     "output_type": "stream",
     "text": [
      "True  and True  is True\n",
      "True  and False is False\n",
      "False and True  is False\n",
      "False and False is False\n"
     ]
    }
   ],
   "source": [
    "for P, Q in product((True, False), repeat=2):\n",
    "  print(f\"{str(P):<5} and {str(Q):<5} is {P and Q}\")"
   ]
  },
  {
   "cell_type": "markdown",
   "metadata": {},
   "source": [
    "The conjunction of $n$ propositional variables is true if and only if each variable is true. In other words, if at least one variable of a conjunction is false then the conjunction is false, otherwise it's true."
   ]
  },
  {
   "cell_type": "code",
   "execution_count": 29,
   "metadata": {},
   "outputs": [
    {
     "name": "stdout",
     "output_type": "stream",
     "text": [
      "True\n",
      "True\n",
      "False\n"
     ]
    }
   ],
   "source": [
    "P = True\n",
    "Q = True\n",
    "R = True\n",
    "print(P and Q and R) # all((P, Q, R))\n",
    "\n",
    "A = B = C = D = E = F = G = True\n",
    "print(A and B and C and D and E and F and G)\n",
    "\n",
    "G = False\n",
    "print(A and B and C and D and E and F and G)"
   ]
  },
  {
   "cell_type": "markdown",
   "metadata": {},
   "source": [
    "### Inclusive Disjunction (or)"
   ]
  },
  {
   "cell_type": "markdown",
   "metadata": {},
   "source": [
    "Inclusive disjunction is represented by the symbol $\\lor$.\n",
    "\n",
    "Definition\n",
    "\n",
    "$\n",
    "\\begin{array}{c|cc} \\lor & \\text{T} & \\text{F} \\\\\n",
    "\\hline\n",
    "\\text{T} & \\text{T} & \\text{T} \\\\\n",
    "\\text{F} & \\text{T} & \\text{F} \\\\\n",
    "\\end{array}\n",
    "$\n",
    "\n",
    "Truth Table\n",
    "\n",
    "$\n",
    "\\begin{array}{cc|c}\n",
    "\\text{P} & \\text{Q} & \\text{P} \\lor \\text{Q} \\\\\n",
    "\\hline\n",
    "\\text{T} & \\text{T} & \\text{T} \\\\\n",
    "\\text{T} & \\text{F} & \\text{T} \\\\\n",
    "\\text{F} & \\text{T} & \\text{T} \\\\\n",
    "\\text{F} & \\text{F} & \\text{F} \\\\\n",
    "\\end{array}\n",
    "$\n",
    "\n",
    "English\n",
    "* $\\text{P}$ The sky is blue.\n",
    "* $\\text{Q}$ The moon is full.\n",
    "* $\\text{P} \\lor \\text{Q}$ The sky is blue or the moon is full, or both."
   ]
  },
  {
   "cell_type": "code",
   "execution_count": 8,
   "metadata": {},
   "outputs": [
    {
     "name": "stdout",
     "output_type": "stream",
     "text": [
      "True  or True  is True\n",
      "True  or False is True\n",
      "False or True  is True\n",
      "False or False is False\n"
     ]
    }
   ],
   "source": [
    "for P, Q in product((True, False), repeat=2):\n",
    "  print(f\"{str(P):<5} or {str(Q):<5} is {P or Q}\")"
   ]
  },
  {
   "cell_type": "markdown",
   "metadata": {},
   "source": [
    "The inclusive disjunction of $n$ propositional variables is true if at least one variable is true. In other words, if no variable of an inclusive disjunction is true then the inclusive disjunction is false, otherwise it's true."
   ]
  },
  {
   "cell_type": "code",
   "execution_count": 30,
   "metadata": {},
   "outputs": [
    {
     "name": "stdout",
     "output_type": "stream",
     "text": [
      "True\n",
      "False\n",
      "True\n"
     ]
    }
   ],
   "source": [
    "P = True\n",
    "Q = True\n",
    "R = True\n",
    "print(P or Q or R) # all((P, Q, R))\n",
    "\n",
    "A = B = C = D = E = F = G = False\n",
    "print(A or B or C or D or E or F or G)\n",
    "\n",
    "G = True\n",
    "print(A or B or C or D or E or F or G)"
   ]
  },
  {
   "cell_type": "markdown",
   "metadata": {},
   "source": [
    "### Negation"
   ]
  },
  {
   "cell_type": "markdown",
   "metadata": {},
   "source": [
    "Negation is represented by the symbol $\\lnot$. Negation is a unary function because it takes one input value.\n",
    "\n",
    "Definition of the unary operation\n",
    "\n",
    "$\n",
    "\\begin{array}{c|c} & \\lnot \\\\\n",
    "\\hline\n",
    "\\text{T} & \\text{F} \\\\\n",
    "\\text{F} & \\text{T} \\\\\n",
    "\\end{array}\n",
    "$\n",
    "\n",
    "Unary truth table\n",
    "\n",
    "$\n",
    "\\begin{array}{c|c}\n",
    "\\text{P} & \\lnot \\text{P} \\\\\n",
    "\\hline\n",
    "\\text{T} & \\text{F} \\\\\n",
    "\\text{F} & \\text{T} \\\\\n",
    "\\end{array}\n",
    "$"
   ]
  },
  {
   "cell_type": "code",
   "execution_count": 18,
   "metadata": {},
   "outputs": [
    {
     "name": "stdout",
     "output_type": "stream",
     "text": [
      "not True  is False\n",
      "not False is True\n"
     ]
    }
   ],
   "source": [
    "for P in (True, False):\n",
    "  print(f\"not {str(P):<5} is {not P}\")"
   ]
  },
  {
   "cell_type": "markdown",
   "metadata": {},
   "source": [
    "### Exclusive Disjunction (either or but not both)"
   ]
  },
  {
   "cell_type": "markdown",
   "metadata": {},
   "source": [
    "Definition of the binary operation\n",
    "\n",
    "$\n",
    "\\begin{array}{c|cc} \\oplus & \\text{T} & \\text{F} \\\\\n",
    "\\hline\n",
    "\\text{T} & \\text{F} & \\text{T} \\\\\n",
    "\\text{F} & \\text{T} & \\text{F} \\\\\n",
    "\\end{array}\n",
    "$\n",
    "\n",
    "Binary truth table\n",
    "\n",
    "$\n",
    "\\begin{array}{cc|c}\n",
    "\\text{P} & \\text{Q} & \\text{P} \\oplus \\text{Q} \\\\\n",
    "\\hline\n",
    "\\text{T} & \\text{T} & \\text{F} \\\\\n",
    "\\text{T} & \\text{F} & \\text{T} \\\\\n",
    "\\text{F} & \\text{T} & \\text{T} \\\\\n",
    "\\text{F} & \\text{F} & \\text{F} \\\\\n",
    "\\end{array}\n",
    "$\n",
    "\n",
    "English\n",
    "* $\\text{P}$ The sky is blue.\n",
    "* $\\text{Q}$ The moon is full.\n",
    "* $\\text{P} \\oplus \\text{Q}$ The sky is blue or the moon is full, but not both."
   ]
  },
  {
   "cell_type": "code",
   "execution_count": 14,
   "metadata": {},
   "outputs": [
    {
     "name": "stdout",
     "output_type": "stream",
     "text": [
      "False\n",
      "True\n",
      "True\n",
      "False\n"
     ]
    }
   ],
   "source": [
    "def xor (P: bool,\n",
    "         Q: bool) -> bool:\n",
    "  return    (P and not Q) \\\n",
    "         or (Q and not P)\n",
    "\n",
    "for P, Q in product((True, False), repeat=2):\n",
    "  print(xor(P, Q))"
   ]
  },
  {
   "cell_type": "markdown",
   "metadata": {},
   "source": [
    "### Material Conditional/Implication (if then)"
   ]
  },
  {
   "cell_type": "markdown",
   "metadata": {},
   "source": [
    "Definition\n",
    "\n",
    "$\n",
    "\\begin{array}{c|cc} \\rightarrow & \\text{T} & \\text{F} \\\\\n",
    "\\hline\n",
    "\\text{T} & \\text{T} & \\text{F} \\\\\n",
    "\\text{F} & \\text{T} & \\text{T} \\\\\n",
    "\\end{array}\n",
    "$\n",
    "\n",
    "Truth Table\n",
    "\n",
    "$\n",
    "\\begin{array}{cc|c}\n",
    "\\text{P} & \\text{Q} & \\text{P} \\rightarrow \\text{Q} \\\\\n",
    "\\hline\n",
    "\\text{T} & \\text{T} & \\text{T} \\\\\n",
    "\\text{T} & \\text{F} & \\text{F} \\\\\n",
    "\\text{F} & \\text{T} & \\text{T} \\\\\n",
    "\\text{F} & \\text{F} & \\text{T} \\\\\n",
    "\\end{array}\n",
    "$\n",
    "\n",
    "English\n",
    "* $\\text{P}$ The sky is blue.\n",
    "* $\\text{Q}$ The moon is full.\n",
    "* $\\text{P} \\rightarrow \\text{Q}$ If the sky is blue, then the moon is full. (If P, then Q)\n",
    "  * If the sky is blue the moon is full. (If P, Q)\n",
    "  * The moon is full if the sky is blue. (Q if P)\n",
    "  * The sky is blue implies the moon is full. (P implies Q)\n",
    "  * The sky is blue only if the moon is full. (P only if Q)\n",
    "  * The sky is blue is sufficient for the moon is full. (P is sufficient for Q)\n",
    "  * The moon is full is necessary for the sky is blue. (Q is necessary for P)"
   ]
  },
  {
   "cell_type": "code",
   "execution_count": 15,
   "metadata": {},
   "outputs": [
    {
     "name": "stdout",
     "output_type": "stream",
     "text": [
      "True\n",
      "True\n",
      "False\n",
      "True\n"
     ]
    }
   ],
   "source": [
    "def ifthen (P: bool,\n",
    "            Q: bool) -> bool:\n",
    "  return not (P and not Q)\n",
    "\n",
    "for P, Q in product((False, True), repeat=2):\n",
    "  print(ifthen(P, Q))"
   ]
  },
  {
   "cell_type": "markdown",
   "metadata": {},
   "source": [
    "#### Converse Implication"
   ]
  },
  {
   "cell_type": "markdown",
   "metadata": {},
   "source": [
    "Definition\n",
    "\n",
    "$\n",
    "\\begin{array}{c|cc} \\leftarrow & \\text{T} & \\text{F} \\\\\n",
    "\\hline\n",
    "\\text{T} & \\text{T} & \\text{T} \\\\\n",
    "\\text{F} & \\text{T} & \\text{F} \\\\\n",
    "\\end{array}\n",
    "$\n",
    "\n",
    "Truth Table\n",
    "\n",
    "$\n",
    "\\begin{array}{cc|c}\n",
    "\\text{P} & \\text{Q} & \\text{P} \\leftarrow \\text{Q} \\\\\n",
    "\\hline\n",
    "\\text{T} & \\text{T} & \\text{T} \\\\\n",
    "\\text{T} & \\text{F} & \\text{T} \\\\\n",
    "\\text{F} & \\text{T} & \\text{F} \\\\\n",
    "\\text{F} & \\text{F} & \\text{T} \\\\\n",
    "\\end{array}\n",
    "$\n",
    "\n",
    "English\n",
    "* $\\text{P}$ The sky is blue.\n",
    "* $\\text{Q}$ The moon is full.\n",
    "* $\\text{P} \\leftarrow \\text{Q}$ The sky is blue if the moon is full. (P if Q)"
   ]
  },
  {
   "cell_type": "markdown",
   "metadata": {},
   "source": [
    "#### Contrapositive"
   ]
  },
  {
   "cell_type": "markdown",
   "metadata": {},
   "source": [
    "If not q, then not p.\n",
    "\n",
    "$\\text{P} \\rightarrow \\text{Q} \\overset{?}{\\equiv} \\lnot\\text{Q} \\rightarrow \\lnot\\text{P}$\n",
    "\n",
    "Proof by substitution\n",
    "\n",
    "$\n",
    "\\begin{aligned}\n",
    "\\text{P} \\rightarrow \\text{Q} && \\\\\n",
    "(\\lnot\\text{P} \\lor \\text{Q}) && \\text{conditionality} \\\\\n",
    "(\\text{Q} \\lor \\lnot\\text{P}) && \\text{commutativity} \\\\\n",
    "(\\lnot\\lnot\\text{Q} \\lor \\lnot\\text{P}) && \\text{double negation} \\\\\n",
    "(\\lnot\\text{Q} \\rightarrow \\lnot\\text{P}) && \\text{conditionality} \\\\\n",
    "\\end{aligned}\n",
    "$\n",
    "\n",
    "$\\therefore \\text{P} \\rightarrow \\text{Q} \\equiv \\lnot\\text{Q} \\rightarrow \\lnot\\text{P}$\n",
    "\n",
    "$\\blacksquare$"
   ]
  },
  {
   "cell_type": "markdown",
   "metadata": {},
   "source": [
    "#### Inverse"
   ]
  },
  {
   "cell_type": "markdown",
   "metadata": {},
   "source": [
    "If not p, then not q."
   ]
  },
  {
   "cell_type": "markdown",
   "metadata": {},
   "source": [
    "### Biconditional"
   ]
  },
  {
   "cell_type": "markdown",
   "metadata": {},
   "source": [
    "Definition\n",
    "\n",
    "$\n",
    "\\begin{array}{c|cc} \\leftrightarrow & \\text{T} & \\text{F} \\\\\n",
    "\\hline\n",
    "\\text{T} & \\text{T} & \\text{F} \\\\\n",
    "\\text{F} & \\text{F} & \\text{T} \\\\\n",
    "\\end{array}\n",
    "$\n",
    "\n",
    "Truth Table\n",
    "\n",
    "$\n",
    "\\begin{array}{cc|c}\n",
    "\\text{P} & \\text{Q} & \\text{P} \\leftrightarrow \\text{Q} \\\\\n",
    "\\hline\n",
    "\\text{T} & \\text{T} & \\text{T} \\\\\n",
    "\\text{T} & \\text{F} & \\text{F} \\\\\n",
    "\\text{F} & \\text{T} & \\text{F} \\\\\n",
    "\\text{F} & \\text{F} & \\text{T} \\\\\n",
    "\\end{array}\n",
    "$\n",
    "\n",
    "English\n",
    "* $\\text{P}$ The sky is blue.\n",
    "* $\\text{Q}$ The moon is full.\n",
    "* $\\text{P} \\leftrightarrow \\text{Q}$ The sky is blue if and only if the moon is full. (P if and only if Q)"
   ]
  },
  {
   "cell_type": "markdown",
   "metadata": {},
   "source": [
    "### Tautology"
   ]
  },
  {
   "cell_type": "markdown",
   "metadata": {},
   "source": [
    "Definition\n",
    "\n",
    "$\n",
    "\\begin{array}{c|cc} \\top & \\text{T} & \\text{F} \\\\\n",
    "\\hline\n",
    "\\text{T} & \\text{T} & \\text{T} \\\\\n",
    "\\text{F} & \\text{T} & \\text{T} \\\\\n",
    "\\end{array}\n",
    "$\n",
    "\n",
    "Truth Table\n",
    "\n",
    "$\n",
    "\\begin{array}{cc|c}\n",
    "\\text{P} & \\text{Q} & \\text{P} \\top \\text{Q} \\\\\n",
    "\\hline\n",
    "\\text{T} & \\text{T} & \\text{T} \\\\\n",
    "\\text{T} & \\text{F} & \\text{T} \\\\\n",
    "\\text{F} & \\text{T} & \\text{T} \\\\\n",
    "\\text{F} & \\text{F} & \\text{T} \\\\\n",
    "\\end{array}\n",
    "$"
   ]
  },
  {
   "cell_type": "code",
   "execution_count": 11,
   "metadata": {},
   "outputs": [
    {
     "name": "stdout",
     "output_type": "stream",
     "text": [
      "True\n",
      "True\n",
      "True\n",
      "True\n"
     ]
    }
   ],
   "source": [
    "def tautology (a: bool,\n",
    "               b: bool) -> bool:\n",
    "  return True\n",
    "\n",
    "for P, Q in product((True, False), repeat=2):\n",
    "  print(tautology(P, Q))"
   ]
  },
  {
   "cell_type": "markdown",
   "metadata": {},
   "source": [
    "### Contradiction"
   ]
  },
  {
   "cell_type": "markdown",
   "metadata": {},
   "source": [
    "Definition\n",
    "\n",
    "$\n",
    "\\begin{array}{c|cc} \\bot & \\text{T} & \\text{F} \\\\\n",
    "\\hline\n",
    "\\text{T} & \\text{F} & \\text{F} \\\\\n",
    "\\text{F} & \\text{F} & \\text{F} \\\\\n",
    "\\end{array}\n",
    "$\n",
    "\n",
    "Truth Table\n",
    "\n",
    "$\n",
    "\\begin{array}{cc|c}\n",
    "\\text{P} & \\text{Q} & \\text{P} \\bot \\text{Q} \\\\\n",
    "\\hline\n",
    "\\text{T} & \\text{T} & \\text{F} \\\\\n",
    "\\text{T} & \\text{F} & \\text{F} \\\\\n",
    "\\text{F} & \\text{T} & \\text{F} \\\\\n",
    "\\text{F} & \\text{F} & \\text{F} \\\\\n",
    "\\end{array}\n",
    "$"
   ]
  },
  {
   "cell_type": "code",
   "execution_count": 12,
   "metadata": {},
   "outputs": [
    {
     "name": "stdout",
     "output_type": "stream",
     "text": [
      "False\n",
      "False\n",
      "False\n",
      "False\n"
     ]
    }
   ],
   "source": [
    "def contradiction (a: bool,\n",
    "                   b: bool) -> bool:\n",
    "  return False\n",
    "\n",
    "for P, Q in product((True, False), repeat=2):\n",
    "  print(contradiction(P, Q))"
   ]
  },
  {
   "cell_type": "markdown",
   "metadata": {},
   "source": [
    "#### Summary"
   ]
  },
  {
   "cell_type": "markdown",
   "metadata": {},
   "source": [
    "##### Unary Operations"
   ]
  },
  {
   "cell_type": "markdown",
   "metadata": {},
   "source": [
    "$\n",
    "\\begin{array}{c|ccl}\n",
    "\\text{P} & 0 & 1 \\\\\n",
    "\\hline\n",
    "\\bot & 0 & 0 & \\text{contradiction (FALSE)} \\\\\n",
    "\\text{P} & 0 & 1 & \\text{identity} \\\\\n",
    "\\lnot \\text{P} & 1 & 0 & \\text{negation (NOT)} \\\\\n",
    "\\top & 1 & 1 & \\text{tautology (TRUE)} \\\\\n",
    "\\end{array}\n",
    "$"
   ]
  },
  {
   "cell_type": "markdown",
   "metadata": {},
   "source": [
    "##### Binary Operations"
   ]
  },
  {
   "cell_type": "markdown",
   "metadata": {},
   "source": [
    "$\n",
    "\\begin{array}{c|ccccl}\n",
    "\\text{P} & 0 & 0 & 1 & 1 \\\\\n",
    "\\text{Q} & 0 & 1 & 0 & 1 \\\\\n",
    "\\hline\n",
    "\\bot & 0 & 0 & 0 & 0 & \\text{contradiction (FALSE)} \\\\\n",
    "\\land & 0 & 0 & 0 & 1 & \\text{conjunction (AND)} \\\\\n",
    "\\not\\rightarrow & 0 & 0 & 1 & 0 & \\text{abjunction, nonimplication} \\\\\n",
    "\\text{P} & 0 & 0 & 1 & 1 & \\text{identity} \\\\\n",
    "\\not\\leftarrow & 0 & 1 & 0 & 0 & \\text{converse nonimplication} \\\\\n",
    "\\text{Q} & 0 & 1 & 0 & 1 & \\text{identity} \\\\\n",
    "\\oplus & 0 & 1 & 1 & 0 & \\text{exclusive disjunction (XOR)} \\\\\n",
    "\\lor & 0 & 1 & 1 & 1 & \\text{inclusive disjunction (OR)} \\\\\n",
    "\\downarrow & 1 & 0 & 0 & 0 & \\text{not or (NOR)} \\\\\n",
    "\\leftrightarrow & 1 & 0 & 0 & 1 & \\text{biconditional (XNOR)} \\\\\n",
    "\\lnot \\text{Q} & 1 & 0 & 1 & 0 & \\text{negation (NOT)} \\\\\n",
    "\\leftarrow & 1 & 0 & 1 & 1 & \\text{converse implication/conditional} \\\\\n",
    "\\lnot \\text{P} & 1 & 1 & 0 & 0 & \\text{negation (NOT)} \\\\\n",
    "\\rightarrow & 1 & 1 & 0 & 1 & \\text{implication/conditional} \\\\\n",
    "\\uparrow & 1 & 1 & 1 & 0 & \\text{not and (NAND)} \\\\\n",
    "\\top & 1 & 1 & 1 & 1 & \\text{tautology (TRUE)} \\\\\n",
    "\\end{array}\n",
    "$"
   ]
  },
  {
   "cell_type": "markdown",
   "metadata": {},
   "source": [
    "$\n",
    "\\begin{array}{cc|ccc} P & Q & P \\land Q & P \\lor Q & \\lnot P \\\\\n",
    "\\hline\n",
    "\\text{T} & \\text{T} & \\text{T} & \\text{T} & \\text{F} \\\\\n",
    "\\text{T} & \\text{F} & \\text{F} & \\text{T} \\\\\n",
    "\\text{F} & \\text{T} & \\text{F} & \\text{T} & \\text{T} \\\\\n",
    "\\text{F} & \\text{F} & \\text{F} & \\text{F} \\\\\n",
    "\\end{array}\n",
    "$"
   ]
  },
  {
   "cell_type": "markdown",
   "metadata": {},
   "source": [
    "#### Order of Operations"
   ]
  },
  {
   "cell_type": "markdown",
   "metadata": {},
   "source": [
    "1. negation\n",
    "2. conjunction\n",
    "3. disjunction"
   ]
  },
  {
   "cell_type": "markdown",
   "metadata": {},
   "source": [
    "#### Number of operations"
   ]
  },
  {
   "cell_type": "markdown",
   "metadata": {},
   "source": [
    "How many n-ary operations are there? The number of values raised to the number of input tuples.\n",
    "* $2^2=4$ unary operations (two values, two inputs)\n",
    "* $2^{2^2}=16$ binary operations (two values, four input pairs)\n",
    "* $2^{2^3}=256$ ternary operations (two values, eight input triples)"
   ]
  },
  {
   "cell_type": "code",
   "execution_count": 21,
   "metadata": {},
   "outputs": [
    {
     "data": {
      "text/plain": [
       "[(0, 0), (0, 1), (1, 0), (1, 1)]"
      ]
     },
     "execution_count": 21,
     "metadata": {},
     "output_type": "execute_result"
    }
   ],
   "source": [
    "list(product((0,1), repeat=2))"
   ]
  },
  {
   "cell_type": "code",
   "execution_count": 23,
   "metadata": {},
   "outputs": [
    {
     "data": {
      "text/plain": [
       "[(0, 0, 0, 0),\n",
       " (0, 0, 0, 1),\n",
       " (0, 0, 1, 0),\n",
       " (0, 0, 1, 1),\n",
       " (0, 1, 0, 0),\n",
       " (0, 1, 0, 1),\n",
       " (0, 1, 1, 0),\n",
       " (0, 1, 1, 1),\n",
       " (1, 0, 0, 0),\n",
       " (1, 0, 0, 1),\n",
       " (1, 0, 1, 0),\n",
       " (1, 0, 1, 1),\n",
       " (1, 1, 0, 0),\n",
       " (1, 1, 0, 1),\n",
       " (1, 1, 1, 0),\n",
       " (1, 1, 1, 1)]"
      ]
     },
     "execution_count": 23,
     "metadata": {},
     "output_type": "execute_result"
    }
   ],
   "source": [
    "list(product((0,1), repeat=2**2))"
   ]
  },
  {
   "cell_type": "markdown",
   "metadata": {},
   "source": [
    "#### n-ary"
   ]
  },
  {
   "cell_type": "markdown",
   "metadata": {},
   "source": [
    "$\n",
    "\\begin{array}{ccc|cc}\n",
    "\\text{P} & \\text{Q} & \\text{R} & \\text{P} \\land \\text{Q} \\land \\text{R} & \\text{P} \\lor \\text{Q} \\lor \\text{R} \\\\\n",
    "\\hline\n",
    "0 & 0 & 0 & 0 & 0 \\\\\n",
    "0 & 0 & 1 & 0 & 1 \\\\\n",
    "0 & 1 & 0 & 0 & 1 \\\\\n",
    "0 & 1 & 1 & 0 & 1 \\\\\n",
    "1 & 0 & 0 & 0 & 1 \\\\\n",
    "1 & 0 & 1 & 0 & 1 \\\\\n",
    "1 & 1 & 0 & 0 & 1 \\\\\n",
    "1 & 1 & 1 & 1 & 1 \\\\\n",
    "\\end{array}\n",
    "$\n",
    "\n",
    "$\n",
    "\\begin{array}{cccc|cc} P & Q & ... & R & P \\land Q \\land ... \\land R & P \\lor Q \\lor ... \\lor R \\\\\n",
    "\\hline\n",
    "0 & 0 & ... & 0 & 0 & 0 \\\\\n",
    "0 & 0 & ... & 1 & 0 & 1 \\\\\n",
    "\\vdots & \\vdots & \\ddots & \\vdots & \\vdots & \\vdots \\\\\n",
    "1 & 1 & ... & 0 & 0 & 1 \\\\\n",
    "1 & 1 & ... & 1 & 1 & 1 \\\\\n",
    "\\end{array}\n",
    "$"
   ]
  },
  {
   "cell_type": "markdown",
   "metadata": {},
   "source": [
    "### Propositional Tautology"
   ]
  },
  {
   "cell_type": "markdown",
   "metadata": {},
   "source": [
    "A propositional formula is a tautology if the formula is always true, regardless of the truth value of the individual propositions that it consists in.\n",
    "\n",
    "$\n",
    "\\begin{array}{cc|c}\n",
    "\\text{P} & \\lnot \\text{P} & \\text{P} \\lor \\lnot \\text{P} \\\\\n",
    "\\hline\n",
    "\\text{T} & \\text{F} & \\text{T} \\\\\n",
    "\\text{F} & \\text{T} & \\text{T} \\\\\n",
    "\\end{array}\n",
    "$\n",
    "\n",
    "$\n",
    "\\begin{array}{cc|c}\n",
    "\\text{P} & \\text{Q} & (\\text{P} \\land \\text{Q}) \\rightarrow \\text{P} \\\\\n",
    "\\hline\n",
    "\\text{T} & \\text{T} & \\text{T} \\\\\n",
    "\\text{T} & \\text{F} & \\text{T} \\\\\n",
    "\\text{F} & \\text{T} & \\text{T} \\\\\n",
    "\\text{F} & \\text{F} & \\text{T} \\\\\n",
    "\\end{array}\n",
    "$\n",
    "\n",
    "To demonstrate that a compound proposition is not a tautology requires only a single set of propositional variables that make the compound proposition false."
   ]
  },
  {
   "cell_type": "markdown",
   "metadata": {},
   "source": [
    "### Propositional Contradiction"
   ]
  },
  {
   "cell_type": "markdown",
   "metadata": {},
   "source": [
    "A propositional formula is a contradiction if the formula is always false, regardless of the truth value of the individual propositions that it consists in.\n",
    "\n",
    "$\n",
    "\\begin{array}{cc|c}\n",
    "\\text{P} & \\lnot \\text{P} & \\text{P} \\land \\lnot \\text{P} & \\text{P} \\leftrightarrow \\lnot \\text{P} \\\\\n",
    "\\hline\n",
    "\\text{T} & \\text{F} & \\text{F} & \\text{F} \\\\\n",
    "\\text{F} & \\text{T} & \\text{F} & \\text{F} \\\\\n",
    "\\end{array}\n",
    "$\n",
    "\n",
    "To demonstrate that a compound proposition is not a contradiction requires only a single set of propositional variables that make the compound proposition true."
   ]
  },
  {
   "cell_type": "markdown",
   "metadata": {},
   "source": [
    "### Logical Equivalence"
   ]
  },
  {
   "cell_type": "markdown",
   "metadata": {},
   "source": [
    "Two compound propositions are said to be logically equivalent if they have the same truth value regardless of the truth values of their individual propositions.\n",
    "\n",
    "$\n",
    "\\begin{array}{ccc}\n",
    "\\text{P} & \\lnot \\text{P} & \\lnot\\lnot\\text{P} \\\\\n",
    "\\hline\n",
    "\\text{T} & \\text{F} & \\text{T} \\\\\n",
    "\\text{F} & \\text{T} & \\text{F} \\\\\n",
    "\\end{array}\n",
    "$\n",
    "\n",
    "$\n",
    "\\text{P} \\equiv \\lnot\\lnot\\text{P}\n",
    "$\n",
    "\n",
    "Propositions $\\text{P}$ and $\\text{Q}$ are logically equivalent if and only if the proposition $\\text{P}\\leftrightarrow\\text{Q}$ is a tautology.\n",
    "\n",
    "To demonstrate that two propositions are not logically equivalent only requires demonstrating a particular set of truth values for their individual propositions that cause the two compound propositions to have different truth values."
   ]
  },
  {
   "cell_type": "markdown",
   "metadata": {},
   "source": [
    "### Laws of Propositional Logic"
   ]
  },
  {
   "cell_type": "markdown",
   "metadata": {},
   "source": [
    "$\n",
    "\\begin{aligned}\n",
    "\\text{Absorption} && \\begin{aligned} \\text{P} \\lor (\\text{P} \\land \\text{Q}) &\\equiv \\text{P} \\\\  \\text{P} \\land (\\text{P} \\lor \\text{Q}) &\\equiv \\text{P} \\end{aligned} \\\\\n",
    "\\text{Associativity} && \\begin{aligned} (\\text{P} \\lor \\text{Q}) \\lor \\text{R} &\\equiv \\text{P} \\lor (\\text{Q} \\lor \\text{R}) \\\\ (\\text{P} \\land \\text{Q}) \\land \\text{R} &\\equiv \\text{P} \\land (\\text{Q} \\land \\text{R}) \\end{aligned} \\\\\n",
    "\\text{Commutativity} && \\begin{aligned} \\text{P} \\lor \\text{Q} &\\equiv \\text{Q} \\lor \\text{P} \\\\ \\text{P} \\land \\text{Q} &\\equiv \\text{Q} \\land \\text{P} \\end{aligned} \\\\\n",
    "\\text{Complementarity} && \\begin{aligned} \\text{P} \\land \\lnot\\text{P} &\\equiv \\text{F} \\\\ \\lnot\\text{T} &\\equiv \\text{F} \\\\ \\text{P} \\lor \\lnot\\text{P} &\\equiv \\text{T} \\\\ \\lnot\\text{F} &\\equiv \\text{T} \\end{aligned} \\\\\n",
    "\\text{Conditionality} && \\begin{aligned} \\text{P} \\rightarrow \\text{Q} &\\equiv \\lnot\\text{P} \\lor \\text{Q} \\\\ \\text{P} \\leftrightarrow \\text{Q} &\\equiv (\\text{P} \\rightarrow \\text{Q}) \\land (\\text{Q} \\rightarrow \\text{P}) \\end{aligned} \\\\\n",
    "\\text{Distributivity} && \\begin{aligned} \\text{P} \\lor (\\text{Q} \\land \\text{R}) &\\equiv (\\text{P} \\lor \\text{Q}) \\land (\\text{P} \\lor \\text{R}) \\\\ \\text{P} \\land (\\text{Q} \\lor \\text{R}) &\\equiv (\\text{P} \\land \\text{Q}) \\lor (\\text{P} \\land \\text{R}) \\end{aligned} \\\\\n",
    "\\text{Idempotency} && \\begin{aligned} \\text{P} \\lor \\text{P} &\\equiv \\text{P} \\\\ \\text{P} \\land \\text{P} &\\equiv \\text{P} \\end{aligned} \\\\\n",
    "\\text{Identity} && \\begin{aligned} \\text{P} \\lor \\text{F} &\\equiv \\text{P} \\\\ \\text{P} \\land \\text{T} &\\equiv \\text{P} \\end{aligned} \\\\\n",
    "\\text{De Morgan's} && \\begin{aligned} \\lnot(\\text{P} \\lor \\text{Q}) &\\equiv \\lnot\\text{P} \\land \\lnot\\text{Q} \\\\ \\lnot(\\text{P} \\land \\text{Q}) &\\equiv \\lnot\\text{P} \\lor \\lnot\\text{Q} \\end{aligned} \\\\\n",
    "\\text{Domination} && \\begin{aligned} \\text{P} \\land \\text{F} &\\equiv \\text{F} \\\\ \\text{P} \\lor \\text{T} &\\equiv \\text{T} \\end{aligned} \\\\\n",
    "\\text{Double Negation} && \\begin{aligned} \\lnot\\lnot\\text{P} &\\equiv \\text{P} \\end{aligned} \\\\\n",
    "\\end{aligned}\n",
    "$"
   ]
  },
  {
   "cell_type": "markdown",
   "metadata": {},
   "source": [
    "#### De Morgan's Laws"
   ]
  },
  {
   "cell_type": "markdown",
   "metadata": {},
   "source": [
    "$\n",
    "\\begin{aligned}\n",
    "\\lnot(\\text{P} \\lor \\text{Q}) &\\equiv \\lnot\\text{P} \\land \\lnot\\text{Q} \\\\\n",
    "\\lnot(\\text{P} \\land \\text{Q}) &\\equiv \\lnot\\text{P} \\lor \\lnot\\text{Q} \\\\\n",
    "\\end{aligned}\n",
    "$\n",
    "\n",
    "Proof by truth table\n",
    "\n",
    "$\n",
    "\\begin{array}{cc|cc|ccc}\n",
    "\\text{P} & \\text{Q} & \\text{P} \\lor \\text{Q} & \\lnot(\\text{P} \\lor \\text{Q}) & \\lnot\\text{P} & \\lnot\\text{Q} & \\lnot\\text{P} \\land \\lnot\\text{Q} \\\\\n",
    "\\hline\n",
    "\\text{T} & \\text{T} & \\text{T} & \\color{blue}\\text{F} & \\text{F} & \\text{F} & \\color{blue}\\text{F} \\\\\n",
    "\\text{T} & \\text{F} & \\text{T} & \\color{blue}\\text{F} & \\text{F} & \\text{T} & \\color{blue}\\text{F} \\\\\n",
    "\\text{F} & \\text{T} & \\text{T} & \\color{blue}\\text{F} & \\text{T} & \\text{F} & \\color{blue}\\text{F} \\\\\n",
    "\\text{F} & \\text{F} & \\text{F} & \\color{blue}\\text{T} & \\text{T} & \\text{T} & \\color{blue}\\text{T} \\\\\n",
    "\\end{array}\n",
    "$\n",
    "\n",
    "$\n",
    "\\begin{array}{cc|cc|ccc}\n",
    "\\text{P} & \\text{Q} & \\text{P} \\land \\text{Q} & \\lnot(\\text{P} \\land \\text{Q}) & \\lnot\\text{P} & \\lnot\\text{Q} & \\lnot\\text{P} \\lor \\lnot\\text{Q} \\\\\n",
    "\\hline\n",
    "\\text{T} & \\text{T} & \\text{T} & \\color{blue}\\text{F} & \\text{F} & \\text{F} & \\color{blue}\\text{F} \\\\\n",
    "\\text{T} & \\text{F} & \\text{F} & \\color{blue}\\text{T} & \\text{F} & \\text{T} & \\color{blue}\\text{T} \\\\\n",
    "\\text{F} & \\text{T} & \\text{F} & \\color{blue}\\text{T} & \\text{T} & \\text{F} & \\color{blue}\\text{T} \\\\\n",
    "\\text{F} & \\text{F} & \\text{F} & \\color{blue}\\text{T} & \\text{T} & \\text{T} & \\color{blue}\\text{T} \\\\\n",
    "\\end{array}\n",
    "$\n",
    "\n",
    "$\n",
    "\\therefore\n",
    "\\begin{aligned}\n",
    "\\lnot(\\text{P} \\lor \\text{Q}) &\\equiv \\lnot\\text{P} \\land \\lnot\\text{Q} \\\\\n",
    "\\lnot(\\text{P} \\land \\text{Q}) &\\equiv \\lnot\\text{P} \\lor \\lnot\\text{Q} \\\\\n",
    "\\end{aligned}\n",
    "$\n",
    "\n",
    "$\\blacksquare$"
   ]
  },
  {
   "cell_type": "markdown",
   "metadata": {},
   "source": [
    "### Substitution"
   ]
  },
  {
   "cell_type": "markdown",
   "metadata": {},
   "source": [
    "If two propositions are logically equivalent, then one can be substituted for the other within a more coplex proposition: the compound proposition after the substitution is logically equivalent to the compound proposition before the substitution. Substitution gives an alternate way of showing that two propositions are logically equivalent. If one proposition can be obtained from another by a series of substitutions using equivalent expressions, then the two propositions are logically equivalent.\n",
    "\n",
    "$\n",
    "\\begin{aligned}\n",
    "\\text{P} \\rightarrow \\text{Q} &\\equiv \\lnot\\text{P} \\lor \\text{Q} \\\\\n",
    "\\therefore (\\text{P} \\lor \\text{R}) \\land (\\text{P} \\rightarrow \\text{Q}) &\\equiv (\\text{P} \\lor \\text{R}) \\land (\\lnot\\text{P} \\lor \\text{Q}) \\\\\n",
    "\\end{aligned}\n",
    "$\n",
    "\n",
    "$\n",
    "\\begin{aligned}\n",
    "\\text{P} &\\equiv \\lnot\\text{T} \\land \\text{R} \\\\\n",
    "\\text{Q} &\\equiv \\lnot\\text{S} \\lor \\text{T} \\\\\n",
    "\\text{P} \\rightarrow \\text{Q} &\\equiv \\lnot\\text{P} \\lor \\text{Q} \\\\\n",
    "\\therefore (\\lnot\\text{T} \\land \\text{R}) \\rightarrow (\\lnot\\text{S} \\lor \\text{T}) &\\equiv \\lnot(\\lnot\\text{T} \\land \\text{R}) \\lor (\\lnot\\text{S} \\lor \\text{T}) \\\\\n",
    "\\end{aligned}\n",
    "$"
   ]
  },
  {
   "cell_type": "markdown",
   "metadata": {},
   "source": [
    "---"
   ]
  },
  {
   "cell_type": "markdown",
   "metadata": {},
   "source": [
    "## Predicate Logic"
   ]
  },
  {
   "cell_type": "markdown",
   "metadata": {},
   "source": [
    "A logical statement (or proposition) whose truth value is a function of one or more variables is called a predicate $P(x_1,...,x_n)$.\n",
    "\n",
    "For example\n",
    "* Let $P(x):x\\,\\text{is even}$ be a predicate. Then the proposition $P(1)$ is false but the proposition $P(2)$ is true.\n",
    "* Let $Q(x,y):x^2=y$ be a predicate. Then the proposition $Q(5,25)$ is true.\n",
    "* Let $R(x,y,z):x+y=z$ be a predicate. Then the proposition $R(2,3,6)$ is false."
   ]
  },
  {
   "cell_type": "markdown",
   "metadata": {},
   "source": [
    "[UNIVERSAL QUANTIFIER]\n",
    "\n",
    "The statement $\\forall x\\,P(x)$ (\"for all/every x, it is the case that P(x)\") asserts that $P(x)$ is true for every possible value for $x$ in its domain.\n",
    "\n",
    "The symbol $\\forall$ is called the universal quantifier.\n",
    "\n",
    "The statement $\\forall x\\,P(x)$ is called a universally quantified statement.\n",
    "\n",
    "$\\forall x\\,P(x)$ is a proposition because it is either true or false.\n",
    "\n",
    "$\\forall x\\,P(x)$ is true if and only if $P(n)$ is true for every $n$ in the domain of variable $x$.\n",
    "\n",
    "If the domain is a finite set $\\{a_1,a_2,...,a_k\\}$ then\n",
    "\n",
    "$\\forall x\\,P(x) \\equiv P(a_1) \\land P(a_2) \\land ... \\land P(a_k)$\n",
    "\n",
    "To demonstrate that $\\forall x\\,P(x)$ is true requires demonstrating that $P(a_1) \\land P(a_2) \\land ... \\land P(a_k)$ is true. Some universally quantified statements can be shown to be true by showing that the predicate holds for an arbitrary element from the domain (where an arbitrary element means nothing is assumed about the element other than the fact that it is in the domain).\n",
    "\n",
    "A counterexample for a universally quantified statement is an element in the domain for which the predicate is false. A single counterexample is sufficient to show that a universally quantified statement is false."
   ]
  },
  {
   "cell_type": "markdown",
   "metadata": {},
   "source": [
    "[EXAMPLE]\n",
    "\n",
    "Let the domain of $x$ be the set of positive integers.\n",
    "\n",
    "$\n",
    "\\begin{aligned}\n",
    "\\forall x \\, \\left( \\frac{1}{x+1} \\lt 1 \\right)\n",
    "\\end{aligned}\n",
    "$\n",
    "\n",
    "is true because the inequality holds when $x$ is assigned an arbitrary value from the set of positive integers.\n",
    "\n",
    "$\n",
    "\\begin{aligned}\n",
    "0 &\\lt x && \\text{true for all positive integers} \\, x \\\\\n",
    "1 &\\lt x + 1 && \\text{add one to both sides} \\\\\n",
    "\\frac{1}{x+1} &\\le 1 && \\text{divide both sides by} \\, x+1 \\\\\n",
    "\\end{aligned}\n",
    "$\n",
    "\n",
    "$\\blacksquare$"
   ]
  },
  {
   "cell_type": "markdown",
   "metadata": {},
   "source": [
    "[EXISTENTIAL QUANTIFIER]\n",
    "\n",
    "The statement $\\exists x\\,P(x)$ (\"there exists an x, such that P(x)\") asserts that $P(x)$ is true for at least one possible value for $x$ in its domain.\n",
    "\n",
    "The symbol $\\forall$ is called the existential quantifier.\n",
    "\n",
    "The statement $\\forall x\\,P(x)$ is called an existentially quantified statement.\n",
    "\n",
    "$\\forall x\\,P(x)$ is a proposition because it is either true or false.\n",
    "\n",
    "$\\forall x\\,P(x)$ is true if and only if $P(n)$ is true for at least one $n$ in the domain of variable $x$.\n",
    "\n",
    "If the domain is a finite set $\\{a_1,a_2,...,a_k\\}$ then\n",
    "\n",
    "$\\exists x\\,P(x) \\equiv P(a_1) \\lor P(a_2) \\lor ... \\lor P(a_k)$\n",
    "\n",
    "To demonstrate that $\\forall x\\,P(x)$ is true requires demonstrating that $P(a_1) \\lor P(a_2) \\lor ... \\lor P(a_k)$ is true. Some existentially quantified statements can be shown to be false by showing that the predicate is false for an arbitrary element from the domain (where an arbitrary element means nothing is assumed about the element other than the fact that it is in the domain)."
   ]
  },
  {
   "cell_type": "markdown",
   "metadata": {},
   "source": [
    "[EXAMPLE]\n",
    "\n",
    "Let the domain of $x$ be the set of positive integers.\n",
    "\n",
    "$\n",
    "\\begin{aligned}\n",
    "\\exists x \\, (x + 1 \\lt x)\n",
    "\\end{aligned}\n",
    "$\n",
    "\n",
    "is false because no positive integer satisfies the expression $x + 1 \\lt x$.\n",
    "\n",
    "$\n",
    "\\begin{aligned}\n",
    "x + 1 &\\lt x && \\\\\n",
    "1 &\\not\\lt 0 && \\text{subtract x from both sides} \\\\\n",
    "\\end{aligned}\n",
    "$\n",
    "\n",
    "$\\blacksquare$"
   ]
  },
  {
   "cell_type": "markdown",
   "metadata": {},
   "source": [
    "[QUANTIFIED STATEMENT]\n",
    "\n",
    "A logical statement that includes a universal or existential quantifier is called a quantified statement.\n",
    "\n",
    "Order of Operations\n",
    "* Quantifiers\n",
    "* Logical Operations\n",
    "\n",
    "$\\forall x \\, P(x) \\land Q(x)$ is $(\\forall x \\, P(x)) \\land Q(x)$, not $\\forall x \\, (P(x) \\land Q(x))$"
   ]
  },
  {
   "cell_type": "markdown",
   "metadata": {},
   "source": [
    "[FREE VARIABLE]\n",
    "\n",
    "A variable $x$ is the predicate $P(x)$ is called a free variable because the variable is free to take on any value in the domain.\n",
    "\n",
    "[BOUND VARIABLE]\n",
    "\n",
    "The variable $x$ in the statement $\\forall x \\, P(x)$ is a bound variable because the variable is bound to a quantifier.\n",
    "\n",
    "A statement with no free variables is a proposition because the statement's truth value can be determined.\n",
    "\n",
    "[Example]\n",
    "\n",
    "In the statement $(\\forall x \\, P(x)) \\land Q(x)$, the variable $x$ in $P(x)$ is bound by the universal quantifier, but the variable $x$ in $Q(x)$ is not bound by the universal quantifier. Therefore, the statement $(\\forall x \\, P(x)) \\land Q(x)$ is not a proposition.\n",
    "\n",
    "[Example]\n",
    "\n",
    "In the statement $\\forall x \\, (P(x) \\land Q(x))$, the universal quantifier binds both occurrences of the variable $x$. Therefore, the statement $\\forall x \\, (P(x) \\land Q(x))$ is a proposition."
   ]
  },
  {
   "cell_type": "markdown",
   "metadata": {},
   "source": [
    "[LOGICAL EQUIVALENCE]\n",
    "\n",
    "Two quantified statements have the same logical meaning if they have the same truth value regardless of the value fo the predicates for the elements in the domain.\n",
    "\n",
    "[Example]\n",
    "\n",
    "Domain: a set of people invited to a party\n",
    "\n",
    "Predicates:\n",
    "\n",
    "$\n",
    "\\begin{aligned}\n",
    "P(x) &: x \\, \\text{came to the party} \\\\\n",
    "S(x) &: x \\, \\text{was sick} \\\\\n",
    "\\end{aligned}\n",
    "$\n",
    "\n",
    "$\n",
    "\\begin{array}{c|cc}\n",
    "x & S(x) & P(x) \\\\\n",
    "\\hline\n",
    "\\text{Joe} & \\text{F} & \\text{T} \\\\\n",
    "\\text{Theodore} & \\text{T} & \\text{F} \\\\\n",
    "\\text{Gertrude} & \\text{F} & \\text{T} \\\\\n",
    "\\text{Samuel} & \\text{F} & \\text{F} \\\\\n",
    "\\end{array}\n",
    "$\n",
    "\n",
    "$\n",
    "\\begin{aligned}\n",
    "P(\\text{Gertrude}) &= \\text{true} && \\text{Gertrude came to the party.} \\\\\n",
    "S(\\text{Gertrude}) &= \\text{false} && \\text{Gertrude was sick.} \\\\\n",
    "\\forall x \\, \\lnot S(x) &= \\text{false} && \\text{Everyone was not sick.} \\\\\n",
    "\\exists x \\, (S(x) \\lor P(x)) &= \\text{true} && \\text{Someone was sick or came to the party.} \\\\\n",
    "\\exists x \\, (S(x) \\land P(x)) &= \\text{false} && \\text{Someone was sick and came to the party.} \\\\\n",
    "\\exists x \\, S(x) \\land \\exists x \\, P(x) &= \\text{true} && \\text{Someone was sick and someone came to the party.} \\\\\n",
    "\\end{aligned}\n",
    "$"
   ]
  },
  {
   "cell_type": "markdown",
   "metadata": {},
   "source": [
    "[DE MORGAN'S LAWS FOR QUANTIFIED STATEMENTS]\n",
    "\n",
    "Let $\\{a_1,...,a_k\\}$ be a finite domain of discourse.\n",
    "\n",
    "De Morgan's Law for Universally Quantified Statements\n",
    "\n",
    "$\n",
    "\\begin{aligned}\n",
    "\\lnot \\forall x \\, P(x) &\\equiv \\exists x \\, \\lnot P(x) \\\\\n",
    "\\exists x \\, \\lnot P(x) &\\equiv \\lnot P(a_1) \\lor \\lnot P(a_2) \\lor ... \\lor \\lnot P(a_n) \\\\\n",
    "\\lnot P(a_1) \\lor \\lnot P(a_2) \\lor ... \\lor \\lnot P(a_n) &\\equiv \\lnot(P(a_1) \\land P(a_2) \\land ... \\land P(a_n)) \\\\\n",
    "\\lnot(P(a_1) \\land P(a_2) \\land ... \\land P(a_n)) &\\equiv \\lnot \\forall x \\, P(x) \\\\\n",
    "\\end{aligned}\n",
    "$\n",
    "\n",
    "De Morgan's Law for Existentially Quantified Statements\n",
    "\n",
    "$\n",
    "\\begin{aligned}\n",
    "\\lnot \\exists x \\, P(x) &\\equiv \\forall x \\, \\lnot P(x) \\\\\n",
    "\\forall x \\, \\lnot P(x) &\\equiv \\lnot P(a_1) \\land \\lnot P(a_2) \\land ... \\land \\lnot P(a_n) \\\\\n",
    "\\lnot P(a_1) \\land \\lnot P(a_2) \\land ... \\land \\lnot P(a_n) &\\equiv \\lnot(P(a_1) \\lor P(a_2) \\lor ... \\lor P(a_n)) \\\\\n",
    "\\lnot(P(a_1) \\lor P(a_2) \\lor ... \\lor P(a_n)) &\\equiv \\lnot \\exists x \\, P(x) \\\\\n",
    "\\end{aligned}\n",
    "$"
   ]
  },
  {
   "cell_type": "markdown",
   "metadata": {},
   "source": [
    "---"
   ]
  },
  {
   "cell_type": "markdown",
   "metadata": {},
   "source": [
    "## Figures"
   ]
  },
  {
   "cell_type": "markdown",
   "metadata": {},
   "source": [
    "* [W] Aristotle\n",
    "  * [[S](https://plato.stanford.edu/entries/aristotle-logic/)] Aristotle's Logic\n",
    "\t* [[S](https://plato.stanford.edu/entries/aristotle-noncontradiction/)] Aristotle on Non Contradiction\n",
    "* [W][[S](https://plato.stanford.edu/entries/boole/)] Boole, George (1815-1864)\n",
    "* [[W](https://en.wikipedia.org/wiki/Chrysippus)] Chrysippus of Soli\n",
    "* [[W](https://en.wikipedia.org/wiki/Haskell_Curry)] Curry, Haskell (1900-1982)\n",
    "* [W] De Morgan, Augustus\n",
    "* [[W](https://en.wikipedia.org/wiki/Ferdinand_de_Saussure)] De Saussure, Ferdinand (1857-1913)\n",
    "* [[W](https://en.wikipedia.org/wiki/Michael_Dummett)] Dummett, Michael\n",
    "* [[W](https://en.wikipedia.org/wiki/Gottlob_Frege)][[S](https://plato.stanford.edu/entries/frege/)] Frege, Gottlob (1848-1925)\n",
    "  * [[S](https://plato.stanford.edu/entries/frege-logic/)] Frege's Logic\n",
    "\t* [[S](https://plato.stanford.edu/entries/frege-theorem/)] Frege's Theorem and Foundations for Arithmetic\n",
    "* [W][[S](https://plato.stanford.edu/entries/goedel/)] Gödel, Kurt\n",
    "* [[W](https://en.wikipedia.org/wiki/Jaakko_Hintikka)] Hintikka, Jaakko\n",
    "* [[W](https://en.wikipedia.org/wiki/Saul_Kripke)] Kripke, Saul\n",
    "* [W] Leibniz\n",
    "  * [[S](https://plato.stanford.edu/entries/leibniz-logic-influence/)] Leibniz' Influence on 19th Century Logic\n",
    "* [W][[S](https://plato.stanford.edu/entries/lesniewski/)] Leśniewski, Stanisław (1886-1939)\n",
    "* [[W](https://en.wikipedia.org/wiki/C._I._Lewis)][[S](https://plato.stanford.edu/entries/lewis-ci/)] Lewis, Clarence Irving (1883-1964)\n",
    "* [[W](https://en.wikipedia.org/wiki/Jan_%C5%81ukasiewicz)] Lukasiewicz, Jan (1878-1956)\n",
    "* [[W](https://en.wikipedia.org/wiki/Ruth_Barcan_Marcus)] Marcus, Ruth (1921-2012)\n",
    "* [[W](https://en.wikipedia.org/wiki/Richard_Montague)] Montague, Richard (1930-1971)\n",
    "* [W] Peano, Giuseppe\n",
    "  * [[W](https://en.wikipedia.org/wiki/Arithmetices_principia,_nova_methodo_exposita)] (1889). _Arithmetices principia, nova methodo exposita_.\n",
    "* [W] Peirce, Charles Sanders\n",
    "* [[W](https://en.wikipedia.org/wiki/Charles_Sanders_Peirce)][[S](https://plato.stanford.edu/entries/peirce/)] Peirce, Charles Sanders\n",
    "* [[W](https://en.wikipedia.org/wiki/Emil_Leon_Post)] Post, Emil (1897-1954)\n",
    "* [[W](https://en.wikipedia.org/wiki/Arthur_Prior)] Prior, Arthur\n",
    "* [[W](https://en.wikipedia.org/wiki/Bertrand_Russell)] Russell, Bertrand\n",
    "  * [[W](https://en.wikipedia.org/wiki/On_Denoting)] (1905). \"On Denoting\".\n",
    "* [[W](https://en.wikipedia.org/wiki/Moses_Schönfinkel)] Schonfinkel, Moses\n",
    "* [W][[S](https://plato.stanford.edu/entries/tarski/)] Tarski, Alfred (1901-1983)\n",
    "  * [[S](https://plato.stanford.edu/entries/tarski-truth/)] Tarski's Truth Definitions\n",
    "* [[W](https://en.wikipedia.org/wiki/John_Venn)] Venn, John (1834-1923)\n",
    "* [[W](https://en.wikipedia.org/wiki/Ludwig_Wittgenstein)] Wittgenstein, Ludwig\n",
    "* [W] Zermelo\n",
    "  * [[S](https://plato.stanford.edu/entries/zermelo-set-theory/)] Zermelo's Axiomatization of Set Theory"
   ]
  },
  {
   "cell_type": "markdown",
   "metadata": {},
   "source": [
    "---"
   ]
  },
  {
   "cell_type": "markdown",
   "metadata": {},
   "source": [
    "## Resources"
   ]
  },
  {
   "cell_type": "markdown",
   "metadata": {},
   "source": [
    "* [[H](http://www.davidagler.com/)][[Y](https://www.youtube.com/@LogicPhilosophy)] Agler, David\n",
    "* Leary, Christopher & Lars Kristiansen. (2015). [_A Friendly Introduction to Mathematical Logic_](https://milneopentextbooks.org/a-friendly-introduction-to-mathematical-logic/). Milne Library."
   ]
  },
  {
   "cell_type": "markdown",
   "metadata": {},
   "source": [
    "---"
   ]
  },
  {
   "cell_type": "markdown",
   "metadata": {},
   "source": [
    "## Terms"
   ]
  },
  {
   "cell_type": "markdown",
   "metadata": {},
   "source": [
    "* [[W](https://en.wikipedia.org/wiki/Abductive_reasoning)] Abduction\n",
    "* [[W](https://en.wikipedia.org/wiki/Material_nonimplication)] Abjunction\n",
    "* [[W](https://en.wikipedia.org/wiki/Abstract_rewriting_system)] Abstract Rewriting System\n",
    "* [[W](https://en.wikipedia.org/wiki/Addition)] Addition\n",
    "* [[W](https://en.wikipedia.org/wiki/M%C3%BCnchhausen_trilemma)] Aggrippan Trilemma\n",
    "* [W][[S](https://plato.stanford.edu/entries/algebra/)] Algebra\n",
    "* [W][[S](https://plato.stanford.edu/entries/algebra-logic-tradition/)] Algebra of Logic\n",
    "* [W][[S](https://plato.stanford.edu/entries/logic-algebraic-propositional/)] Algebraic Propositional Logic\n",
    "* [[W](https://en.wikipedia.org/wiki/Ampliative)] Ampliativity\n",
    "* [W][[S](https://plato.stanford.edu/entries/logic-ancient/)] Ancient Logic\n",
    "* [[W](https://en.wikipedia.org/wiki/Antecedent_(logic))] Antecedent\n",
    "* [[W](https://en.wikipedia.org/wiki/Argument)] Argument\n",
    "* [[W](https://en.wikipedia.org/wiki/Argumentation_theory)] Argumentation Theory\n",
    "* [[W](https://en.wikipedia.org/wiki/Term_logic)] Aristotelian Logic\n",
    "* [[W](https://en.wikipedia.org/wiki/Arithmetic)] Arithmetic\n",
    "* [[W](https://en.wikipedia.org/wiki/Atomic_formula)] Atomic Formula\n",
    "* [[W](https://en.wikipedia.org/wiki/Atomic_sentence)] Atomic Sentence\n",
    "* [[W](https://en.wikipedia.org/wiki/Axiom)] Axiom\n",
    "* [W][[S](https://plato.stanford.edu/entries/axiom-choice/)] Axiom of Choice\n",
    "* [[W](https://en.wikipedia.org/wiki/Barcan_formula)] Barcan Formula\n",
    "* [W] Biconditional\n",
    "* [[W](https://en.wikipedia.org/wiki/Boolean_algebra)] Boolean Algebra\n",
    "  * [[S](https://plato.stanford.edu/entries/boolalg-math/)] Boolean Algebra, mathematics\n",
    "* [[W](https://en.wikipedia.org/wiki/Boolean_algebra_(structure))] Boolean Algebra (structure)\n",
    "* [[W](https://en.wikipedia.org/wiki/Free_variables_and_bound_variables)] Bound Variable\n",
    "* [[W](https://en.wikipedia.org/wiki/Buridan_formula)] Buridan Formula\n",
    "* [[W](https://en.wikipedia.org/wiki/Canonical_normal_form)] Canonical Normal Form\n",
    "* [[W](https://en.wikipedia.org/wiki/Categorical_proposition)] Categorical Proposition\n",
    "* [W][[S](https://plato.stanford.edu/entries/category-theory/)] Category Theory\n",
    "* [[W](https://en.wikipedia.org/wiki/Classical_logic)][[S](https://plato.stanford.edu/entries/logic-classical/)] Classical Logic\n",
    "* [[W](https://en.wikipedia.org/wiki/Combinational_logic)] Combinational Logic\n",
    "* [[W](https://en.wikipedia.org/wiki/Combinatory_logic)][[S](https://plato.stanford.edu/entries/logic-combinatory/)] Combinatory Logic\n",
    "* [W] Compound Proposition\n",
    "* [[W](https://en.wikipedia.org/wiki/Comprehension_(logic))] Comprehension\n",
    "* [W][[S](https://plato.stanford.edu/entries/logic-conditionals/)] Conditional\n",
    "* [[W](https://en.wikipedia.org/wiki/Confluence_(abstract_rewriting))] Confluence\n",
    "* [[W](https://en.wikipedia.org/wiki/Logical_conjunction)] Conjunction\n",
    "* [[W](https://en.wikipedia.org/wiki/Conjunctive_normal_form)] Conjunctive Normal Form\n",
    "* [W][[S](https://plato.stanford.edu/entries/logic-connexive/)] Connexive Logic\n",
    "* [[W](https://en.wikipedia.org/wiki/Connotation)] Connotation\n",
    "* [[W](https://en.wikipedia.org/wiki/Consequent)] Consequent\n",
    "* [[W](https://en.wikipedia.org/wiki/Consistency)] Consistency\n",
    "* [[W](https://en.wikipedia.org/wiki/Constructive_dilemma)] Constructive Dilemma\n",
    "* [[W](https://en.wikipedia.org/wiki/Contingency_(philosophy))] Contingency\n",
    "* [[W](https://en.wikipedia.org/wiki/Contradiction)][[S](https://plato.stanford.edu/entries/contradiction/)] Contradiction\n",
    "* [[W](https://en.wikipedia.org/wiki/Contraposition)] Contraposition\n",
    "* [[W](https://en.wikipedia.org/wiki/Converse_(logic))] Converse Conditional/Implication\n",
    "* [[W](https://en.wikipedia.org/wiki/Converse_nonimplication)] Converse Nonimplication \n",
    "* [W][[S](https://plato.stanford.edu/entries/counterfactuals/)] Counterfactual\n",
    "* [[W](https://en.wikipedia.org/wiki/Criteria_of_truth)] Criteria of Truth\n",
    "* [[W](https://en.wikipedia.org/wiki/Critical_thinking)] Critical Thinking\n",
    "* [[W](https://en.wikipedia.org/wiki/De_dicto_and_de_re)] De Dicto\n",
    "* [[W](https://en.wikipedia.org/wiki/De_dicto_and_de_re)] De Re\n",
    "* [[W](https://en.wikipedia.org/wiki/Deductive_reasoning)] Deduction\n",
    "* [[W](https://en.wikipedia.org/wiki/Defeasible_reasoning)] Defeasible Reasoning\n",
    "* [W][[S](https://plato.stanford.edu/entries/definitions/)] Definition\n",
    "* [[W](https://en.wikipedia.org/wiki/Denotation)] Denotation\n",
    "* [[W](https://en.wikipedia.org/wiki/Deontic_logic)] Deontic Logic\n",
    "* [[W](https://en.wikipedia.org/wiki/Destructive_dilemma)] Destructive Dilemma\n",
    "* [[W](https://en.wikipedia.org/wiki/Diagonal_lemma)] Diagonal Lemma\n",
    "* [W] Difference\n",
    "* [[W](https://en.wikipedia.org/wiki/Logical_disjunction)] Disjunction\n",
    "* [[W](https://en.wikipedia.org/wiki/Disjunctive_normal_form)] Disjunctive Normal Form\n",
    "* [[W](https://en.wikipedia.org/wiki/Disjunctive_syllogism)] Disjunctive Syllogism\n",
    "* [W] Dividend\n",
    "* [W] Division\n",
    "* [W] Divisor\n",
    "* [[W](https://en.wikipedia.org/wiki/Domain_of_discourse)] Domain of Discourse\n",
    "* [[W](https://en.wikipedia.org/wiki/Enthymeme)] Enthymeme ἐνθύμημα\n",
    "* [[W](https://en.wikipedia.org/wiki/Equivocation)] Equivocation\n",
    "* [W] Exclusive Disjunction\n",
    "* [[W](https://en.wikipedia.org/wiki/Existential_quantification)] Existential Quantification\n",
    "* [[W](https://en.wikipedia.org/wiki/Extension_(predicate_logic))] Extension, predicate logic\n",
    "* [[W](https://en.wikipedia.org/wiki/Extension_(semantics))] Extension, semantics\n",
    "* [[W](https://en.wikipedia.org/wiki/Extensionality)] Extensionality\n",
    "* [W] Exponentiation\n",
    "* [W] Factor\n",
    "* [[W](https://en.wikipedia.org/wiki/Fallacy)] Fallacy\n",
    "* [[W](https://en.wikipedia.org/wiki/False_(logic))] Falsity\n",
    "* [[W](https://en.wikipedia.org/wiki/Up_tack)] Falsum\n",
    "* [[W](https://en.wikipedia.org/wiki/First-order_logic)] First-Order Logic\n",
    "* [[W](https://en.wikipedia.org/wiki/Formal_language)] Formal Language\n",
    "* [[W](https://en.wikipedia.org/wiki/Semantics_of_logic)] Formal Semantics\n",
    "* [[W](https://en.wikipedia.org/wiki/Formal_system)] Formal System\n",
    "* [[W](https://en.wikipedia.org/wiki/Formation_rule)] Formation Rule\n",
    "* [[W](https://en.wikipedia.org/wiki/Free_variables_and_bound_variables)] Free Variable\n",
    "* [[W](https://en.wikipedia.org/wiki/Function_(mathematics))] Function\n",
    "* [W] Function Notation\n",
    "* [W][[S](https://plato.stanford.edu/entries/future-contingents/)] Future Contingent\n",
    "* [W][[S](https://plato.stanford.edu/entries/logic-fuzzy/)] Fuzzy Logic\n",
    "* [W][[S](https://plato.stanford.edu/entries/generalized-quantifiers/)] Generalized Quantifier\n",
    "* [[W](https://en.wikipedia.org/wiki/Heuristic)] Heuristic\n",
    "* [W][[S](https://plato.stanford.edu/entries/logic-higher-order/)] Higher-Order Logic\n",
    "* [[W](https://en.wikipedia.org/wiki/History_of_logic)] History of Logic\n",
    "* [[W](https://en.wikipedia.org/wiki/Hypothetical_syllogism)] Hypothetical Syllogism\n",
    "* [W][[S](https://plato.stanford.edu/entries/identity-indiscernible/)] Identity of Indiscernibles\n",
    "* [[W](https://en.wikipedia.org/wiki/If_and_only_if)] If and only if\n",
    "* [W] Implication\n",
    "* [[W](https://en.wikipedia.org/wiki/Inclusion_(Boolean_algebra))] Inclusion\n",
    "* [[W](https://en.wikipedia.org/wiki/Logical_disjunction)] Inclusive Disjunction\n",
    "* [[W](https://en.wikipedia.org/wiki/Indian_logic)] Indian Logic\n",
    "* [[W](https://en.wikipedia.org/wiki/Inductive_reasoning)] Induction\n",
    "* [[W](https://en.wikipedia.org/wiki/Inference)] Inference\n",
    "* [[W](https://en.wikipedia.org/wiki/Infinite_regress)] Infinite Regress\n",
    "* [[W](https://en.wikipedia.org/wiki/Infix_notation)] Infix Notation\n",
    "* [[W](https://en.wikipedia.org/wiki/Informal_logic)] Informal Logic\n",
    "* [[W](https://en.wikipedia.org/wiki/Intension)] Intension\n",
    "* [[W](https://en.wikipedia.org/wiki/Intensional_logic)] Intensional Logic\n",
    "* [[W](https://en.wikipedia.org/wiki/Interpretation_(logic))] Interpretation\n",
    "* [W][[S](https://plato.stanford.edu/entries/logic-intuitionistic/)] Intuitionistic Logic\n",
    "  * [[S](https://plato.stanford.edu/entries/intuitionistic-logic-development/)] The Development of Intuitionistic Logic\n",
    "* [[W](https://en.wikipedia.org/wiki/Inverse_(logic))] Inverse\n",
    "* [[W](https://en.wikipedia.org/wiki/Logic_in_Islamic_philosophy)] Islamic Logic\n",
    "* [[W](https://en.wikipedia.org/wiki/Justification_(epistemology))] Justification\n",
    "* [[W](https://en.wikipedia.org/wiki/Definitions_of_knowledge)] Knowledge, definitions\n",
    "* [[W](https://en.wikipedia.org/wiki/Law_of_thought)] Law of Thought\n",
    "* [[W](https://en.wikipedia.org/wiki/Principle_of_bivalence)] Law/Principle of Bivalence\n",
    "* [[W](https://en.wikipedia.org/wiki/Law_of_excluded_middle)] Law/Principle of Excluded Middle\n",
    "* [[W](https://en.wikipedia.org/wiki/Principle_of_explosion)] Law/Principle of Explosion\n",
    "* [[W](https://en.wikipedia.org/wiki/Law_of_identity)] Law/Principle of Identity\n",
    "* [[W](https://en.wikipedia.org/wiki/Law_of_noncontradiction)] Law/Principle of Noncontradiction\n",
    "* [W][[S](https://plato.stanford.edu/entries/liar-paradox/)] Liar Paradox\n",
    "* [W][[S](https://plato.stanford.edu/entries/logic-linear/)] Linear Logic\n",
    "* [W] Logarithm\n",
    "* [[W](https://en.wikipedia.org/wiki/Logic)] Logic\n",
    "* [W][[S](https://plato.stanford.edu/entries/logic-games/)] Logic and Games\n",
    "* [W][[S](https://plato.stanford.edu/entries/logic-ontology/)] Logic and Ontology\n",
    "* [W][[S](https://plato.stanford.edu/entries/logic-belief-revision/)] Logic of Belief Revision\n",
    "* [[W](https://en.wikipedia.org/wiki/Logica_nova)] Logica Nova\n",
    "* [[W](https://en.wikipedia.org/wiki/Logical_conjunction)] Logical AND\n",
    "* [W] Logical Atomism\n",
    "* [[W](https://en.wikipedia.org/wiki/Logical_biconditional)] Logical Biconditional\n",
    "* [[W](https://en.wikipedia.org/wiki/Logical_connective)] Logical Connective\n",
    "* [[W](https://en.wikipedia.org/wiki/Logical_consequence)][[S](https://plato.stanford.edu/entries/logical-consequence/)] Logical Consequence\n",
    "* [[W](https://en.wikipedia.org/wiki/Logical_constant)][[S](https://plato.stanford.edu/entries/logical-constants/)] Logical Constant\n",
    "* [[W](https://en.wikipedia.org/wiki/Logical_equivalence)] Logical Equivalence\n",
    "* [[W](https://en.wikipedia.org/wiki/Formal_fallacy)] Logical Fallacy\n",
    "* [[W](https://en.wikipedia.org/wiki/Logical_form)][[S](https://plato.stanford.edu/entries/logical-form/)] Logical Form\n",
    "* [W] Logical NAND\n",
    "* [[W](https://en.wikipedia.org/wiki/Logical_NOR)] Logical NOR\n",
    "* [[W](https://en.wikipedia.org/wiki/Negation)] Logical NOT\n",
    "* [W] Logical Operation\n",
    "* [[W](https://en.wikipedia.org/wiki/Logical_disjunction)] Logical OR\n",
    "* [W] Logical Positivism\n",
    "* [[W](https://en.wikipedia.org/wiki/Logical_truth)][[S](https://plato.stanford.edu/entries/logical-truth/)] Logical Truth\n",
    "* [W] Logical XNOR\n",
    "* [W] Logical XOR\n",
    "* [W][[S](https://plato.stanford.edu/entries/logicism/)] Logicism\n",
    "* [[W](https://en.wikipedia.org/wiki/Many-valued_logic)][[S](https://plato.stanford.edu/entries/logic-manyvalued/)] Many-Valued Logic\n",
    "* [[W](https://en.wikipedia.org/wiki/Logical_biconditional)] Material Biconditional \n",
    "* [[W](https://en.wikipedia.org/wiki/Material_conditional)] Material Conditional/Implication \n",
    "* [W] Material Nonimplication\n",
    "* [[W](https://en.wikipedia.org/wiki/Mathematical_logic)] Mathematical Logic\n",
    "* [[W](https://en.wikipedia.org/wiki/Mathematical_table)] Mathematical Table\n",
    "* [[W](https://en.wikipedia.org/wiki/Middle_term)] Middle Term\n",
    "* [[W](https://en.wikipedia.org/wiki/Modal_logic)][[S](https://plato.stanford.edu/entries/logic-modal/)] Modal Logic\n",
    "* [[W](https://en.wikipedia.org/wiki/Model_theory)][[S](https://plato.stanford.edu/entries/model-theory/)] Model Theory\n",
    "  * [[S](https://plato.stanford.edu/entries/modeltheory-fo/)] First Order Model Theory\n",
    "* [W] Modulation\n",
    "* [[W](https://en.wikipedia.org/wiki/Modus_ponens)] Modus Ponens\n",
    "* [[W](https://en.wikipedia.org/wiki/Modus_tollens)] Modus Tollens\n",
    "* [[W](https://en.wikipedia.org/wiki/Montague_grammar)] Montague Grammar\n",
    "* [W][[S](https://plato.stanford.edu/entries/montague-semantics/)] Montague Semantics\n",
    "* [W] Multiplicand\n",
    "* [W] Multiplication\n",
    "* [W] Multiplier\n",
    "* [[W](https://en.wikipedia.org/wiki/Necessity_and_sufficiency)] Necessity\n",
    "* [[W](https://en.wikipedia.org/wiki/Negation)][[S](https://plato.stanford.edu/entries/negation/)] Negation\n",
    "* [[W](https://en.wikipedia.org/wiki/Normal_form_(abstract_rewriting))] Normal Form\n",
    "* [W] Nth Root\n",
    "* [[W](https://en.wikipedia.org/wiki/Operand)] Operand\n",
    "* [[W](https://en.wikipedia.org/wiki/Operation_(mathematics))] Operation\n",
    "* [W][[S](https://plato.stanford.edu/entries/logic-paraconsistent/)] Paraconsistent Logic\n",
    "* [[W](https://en.wikipedia.org/wiki/Paradox)][[S](https://plato.stanford.edu/entries/paradoxes-contemporary-logic/)] Paradox\n",
    "* [[W](https://en.wikipedia.org/wiki/Particular)] Particular\n",
    "* [[W](https://en.wikipedia.org/wiki/Philosophical_logic)] Philosophical Logic\n",
    "* [[W](https://en.wikipedia.org/wiki/Philosophy_of_language)] Philosophy of Language\n",
    "* [[W](https://en.wikipedia.org/wiki/Philosophy_of_logic)] Philosophy of Logic\n",
    "* [W][[S](https://plato.stanford.edu/entries/plural-quant/)] Plural Quantification\n",
    "* [[W](https://en.wikipedia.org/wiki/Possible_world)] Possible World\n",
    "* [[W](https://en.wikipedia.org/wiki/Predicate_(grammar))] Predicate\n",
    "* [[W](https://en.wikipedia.org/wiki/First-order_logic)] Predicate Logic\n",
    "* [[W](https://en.wikipedia.org/wiki/Predication_(philosophy))] Predication\n",
    "* [[W](https://en.wikipedia.org/wiki/Premise)] Premise\n",
    "* [[W](https://en.wikipedia.org/wiki/Prenex_normal_form)] Prenex Normal Form\n",
    "* [[W](https://en.wikipedia.org/wiki/Problem_of_the_criterion)] Problem of the Criterion\n",
    "* [[W](https://en.wikipedia.org/wiki/Problem_of_future_contingents)] Problem of Future Contingents\n",
    "* [[W](https://en.wikipedia.org/wiki/Problem_of_universals)] Problem of Universals\n",
    "* [W] Product\n",
    "* [[W](https://en.wikipedia.org/wiki/Proof_calculus)] Proof System\n",
    "* [[W](https://en.wikipedia.org/wiki/Proof_theory)] Proof Theory\n",
    "  * [[S](https://plato.stanford.edu/entries/proof-theoretic-semantics/)] Proof-Theoretic Semantics\n",
    "* [[W](https://en.wikipedia.org/wiki/Proposition)] Proposition\n",
    "* [[W](https://en.wikipedia.org/wiki/Propositional_formula)] Propositional Formula\n",
    "* [[W](https://en.wikipedia.org/wiki/Propositional_calculus)] Propositional Logic\n",
    "* [[W](https://en.wikipedia.org/wiki/Propositional_variable)] Propositional Variable\n",
    "* [[W](https://en.wikipedia.org/wiki/Quantifier_(logic))][[S](https://plato.stanford.edu/entries/quantification/)] Quantifier\n",
    "* [W] Quotient\n",
    "* [[W](https://en.wikipedia.org/wiki/Reason)] Reason\n",
    "* [[W](https://en.wikipedia.org/wiki/Reductio_ad_absurdum)] Reductio ad absurdum\n",
    "* [W][[S](https://plato.stanford.edu/entries/reference/)] Reference\n",
    "* [[W](https://en.wikipedia.org/wiki/Regress_argument)] Regress Argument\n",
    "* [[W](https://en.wikipedia.org/wiki/Relations_(philosophy))] Relation\n",
    "* [[W](https://en.wikipedia.org/wiki/Relevance)][[S](https://plato.stanford.edu/entries/logic-relevance/)] Relevance\n",
    "* [W] Remainder\n",
    "* [[W](https://en.wikipedia.org/wiki/Rewriting)] Rewriting\n",
    "* [[W](https://en.wikipedia.org/wiki/Rule_of_inference)] Rule of Inference\n",
    "* [W][[S](https://plato.stanford.edu/entries/russell-paradox/)] Russell's Paradox\n",
    "* [[W](https://en.wikipedia.org/wiki/Satisfiability)] Satisfiability\n",
    "* [[W](https://en.wikipedia.org/wiki/Scope_(logic))] Scope\n",
    "* [W][[S](https://plato.stanford.edu/entries/logic-higher-order/)] Second-Order Logic\n",
    "* [W][[S](https://plato.stanford.edu/entries/self-reference/)] Self-Reference\n",
    "* [[W](https://en.wikipedia.org/wiki/Sentence_(mathematical_logic))] Sentence\n",
    "* [[W](https://en.wikipedia.org/wiki/Sequent)] Sequent\n",
    "* [[W](https://en.wikipedia.org/wiki/Sign_(semiotics))] Sign\n",
    "* [[W](https://en.wikipedia.org/wiki/Signature_(logic))] Signature\n",
    "* [W][[S](https://plato.stanford.edu/entries/sorites-paradox/)] Sorites Paradox\n",
    "* [[W](https://en.wikipedia.org/wiki/Soundness)] Soundness\n",
    "* [[W](https://en.wikipedia.org/wiki/Square_of_opposition)][[S](https://plato.stanford.edu/entries/square/)] Square of Opposition\n",
    "* [[W](https://en.wikipedia.org/wiki/Stoic_logic)] Stoic Logic\n",
    "* [[W](https://en.wikipedia.org/wiki/Structure_(mathematical_logic))] Structure\n",
    "* [[W](https://en.wikipedia.org/wiki/Subject_(grammar))] Subject\n",
    "* [[W](https://en.wikipedia.org/wiki/Subjunctive_possibility)] Subjunctive Possibility\n",
    "* [[W](https://en.wikipedia.org/wiki/Substitution_(logic))] Substitution\n",
    "* [W] Subtraction\n",
    "* [W] Subtrahend\n",
    "* [W][[S](https://plato.stanford.edu/entries/logic-substructural/)] Substructural Logic\n",
    "* [[W](https://en.wikipedia.org/wiki/Necessity_and_sufficiency)] Sufficiency\n",
    "* [W] Sum\n",
    "* [W] Summand\n",
    "* [[W](https://en.wikipedia.org/wiki/Syllogism)] Syllogism\n",
    "  * [[S](https://plato.stanford.edu/entries/medieval-syllogism/)] Medieval Theories of the Syllogism\n",
    "* [[W](https://en.wikipedia.org/wiki/Syntax_(logic))] Syntax\n",
    "* [[W](https://en.wikipedia.org/wiki/Tautology_(logic))] Tautology ταυτολογία\n",
    "* [[W](https://en.wikipedia.org/wiki/Temporal_logic)][[S](https://plato.stanford.edu/entries/logic-temporal/)] Temporal Logic\n",
    "* [[W](https://en.wikipedia.org/wiki/Term_logic)] Term Logic\n",
    "* [[W](https://en.wikipedia.org/wiki/Three-valued_logic)] Three-Valued Logic\n",
    "* [[W](https://en.wikipedia.org/wiki/Truth)] Truth\n",
    "* [[W](https://en.wikipedia.org/wiki/Truth_function)] Truth Function\n",
    "* [[W](https://en.wikipedia.org/wiki/Truth_table)] Truth Table\n",
    "* [[W](https://en.wikipedia.org/wiki/Truth_value)][[S](https://plato.stanford.edu/entries/truth-values/)] Truth Value\n",
    "* [W][[S](https://plato.stanford.edu/entries/type-theory/)] Type Theory\n",
    "  * [[S](https://plato.stanford.edu/entries/type-theory-intuitionistic/)] Intuitionistic Type Theory\n",
    "* [[W](https://en.wikipedia.org/wiki/Universal_(metaphysics))] Universal\n",
    "* [[W](https://en.wikipedia.org/wiki/Universal_quantification)] Universal Quantification\n",
    "* [W][[S](https://plato.stanford.edu/entries/vagueness/)] Vagueness\n",
    "* [[W](https://en.wikipedia.org/wiki/Validity_(logic))] Validity\n",
    "* [[W](https://en.wikipedia.org/wiki/Valuation_(logic))] Valuation\n",
    "* [[W](https://en.wikipedia.org/wiki/Venn_diagram)] Venn Diagram\n",
    "* [[W](https://en.wikipedia.org/wiki/Tee_(symbol))] Verum\n",
    "* [W][[S](https://plato.stanford.edu/entries/vienna-circle/)] Vienna Circle\n",
    "* [[W](https://en.wikipedia.org/wiki/Well-formed_formula)] Well-Formed Formula\n",
    "* [[W](https://en.wikipedia.org/wiki/Zeroth-order_logic)] Zeroth-Order Logic"
   ]
  },
  {
   "cell_type": "markdown",
   "metadata": {},
   "source": [
    "Informal Logic\n",
    "* [[W](https://en.wikipedia.org/wiki/Principle_of_charity)] Principle of Charity\n",
    "* [[W](https://en.wikipedia.org/wiki/Principle_of_humanity)] Principle of Humanity\n",
    "* [[W](https://en.wikipedia.org/wiki/Procatalepsis)] Procatalepsis\n",
    "\n",
    "[[W](https://en.wikipedia.org/wiki/List_of_cognitive_biases)] Cognitive Biases, list\n",
    "\n",
    "[[W](https://en.wikipedia.org/wiki/List_of_fallacies)] Fallacies, list\n",
    "\n",
    "[[W](https://en.wikipedia.org/wiki/Informal_fallacy)] Informal Fallacy\n",
    "* [[W](https://en.wikipedia.org/wiki/Ad_hominem)] Ad Hominem [argumentum ad hominem]\n",
    "* [[W](https://en.wikipedia.org/wiki/Appeal_to_consequences)] Appeal to Consequences [argumentum ad consequentiam]\n",
    "* [[W](https://en.wikipedia.org/wiki/Appeal_to_emotion)] Appeal to Emotion [argumentum ad passiones]\n",
    "* [[W](https://en.wikipedia.org/wiki/Appeal_to_fear)] Appeal to Fear [argumentum ad metum, argumentum in terrorem]\n",
    "* [[W](https://en.wikipedia.org/wiki/Appeal_to_flattery)] Appeal to Flattery [argumentum ad superbiam]\n",
    "* [[W](https://en.wikipedia.org/wiki/Appeal_to_pity)] Appeal to Pity [argumentum ad misericordiam]\n",
    "* [[W](https://en.wikipedia.org/wiki/Appeal_to_ridicule)] Appeal to Ridicule [argumentum ad absurdo]\n",
    "* [[W](https://en.wikipedia.org/wiki/Appeal_to_spite)] Appeal to Spite [argumentum ad odium]\n",
    "* [[W](https://en.wikipedia.org/wiki/Argument_from_authority)] Argument from Authority, Appeal to Authority [argumentum ab auctoritate, argumentum ad verecundiam]\n",
    "* [[W](https://en.wikipedia.org/wiki/Argument_from_ignorance)] Argument from Ignorance, Appeal to Ignorance [argumentum ad ignorantiam]\n",
    "* [[W](https://en.wikipedia.org/wiki/Argument_from_silence)] Argument from Silence [argumentum ex silentio]\n",
    "* [[W](https://en.wikipedia.org/wiki/Begging_the_question)] Begging the Question [petitio principii]\n",
    "* [[W](https://en.wikipedia.org/wiki/Cherry_picking)] Cherry Picking\n",
    "* [[W](https://en.wikipedia.org/wiki/Circular_reasoning)] Circular Reasoning\n",
    "* [[W](https://en.wikipedia.org/wiki/Confusion_of_the_inverse)] Confusion of the Inverse\n",
    "* [[W](https://en.wikipedia.org/wiki/Quoting_out_of_context)] Contextomy (quoting out of context)\n",
    "* [[W](https://en.wikipedia.org/wiki/Equivocation)] Equivocation\n",
    "* [[W](https://en.wikipedia.org/wiki/Fallacy_of_composition)] Fallacy of Composition\n",
    "* [[W](https://en.wikipedia.org/wiki/Fallacies_of_definition)] Fallacy of Definition\n",
    "* [[W](https://en.wikipedia.org/wiki/Fallacy_of_division)] Fallacy of Division\n",
    "* [[W](https://en.wikipedia.org/wiki/Fallacy_of_the_single_cause)] Fallacy of the Single Cause\n",
    "* [[W](https://en.wikipedia.org/wiki/False_dilemma)] False Dilemma\n",
    "* [[W](https://en.wikipedia.org/wiki/Faulty_generalization)] Faulty Generalization\n",
    "* [[W](https://en.wikipedia.org/wiki/Irrelevant_conclusion)] Irrelevant Conclusion [ignoratio elenchi]\n",
    "* [[W](https://en.wikipedia.org/wiki/Jumping_to_conclusions)] Jumping to Conclusions\n",
    "* [[W](https://en.wikipedia.org/wiki/Ludic_fallacy)] Ludic Fallacy\n",
    "* [[W](https://en.wikipedia.org/wiki/Red_herring)] Red Herring\n",
    "* [[W](https://en.wikipedia.org/wiki/Reification_(fallacy))] Reification\n",
    "* [[W](https://en.wikipedia.org/wiki/Slippery_slope)] Slippery Slope\n",
    "* [[W](https://en.wikipedia.org/wiki/Sorites_paradox)] Sorites Paradox\n",
    "* [[W](https://en.wikipedia.org/wiki/Straw_man)] Strawman\n",
    "* [[W](https://en.wikipedia.org/wiki/Trivial_objections)] Trivial Objection\n",
    "* [[W](https://en.wikipedia.org/wiki/Wishful_thinking)] Wishful Thinking\n",
    "\n",
    "[[W](https://en.wikipedia.org/wiki/Formal_fallacy)] Formal Fallacy\n",
    "* [[W](https://en.wikipedia.org/wiki/Affirmative_conclusion_from_a_negative_premise)] Affirmative Conclusion from a Negative Premise\n",
    "* [[W](https://en.wikipedia.org/wiki/Affirming_the_consequent)] Affirming the Consequent\n",
    "* [[W](https://en.wikipedia.org/wiki/Affirming_a_disjunct)] Affirming a Disjunct\n",
    "* [[W](https://en.wikipedia.org/wiki/Argument_from_fallacy)] Argument from Fallacy\n",
    "* [[W](https://en.wikipedia.org/wiki/Denying_the_antecedent)] Denying the Antecedent\n",
    "* [[W](https://en.wikipedia.org/wiki/Fallacy_of_four_terms)] Fallacy of Four Terms\n",
    "* [[W](https://en.wikipedia.org/wiki/Fallacy_of_the_undistributed_middle)] Fallacy of the Undistributed Middle\n",
    "* [[W](https://en.wikipedia.org/wiki/Illicit_major)] Illicit Major\n",
    "* [[W](https://en.wikipedia.org/wiki/Illicit_minor)] Illicit Minor\n",
    "\n",
    "[[W](https://en.wikipedia.org/wiki/Mathematical_fallacy)] Mathematical Fallacy\n",
    "* [[W](https://en.wikipedia.org/wiki/Division_by_zero)] Division by Zero\n",
    "* [[W](https://en.wikipedia.org/wiki/Proof_by_example)] Proof by Example\n",
    "* [[W](https://en.wikipedia.org/wiki/Proof_by_intimidation)] Proof by Intimidation"
   ]
  },
  {
   "cell_type": "markdown",
   "metadata": {},
   "source": [
    "---"
   ]
  }
 ],
 "metadata": {
  "kernelspec": {
   "display_name": "ml",
   "language": "python",
   "name": "python3"
  },
  "language_info": {
   "codemirror_mode": {
    "name": "ipython",
    "version": 3
   },
   "file_extension": ".py",
   "mimetype": "text/x-python",
   "name": "python",
   "nbconvert_exporter": "python",
   "pygments_lexer": "ipython3",
   "version": "3.11.4"
  },
  "orig_nbformat": 4
 },
 "nbformat": 4,
 "nbformat_minor": 2
}
