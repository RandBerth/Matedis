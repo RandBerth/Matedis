{
 "cells": [
  {
   "cell_type": "markdown",
   "metadata": {},
   "source": [
    "# Exercises in Predicate Logic"
   ]
  },
  {
   "cell_type": "markdown",
   "metadata": {},
   "source": [
    "---"
   ]
  },
  {
   "cell_type": "markdown",
   "metadata": {},
   "source": [
    "Is the following proposition true or false?\n",
    "\n",
    "Let the domain of $x$ be the set of positive integers.\n",
    "\n",
    "$\n",
    "\\forall x\\, (x^2 \\gt x)\n",
    "$\n",
    "\n",
    "Counterexample: $x = 1 \\rightarrow x^2 \\not\\gt x$\n",
    "\n",
    "The proposition\n",
    "$\n",
    "\\forall x\\, (x^2 \\gt x)\n",
    "$\n",
    "is false.\n",
    "\n",
    "$\\blacksquare$"
   ]
  },
  {
   "cell_type": "markdown",
   "metadata": {},
   "source": [
    "---"
   ]
  },
  {
   "cell_type": "markdown",
   "metadata": {},
   "source": [
    "Is the following proposition true or false?\n",
    "\n",
    "Let the domain of $x$ be the set of positive integers.\n",
    "\n",
    "$\n",
    "\\forall x\\, (x^2 \\gt 0)\n",
    "$\n",
    "\n",
    "The proposition\n",
    "$\n",
    "\\forall x\\, (x^2 \\gt 0)\n",
    "$\n",
    "is true."
   ]
  },
  {
   "cell_type": "markdown",
   "metadata": {},
   "source": [
    "---"
   ]
  },
  {
   "cell_type": "markdown",
   "metadata": {},
   "source": [
    "Is the following proposition true or false?\n",
    "\n",
    "Let the domain of $x$ be the set of positive integers.\n",
    "\n",
    "$\n",
    "\\forall x\\, (x-1 \\ge 0)\n",
    "$\n",
    "\n",
    "The proposition\n",
    "$\n",
    "\\forall x\\, (x-1 \\ge 0)\n",
    "$\n",
    "is true."
   ]
  },
  {
   "cell_type": "markdown",
   "metadata": {},
   "source": [
    "---"
   ]
  },
  {
   "cell_type": "markdown",
   "metadata": {},
   "source": [
    "Is the following proposition true or false?\n",
    "\n",
    "Let the domain of $x$ be the set of positive integers.\n",
    "\n",
    "$\n",
    "\\forall x\\, (x-1 \\gt 0)\n",
    "$\n",
    "\n",
    "Counterexample: $x = 1 \\rightarrow x-1 \\not\\gt 0$\n",
    "\n",
    "The proposition\n",
    "$\n",
    "\\forall x\\, (x-1 \\gt 0)\n",
    "$\n",
    "is false.\n",
    "\n",
    "$\\blacksquare$"
   ]
  },
  {
   "cell_type": "markdown",
   "metadata": {},
   "source": [
    "---"
   ]
  },
  {
   "cell_type": "markdown",
   "metadata": {},
   "source": [
    "Is the following proposition true or false?\n",
    "\n",
    "Let the domain of $x$ be the set of positive integers.\n",
    "\n",
    "$\n",
    "\\begin{aligned}\n",
    "P(x)&:x\\,\\text{is prime} \\\\\n",
    "Q(x)&:x\\,\\text{is odd} \\\\\n",
    "\\exists x &\\, (P(x) \\land \\lnot Q(x))\n",
    "\\end{aligned}\n",
    "$\n",
    "\n",
    "\"There exists a positive integer that is prime and not odd.\"\n",
    "\n",
    "Example: $x = 2$\n",
    "\n",
    "The proposition\n",
    "$\n",
    "\\exists x \\, (P(x) \\land \\lnot Q(x))\n",
    "$\n",
    "is true.\n",
    "\n",
    "$\\blacksquare$"
   ]
  },
  {
   "cell_type": "markdown",
   "metadata": {},
   "source": [
    "---"
   ]
  },
  {
   "cell_type": "markdown",
   "metadata": {},
   "source": [
    "Is the following proposition true or false?\n",
    "\n",
    "Let the domain of $x$ be the set of positive integers.\n",
    "\n",
    "$\n",
    "\\begin{aligned}\n",
    "P(x)&:x\\,\\text{is prime} \\\\\n",
    "Q(x)&:x\\,\\text{is odd} \\\\\n",
    "\\forall x &\\, (P(x) \\rightarrow Q(x))\n",
    "\\end{aligned}\n",
    "$\n",
    "\n",
    "\"For every positive integer x, if x is prime then x is odd.\"\n",
    "\n",
    "Counterexample: $x = 2$\n",
    "\n",
    "The proposition\n",
    "$\n",
    "\\forall x \\, (P(x) \\rightarrow Q(x))\n",
    "$\n",
    "is false.\n",
    "\n",
    "$\\blacksquare$"
   ]
  },
  {
   "cell_type": "markdown",
   "metadata": {},
   "source": [
    "---"
   ]
  },
  {
   "cell_type": "markdown",
   "metadata": {},
   "source": [
    "Is the following statement a proposition?\n",
    "\n",
    "$\\exists x \\, P(x)$\n",
    "\n",
    "Yes"
   ]
  },
  {
   "cell_type": "markdown",
   "metadata": {},
   "source": [
    "---"
   ]
  },
  {
   "cell_type": "markdown",
   "metadata": {},
   "source": [
    "Is the following statement a proposition?\n",
    "\n",
    "$(\\exists x \\, S(x)) \\lor R(x)$\n",
    "\n",
    "No"
   ]
  },
  {
   "cell_type": "markdown",
   "metadata": {},
   "source": [
    "---"
   ]
  },
  {
   "cell_type": "markdown",
   "metadata": {},
   "source": [
    "Is the following statement a proposition?\n",
    "\n",
    "$\\exists x \\, (S(x) \\lor R(x))$\n",
    "\n",
    "Yes"
   ]
  },
  {
   "cell_type": "markdown",
   "metadata": {},
   "source": [
    "---"
   ]
  },
  {
   "cell_type": "markdown",
   "metadata": {},
   "source": [
    "Is the following statement a proposition?\n",
    "\n",
    "$\\forall x \\, P(x) \\lor \\exists x \\, Q(x)$\n",
    "\n",
    "Yes"
   ]
  },
  {
   "cell_type": "markdown",
   "metadata": {},
   "source": [
    "---"
   ]
  },
  {
   "cell_type": "markdown",
   "metadata": {},
   "source": [
    "Are the following propositions logically equivalent?\n",
    "\n",
    "$\\lnot \\exists x \\, (P(x) \\rightarrow \\lnot Q(x)) \\overset{?}{\\equiv} \\forall x \\, (P(x) \\land Q(x))$\n",
    "\n",
    "Proof by substitution\n",
    "\n",
    "$\n",
    "\\begin{aligned}\n",
    "\\lnot \\exists x \\, (P(x) \\rightarrow \\lnot Q(x)) && \\\\\n",
    "\\forall x \\, \\lnot(P(x) \\rightarrow \\lnot Q(x)) && \\text{De Morgan} \\\\\n",
    "\\forall x \\, \\lnot(\\lnot P(x) \\lor \\lnot Q(x)) && \\text{conditionality} \\\\\n",
    "\\forall x \\, (\\lnot\\lnot P(x) \\land \\lnot\\lnot Q(x)) && \\text{De Morgan} \\\\\n",
    "\\forall x \\, (P(x) \\land Q(x)) && \\text{double negation} \\\\\n",
    "\\end{aligned}\n",
    "$\n",
    "\n",
    "$\\therefore \\lnot \\exists x \\, (P(x) \\rightarrow \\lnot Q(x)) \\equiv \\forall x \\, (P(x) \\land Q(x))$\n",
    "\n",
    "$\\blacksquare$"
   ]
  },
  {
   "cell_type": "markdown",
   "metadata": {},
   "source": [
    "---"
   ]
  },
  {
   "cell_type": "markdown",
   "metadata": {},
   "source": [
    "Are the following propositions logically equivalent?\n",
    "\n",
    "$\\lnot \\forall x \\, (P(x) \\land \\lnot Q(x)) \\overset{?}{\\equiv} \\exists x \\, (\\lnot P(x) \\lor Q(x))$\n",
    "\n",
    "Proof by substitution\n",
    "\n",
    "$\n",
    "\\begin{aligned}\n",
    "\\lnot \\forall x \\, (P(x) \\land \\lnot Q(x)) && \\\\\n",
    "\\exists x \\, \\lnot(P(x) \\land \\lnot Q(x)) && \\text{De Morgan} \\\\\n",
    "\\exists x \\, (\\lnot P(x) \\lor \\lnot\\lnot Q(x)) && \\text{De Morgan} \\\\\n",
    "\\exists x \\, (\\lnot P(x) \\lor Q(x)) && \\text{double negation} \\\\\n",
    "\\end{aligned}\n",
    "$\n",
    "\n",
    "$\\therefore \\lnot \\forall x \\, (P(x) \\land \\lnot Q(x)) \\equiv \\exists x \\, (\\lnot P(x) \\lor Q(x))$\n",
    "\n",
    "$\\blacksquare$"
   ]
  },
  {
   "cell_type": "markdown",
   "metadata": {},
   "source": [
    "---"
   ]
  }
 ],
 "metadata": {
  "language_info": {
   "name": "python"
  },
  "orig_nbformat": 4
 },
 "nbformat": 4,
 "nbformat_minor": 2
}
