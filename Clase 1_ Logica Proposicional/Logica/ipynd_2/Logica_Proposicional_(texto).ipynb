{
  "cells": [
    {
      "cell_type": "markdown",
      "metadata": {
        "id": "-DmHEbeFQ4YP"
      },
      "source": [
        "# Traducción de frases en ingles a enunciados de lógica proposicional\n",
        "\n",
        "En un curso de Lógica, un ejercicio consiste en convertir una frase  como ésta:\n",
        "\n",
        "> *Sieglinde sobrevivirá, y o bien su hijo obtendrá el Anillo y el plan de Wotan se cumplirá o bien el Valhalla será destruido.*\n",
        "\n",
        "junto con las definiciones de las proposiciones:\n",
        "\n",
        "    P: Sieglinde sobrevivirá\n",
        "    P: El hijo de Sieglinde obtendrá el Anillo\n",
        "    R: El plan de Wotan se cumplirá\n",
        "    S: El Valhalla será destruido\n",
        "\n",
        "en un enunciado formal de lógica proposicional:\n",
        "\n",
        "    P ⋀ ((Q ⋀ R) ∨ S)\n",
        "    \n",
        "En el caso de algunas frases, se necesitan conocimientos detallados para conseguir una buena traducción. Las dos frases siguientes son ambiguas, con diferentes interpretaciones preferidas, y traducirlas correctamente requiere conocimientos sobre hábitos alimenticios:\n",
        "\n",
        "    Comeré ensalada o comeré pan y comeré mantequilla.     P ∨ (Q ⋀ R)\n",
        "    Comeré ensalada o comeré sopa y comeré helado.        (P ∨ Q) ⋀ R\n",
        "\n",
        "Pero para muchas frases, el proceso de traducción es automático, sin necesidad de conocimientos especiales.  \n",
        "\n",
        "Desarrollar un programa es importante para manejar estas frases fáciles. El programa se basa en la idea de una serie de reglas de traducción de la forma:\n",
        "\n",
        "    Regla('{P} ⇒ {Q}', 'si {P} entonces {Q}', 'si {P}, {Q}')\n",
        "    \n",
        "lo que significa que la traducción lógica tendrá la forma `'P ⇒ Q'`, siempre que la frase tenga la forma `'si P entonces Q'` o  `'si P, Q'`, donde `P` y `Q` puede coincidir con cualquier sucesión no vacía de caracteres.  Lo que coincida con `P` y `Q` serán procesados recursivamente por las reglas. Las reglas están en ordenserán procesados recursivamente por las reglas. Las reglas están en orden&mdash;de arriba abajo, de izquierda a derecha, y la primera regla que coincida en ese orden será aceptada, sin importar qué, así que asegúrate de ordenar tus reglas cuidadosamente. Una pauta que he seguido es poner todas las reglas que empiezan con una palabra clave (como `'si'` o `'tampoco'`.) antes de las reglas que empiezan por una variable (como `'{P}'`); Así evitará que una palabra clave quede engullida accidentalmente dentro de un `'{P}'`.\n",
        "\n",
        "Considere la frase de ejemplo `\"Si amarte está mal, no quiero tener razón.\"` Esto debería coincidir con el patrón `'si {P}, {Q}'` with the variable `P` equal to `\"amarte está mal\"`. Pero no quiero que la variable `Q` sea\n",
        "`\"No quiero tener razón\"`, más bien, quiero tener `～Q` igual a `\"Quiero tener razón\"`. Así que además de tener un conjunto de `Reglas` para manejar el `'si {P}, {Q}'` también tendré una lista de \"negaciones\" para manejar \"no\" y similares.\n",
        "\n",
        "Aquí está el código para procesar las definiciones `Reglas` (usando [expresiones regulares](https://docs.python.org/3.5/library/re.html) y aqui [  otra informacion](https://devarea.com/python-regular-expressions-practical-guide/), para aclarar lo que a veces puede resultar confuso)."
      ]
    },
    {
      "cell_type": "code",
      "execution_count": 66,
      "metadata": {
        "id": "UD4wibJyQ4YX"
      },
      "outputs": [],
      "source": [
        "import re\n",
        "\n",
        "def Rule(output, *patterns):\n",
        "    \"Una regla que produce `salida` si toda la entrada coincide con alguno de los `patrones`.\"\n",
        "    return (output, [nombre_grupo(pat) + '$' for pat in patterns])\n",
        "\n",
        "def nombre_grupo(pat):\n",
        "    \"Sustituir '{Q}' con '(?P<Q>.+?)', lo que significa 'coincide con 1 o más caracteres, y lo llama Q'\"\n",
        "    return re.sub('{(.)}', r'(?P<\\1>.+?)', pat)\n",
        "\n",
        "def palabra(w):\n",
        "    \"Devuelve una expresión regular que coincide con w como una palabra completa (no letras dentro de una palabra).\"\n",
        "    return r'\\b' + w + r'\\b' # '\\b' coincide con el límite de la palabra"
      ]
    },
    {
      "cell_type": "markdown",
      "metadata": {
        "id": "bWUIIRd5Q4YZ"
      },
      "source": [
        "Veamos cómo es una regla:"
      ]
    },
    {
      "cell_type": "code",
      "execution_count": null,
      "metadata": {
        "id": "MoR4yGoHQ4YZ"
      },
      "outputs": [],
      "source": [
        "Rule('{P} ⇒ {Q}', 'if {P} then {Q}', 'if {P}, {Q}'),"
      ]
    },
    {
      "cell_type": "markdown",
      "metadata": {
        "id": "F6aNIxBOQ4Yb"
      },
      "source": [
        "Y ahora las reglas propiamente dichas. Si su frase no se traduce correctamente, puede intentar aumentar estas reglas para manejar su frase."
      ]
    },
    {
      "cell_type": "code",
      "execution_count": 68,
      "metadata": {
        "id": "G2E5p7qHQ4Yb"
      },
      "outputs": [],
      "source": [
        "reglas = [\n",
        "    Rule('{P} ⇒ {Q}',         'if {P} then {Q}', 'if {P}, {Q}'),\n",
        "    Rule('{P} ⋁ {Q}',          'either {P} or else {Q}', 'either {P} or {Q}'),\n",
        "    Rule('{P} ⋀ {Q}',          'both {P} and {Q}'),\n",
        "    Rule('～{P} ⋀ ～{Q}',       'neither {P} nor {Q}'),\n",
        "    Rule('～{A}{P} ⋀ ～{A}{Q}', '{A} neither {P} nor {Q}'), # El Kaiser ni ...\n",
        "    Rule('～{Q} ⇒ {P}',        '{P} unless {Q}'),\n",
        "    Rule('{P} ⇒ {Q}',          '{Q} provided that {P}', '{Q} whenever {P}',\n",
        "                               '{P} implies {Q}', '{P} therefore {Q}',\n",
        "                               '{Q}, if {P}', '{Q} if {P}', '{P} only if {Q}'),\n",
        "    Rule('{P} ⋀ {Q}',          '{P} and {Q}', '{P} but {Q}'),\n",
        "    Rule('{P} ⋁ {Q}',          '{P} or else {Q}', '{P} or {Q}'),\n",
        "    ]\n",
        "\n",
        "negaciones = [\n",
        "    (palabra(\"not\"), \"\"),\n",
        "    (palabra(\"cannot\"), \"can\"),\n",
        "    (palabra(\"can't\"), \"can\"),\n",
        "    (palabra(\"won't\"), \"will\"),\n",
        "    (palabra(\"ain't\"), \"is\"),\n",
        "    (\"n't\", \"\"), # coincidencias como parte de una palabra: didn't, couldn't, etc.\n",
        "    ]"
      ]
    },
    {
      "cell_type": "markdown",
      "metadata": {
        "id": "8BA_Q-8IQ4Yc"
      },
      "source": [
        "Ahora el mecanismo para procesar estas reglas. La función clave es `regla_coincidencia`, que compara una frase en inglés con una regla. La función devuelve dos valores, una cadena que representa la traducción de la frase inglesa a la lógica, y `diccionario`, que es un diccionario de pares `{Variable: `value`}` . Si `regla_coincidenciae` encuentra que la regla coincide, llama recursivamente a `reglas_coincidencia` para que coincida con cada uno de los subgrupos de la expresión regular (la `P` y `Q` en `si {P}, entonces {Q}`).\n",
        "La función `match_literal` se encarga de las negaciones, y es donde el `diccionario` se actualiza."
      ]
    },
    {
      "cell_type": "code",
      "execution_count": 69,
      "metadata": {
        "id": "qon6hdUyQ4Yc"
      },
      "outputs": [],
      "source": [
        "def reglas_coincidencia(enunciado, reglas, diccionario):\n",
        "    \"\"\"Compara la frase con todas las reglas, aceptando la primera coincidencia; o bien la convierte en un átomo.\n",
        "    Devuelve dos valores: la traducción lógica y un dict de definiciones {P: 'english'}.\"\"\"\n",
        "    enunciado = limpiar(enunciado)\n",
        "    for regla in reglas:\n",
        "        result = regla_coincidencia(enunciado, regla, diccionario)\n",
        "        if result:\n",
        "            return result\n",
        "    return match_literal(enunciado, negaciones, diccionario)\n",
        "\n",
        "def regla_coincidencia(enunciado, regla, diccionario):\n",
        "    \"Regla de coincidencia, que devuelve la traducción lógica y el dict de definiciones si la coincidencia tiene éxito.\"\n",
        "    output, patterns = regla\n",
        "    for pat in patterns:\n",
        "        match = re.match(pat, enunciado, flags=re.I)\n",
        "        if match:\n",
        "            groups = match.groupdict()\n",
        "            for P in sorted(groups): # Aplicar recursivamente reglas a cada uno de los grupos coincidentes\n",
        "                groups[P] = reglas_coincidencia(groups[P], reglas, diccionario)[0]\n",
        "            return '(' + output.format(**groups) + ')', diccionario\n",
        "\n",
        "def match_literal(enunciado, negaciones, diccionario):\n",
        "    \"Ninguna regla coincide; la frase es un átomo. Añadir nueva proposición a diccionario. Manejar la negación.\"\n",
        "    polarity = ''\n",
        "    for (neg, pos) in negaciones:\n",
        "        (enunciado, n) = re.subn(neg, pos, enunciado, flags=re.I)\n",
        "        polarity += n * '～'\n",
        "    enunciado = limpiar(enunciado)\n",
        "    P = nombre_proposicion(enunciado, diccionario)\n",
        "    diccionario[P] = enunciado\n",
        "    return polarity + P, diccionario\n",
        "\n",
        "def nombre_proposicion(enunciado, diccionario, names='PQRSTUVWXYZBCDEFGHJKLMN'):\n",
        "    \"Devuelve el nombre antiguo de esta sentencia, si se usaba antes, o un nombre nuevo sin usar.\"\n",
        "    inverso = {diccionario[P]: P for P in diccionario}\n",
        "    if enunciado in inverso:\n",
        "        return inverso[enunciado]                      # Buscar nombre usado anteriormente\n",
        "    else:\n",
        "        return next(P for P in names if P not in diccionario) # Utilizar un nuevo nombre sin usar\n",
        "\n",
        "def limpiar(text):\n",
        "    \"Eliminar los espacios en blanco redundantes; tratar el apóstrofe y la coma/punto final.\"\n",
        "    return ' '.join(text.split()).replace(\"’\", \"'\").rstrip('.').rstrip(',')"
      ]
    },
    {
      "cell_type": "markdown",
      "metadata": {
        "id": "y9lC31azQ4Yd"
      },
      "source": [
        "Por ejemplo:"
      ]
    },
    {
      "cell_type": "code",
      "execution_count": null,
      "metadata": {
        "id": "gsNSiDOcQ4Yd"
      },
      "outputs": [],
      "source": [
        "regla_coincidencia(\"If loving you is wrong, I don't want to be right\",\n",
        "           Rule('{P} ⇒ {Q}', 'if {P}, {Q}'),\n",
        "           {})"
      ]
    },
    {
      "cell_type": "markdown",
      "metadata": {
        "id": "v7t9SNFVQ4Ye"
      },
      "source": [
        "Aquí hay algunos enunciados de prueba más, y una función de nivel superior para manejarlas:"
      ]
    },
    {
      "cell_type": "code",
      "execution_count": null,
      "metadata": {
        "id": "vQdpZYfsQ4Ye"
      },
      "outputs": [],
      "source": [
        "enunciados = '''\n",
        "Polkadots and Moonbeams.\n",
        "If you liked it then you shoulda put a ring on it.\n",
        "If you build it, he will come.\n",
        "It don't mean a thing, if it ain't got that swing.\n",
        "If loving you is wrong, I don't want to be right.\n",
        "Should I stay or should I go.\n",
        "I shouldn't go and I shouldn't not go.\n",
        "If I fell in love with you,\n",
        "  would you promise to be true\n",
        "  and help me understand.\n",
        "I could while away the hours\n",
        "  conferrin' with the flowers,\n",
        "  consulting with the rain\n",
        "  and my head I'd be a scratchin'\n",
        "  while my thoughts are busy hatchin'\n",
        "  if I only had a brain.\n",
        "There's a federal tax, and a state tax, and a city tax, and a street tax, and a sewer tax.\n",
        "A ham sandwich is better than nothing\n",
        "  and nothing is better than eternal happiness\n",
        "  therefore a ham sandwich is better than eternal happiness.\n",
        "If I were a carpenter\n",
        "  and you were a lady,\n",
        "  would you marry me anyway?\n",
        "  and would you have my baby.\n",
        "Either Danny didn't come to the party or Virgil didn't come to the party.\n",
        "Either Wotan will triumph and Valhalla will be saved or else he won't and Alberic will have\n",
        "  the final word.\n",
        "Sieglinde will survive, and either her son will gain the Ring and Wotan’s plan\n",
        "  will be fulfilled or else Valhalla will be destroyed.\n",
        "Wotan will intervene and cause Siegmund's death unless either Fricka relents\n",
        "  or Brunnhilde has her way.\n",
        "Figaro and Susanna will wed provided that either Antonio or Figaro pays and Bartolo is satisfied\n",
        "  or else Marcellina’s contract is voided and the Countess does not act rashly.\n",
        "If the Kaiser neither prevents Bismarck from resigning nor supports the Liberals,\n",
        "  then the military will be in control and either Moltke's plan will be executed\n",
        "  or else the people will revolt and the Reich will not survive'''.split('.')\n",
        "\n",
        "import textwrap\n",
        "\n",
        "def logica(enunciados, width=80):\n",
        "    \"Coteja las reglas con cada enunciado del texto y muestra cada resultado.\"\n",
        "    for s in map(limpiar, enunciados):\n",
        "        logica, diccionario = reglas_coincidencia(s, reglas, {})\n",
        "        print('\\n' + textwrap.fill('Ingles: ' + s +'.', width), '\\n\\nProposicion Logica:', logica)\n",
        "        for P in sorted(diccionario):\n",
        "            print('{}: {}'.format(P, diccionario[P]))\n",
        "\n",
        "logica(enunciados)"
      ]
    },
    {
      "cell_type": "markdown",
      "metadata": {
        "id": "P8Ap-VrzQ4Yf"
      },
      "source": [
        "Se ve muy bien. Pero lejos de ser perfecto.  Aquí hay algunos errores:\n",
        "\n",
        "* `Should I stay` *etc.*:<br>las preguntas no son enunciados proposicionales.\n",
        "\n",
        "* `If I were a carpenter`:<br>no maneja la lógica modal.\n",
        "\n",
        "* `nothing is better`:<br>no maneja cuantificadores.\n",
        "\n",
        "* `Either Wotan will triumph and Valhalla will be saved or else he won't`:<br>obtiene `'he will'` como una de las proposiciones, pero mejor sería que se refiriera a `'Wotan will triumph'`.\n",
        "\n",
        "* `Wotan will intervene and cause Siegmund's death`:<br>consigue `\"cause Siegmund's death\"` como propuesta, pero mejor sería `\"Wotan will cause Siegmund's death\"`.\n",
        "\n",
        "* `Figaro and Susanna will wed`:<br>consigue `\"Figaro\"` and `\"Susanna will wed\"` as two separate propositions; this should really be one proposition.\n",
        "\n",
        "* `\"either Antonio or Figaro pays\"`:<br>gets `\"Antonio\"` como una proposición, pero debería ser `\"Antonio pays\"`.\n",
        "\n",
        "* `If the Kaiser neither prevents`:<br>utiliza las proposiciones un tanto falsas `PQ` and `PR`. Esto debería hacerse de forma más limpia. El problema es el mismo que el problema anterior con Antonio: No tengo una buena manera de unir el sujeto de una frase verbal a las múltiples partes del verbo/objeto, cuando hay múltiples partes.\n",
        "\n",
        "\n",
        "\n",
        "De seguro de que más frases de prueba podrian mostrar muchos más tipos de errores, el reto es encontrarlo."
      ]
    }
  ],
  "metadata": {
    "kernelspec": {
      "display_name": "Python 3",
      "language": "python",
      "name": "python3"
    },
    "language_info": {
      "codemirror_mode": {
        "name": "ipython",
        "version": 3
      },
      "file_extension": ".py",
      "mimetype": "text/x-python",
      "name": "python",
      "nbconvert_exporter": "python",
      "pygments_lexer": "ipython3",
      "version": "3.5.3"
    },
    "colab": {
      "provenance": []
    }
  },
  "nbformat": 4,
  "nbformat_minor": 0
}