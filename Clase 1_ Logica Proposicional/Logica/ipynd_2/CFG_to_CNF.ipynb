{
  "cells": [
    {
      "cell_type": "markdown",
      "metadata": {
        "id": "ibSm1LmuX380"
      },
      "source": [
        "#Conversion de CFG a CNF"
      ]
    },
    {
      "cell_type": "code",
      "execution_count": 62,
      "metadata": {
        "id": "XMs6WXLBX382"
      },
      "outputs": [],
      "source": [
        "import copy\n",
        "import re"
      ]
    },
    {
      "cell_type": "code",
      "execution_count": null,
      "metadata": {
        "id": "FS1_CZ3ZX383"
      },
      "outputs": [],
      "source": [
        "# Crear nuevo inicio y añadirlo a las entradas\n",
        "# prueba = ['S->ABA','A->aA|ε','B->bBc|ε']\n",
        "\n",
        "prueba = ['S->ASB|a', 'A->aAS|a|ε', 'B->SbS|A|bb']\n",
        "\n",
        "nuevo_inicio = 'N->'+ prueba[0][0]\n",
        "\n",
        "nueva_prueba = [None] * (len(prueba) + 1)\n",
        "\n",
        "nueva_prueba[0] = nuevo_inicio\n",
        "\n",
        "nueva_prueba[1:] = prueba\n",
        "\n",
        "print(nueva_prueba)"
      ]
    },
    {
      "cell_type": "code",
      "execution_count": null,
      "metadata": {
        "id": "9Tt99z3nX384"
      },
      "outputs": [],
      "source": [
        "def addAndSymbol(input:list[str])->list[str]:\n",
        "    operators = ['|','>','-','.']\n",
        "    for regla in range(len(input)):\n",
        "        reglas = list(input[regla])\n",
        "        insertOffset = 0\n",
        "        for i in range(1, len(input[regla])):\n",
        "            if input[regla][i] not in operators and input[regla][i-1] not in operators:\n",
        "                a = reglas[i]\n",
        "                b = reglas[i-1]\n",
        "                reglas.insert(i+insertOffset,'.')\n",
        "                insertOffset += 1\n",
        "        input[regla] = ''.join(reglas)\n",
        "    return input\n",
        "\n",
        "def stringListToCFG(input:list[str])->dict[str,set[str]]:\n",
        "    input = addAndSymbol(input)\n",
        "    input = [x.split('->') for x in input]\n",
        "    input = [{x[0]:set(x[1].split('|'))} for x in input]\n",
        "    return input\n",
        "print(addAndSymbol(nueva_prueba))\n",
        "print(stringListToCFG(nueva_prueba))"
      ]
    },
    {
      "cell_type": "code",
      "execution_count": 65,
      "metadata": {
        "id": "itHf_NSyX384"
      },
      "outputs": [],
      "source": [
        "from itertools import combinations\n",
        "\n",
        "# funciones de ayuda que producen las combinaciones de todas las letras que hay que eliminar\n",
        "def remove_indices(string_,to_remove):\n",
        "    # encontrar posición todo lo que necesita para eliminar\n",
        "    positions_toremove =[]\n",
        "    for j in range(len(string_)):\n",
        "        if string_[j] == to_remove:\n",
        "            positions_toremove.append(j)\n",
        "    # generar combinaciones de este índice\n",
        "    indecies=[]\n",
        "    for j in range(1,len(positions_toremove)+1):\n",
        "        indecies.extend(list(combinations(positions_toremove, r=j)))\n",
        "\n",
        "    return indecies"
      ]
    },
    {
      "cell_type": "code",
      "execution_count": 66,
      "metadata": {
        "id": "BEWhxhUtX385"
      },
      "outputs": [],
      "source": [
        "# una función auxiliar para recorrer los índices y eliminarlos\n",
        "def generate_combinations(string_,indecies):\n",
        "    # bucle a través de la cadena y eliminar de acuerdo con la combinación\n",
        "    temp_str=set()\n",
        "    c=list(string_)\n",
        "    for i in indecies:\n",
        "        x=c.copy()\n",
        "        for j in i:\n",
        "            x[j]=''\n",
        "\n",
        "        added = ''.join(x)\n",
        "        if len(added) == 0:\n",
        "            temp_str.add('ε')\n",
        "        else:\n",
        "            temp_str.add(added)\n",
        "\n",
        "    return temp_str"
      ]
    },
    {
      "cell_type": "code",
      "execution_count": 67,
      "metadata": {
        "id": "SmqW52yKX385"
      },
      "outputs": [],
      "source": [
        "# una función de ayuda para asegurarse de que no hay nulos para eliminar aún más\n",
        "def no_null(CFG, start):\n",
        "    for key, values in CFG.items():\n",
        "        if \"ε\" in values and key != start:\n",
        "            return False\n",
        "    return True"
      ]
    },
    {
      "cell_type": "code",
      "execution_count": 68,
      "metadata": {
        "id": "DLJSvEbgX385"
      },
      "outputs": [],
      "source": [
        "# ========================== remove null productions\n",
        "def remove_null_production(CFG, start):\n",
        "    # terminado = []\n",
        "    while no_null(CFG, start) == False:\n",
        "        for key, values in CFG.items():\n",
        "            # empezar por encontrar cualquier épsilon para poder eliminarlo y sustituirlo\n",
        "            # si clave en acabado y \"ε\" en valores y clave != inicio:\n",
        "            # eliminar el épsilon y darlo por terminado\n",
        "            # CFG[key].remove('ε')\n",
        "\n",
        "            if \"ε\" in values and key != start:\n",
        "                # encontrar todos los valores de la clave\n",
        "                CFG[key].remove('ε')\n",
        "                for keys2, values2 in CFG.items():\n",
        "                    # bucle para encontrar la llave que tenía la epsolina\n",
        "                    for j in values2:\n",
        "                        if key in ''.join(list(j)):\n",
        "                            #buscar la clave en los valores\n",
        "                            CFG[keys2] = CFG[keys2].union(generate_combinations(j,remove_indices(j,key)))\n",
        "                #finished.append(key)\n",
        "                CFGcopy = copy.deepcopy(CFG)\n",
        "                for i in CFGcopy:\n",
        "                    for j in CFGcopy[i]:\n",
        "                        # noEps = re.search('[a-zA-Z]+', j)\n",
        "                        CFG[i].add(j.replace('..', '.'))\n",
        "                        if (j != j.replace('..', '.')):\n",
        "                            CFG[i].remove(j)\n",
        "                            j = j.replace('..', '.')\n",
        "                        if (j[0] == '.' or j[-1] == '.'):\n",
        "                            CFG[i].add(j.strip('.'))\n",
        "                            CFG[i].remove(j)\n",
        "\n",
        "    return CFG"
      ]
    },
    {
      "cell_type": "code",
      "execution_count": null,
      "metadata": {
        "id": "0OOLR9hYX386"
      },
      "outputs": [],
      "source": [
        "CFG = stringListToCFG(nueva_prueba)\n",
        "CFG"
      ]
    },
    {
      "cell_type": "code",
      "execution_count": null,
      "metadata": {
        "id": "QQl__ybZX386"
      },
      "outputs": [],
      "source": [
        "CFGdict = {}\n",
        "for i in range (0, len(CFG)):\n",
        "    CFGdict.update(CFG[i])\n",
        "\n",
        "CFGdict"
      ]
    },
    {
      "cell_type": "code",
      "execution_count": null,
      "metadata": {
        "id": "kI2dqpPPX387"
      },
      "outputs": [],
      "source": [
        "CFG = remove_null_production(CFGdict, nuevo_inicio[0])\n",
        "CFG"
      ]
    },
    {
      "cell_type": "code",
      "execution_count": 72,
      "metadata": {
        "id": "lRRbhUeQX387"
      },
      "outputs": [],
      "source": [
        "# una función de ayuda para buscar todos los nonterminales que están solos y los añade a una lista\n",
        "def contain_nonterminal(set_value):\n",
        "    set_of_nonterminals = set()\n",
        "    for i in set_value:\n",
        "        if len(i) == 1 and i.isupper():\n",
        "            set_of_nonterminals.add(i)\n",
        "    return set_of_nonterminals\n"
      ]
    },
    {
      "cell_type": "code",
      "execution_count": 73,
      "metadata": {
        "id": "lUMzJDhxX387"
      },
      "outputs": [],
      "source": [
        "# una función de ayuda para asegurarse de que ya no hay nontermianls solo\n",
        "def done(CFG):\n",
        "    for k, v in CFG.items():\n",
        "        if len(contain_nonterminal(v)) != 0:\n",
        "            return False\n",
        "    return True"
      ]
    },
    {
      "cell_type": "code",
      "execution_count": 74,
      "metadata": {
        "id": "A36NZ7tuX387"
      },
      "outputs": [],
      "source": [
        "# =============================== Función final de producción unitaria\n",
        "def remove_unit_production(CFG):\n",
        "\n",
        "    while done(CFG) != True:\n",
        "        # bucle a través del diccionario para encontrar nontemrminals que están solos\n",
        "        for primary_key, set_value in CFG.items():\n",
        "            set_non_terminals = contain_nonterminal(set_value)\n",
        "            if len(set_non_terminals) != 0:\n",
        "                #en caso de que haya varios nonterminales solos en un valor\n",
        "                for i in set_non_terminals:\n",
        "                    # suprimir todos los no terminales\n",
        "                    CFG[primary_key].remove(i)\n",
        "                    # # unión de los valores primarios y los valores no terminales buscados\n",
        "                    CFG[primary_key] =  CFG[primary_key].union(CFG[i])\n",
        "                    # eliminar si la clave primaria es igual a un no terminal\n",
        "                    if i == primary_key and i in CFG[primary_key]:\n",
        "                        CFG[primary_key].remove(i)\n",
        "    return CFG"
      ]
    },
    {
      "cell_type": "code",
      "execution_count": null,
      "metadata": {
        "id": "OWNX7wkAX388"
      },
      "outputs": [],
      "source": [
        "#CFG2 = {\"S\": {\"A.a\", \"B\"}, \"A\": {\"a\", \"b.c\", \"B\"}, \"B\": {\"A\", \"b.b\"}}\n",
        "CFG = remove_unit_production(CFG)\n",
        "print(CFG)"
      ]
    },
    {
      "cell_type": "code",
      "execution_count": 76,
      "metadata": {
        "id": "fiZCCJ0RX388"
      },
      "outputs": [],
      "source": [
        "# prueba = {'S': {'a.S', 'A', 'C'}, 'A': {'a'}, 'B': {'a.a'}, 'C': {'a.C.b'}}\n",
        "# inicio = 'S'\n",
        "\n",
        "def eliminateUselessProd(cfg, start):\n",
        "    testCopy = copy.deepcopy(cfg)\n",
        "\n",
        "    # no generador\n",
        "    non_generating = set()\n",
        "    for i in cfg[start]:\n",
        "        for j in i:\n",
        "            # caso1: si el estado inicial tiene un no-terminal que no es una clave, es decir, que no tiene transiciones, se añade al conjunto no generador.\n",
        "            if (j not in cfg.keys() and j.isupper()):\n",
        "                non_generating.add(j)\n",
        "                continue\n",
        "            # caso2: si un no terminal transiciona a un terminal Y no terminal, sin y épsilon, lo que significa que el no terminal no puede ser eliminado,\n",
        "            # se considera no generador. Comprueba si está en mayúsculas y no tiene una transición épsilon y ninguna transición a terminal\n",
        "            if ((j.isupper()) and ('' not in cfg[j]) and (len(cfg[j]) == 1)):\n",
        "                for k in str(cfg[j]):\n",
        "                    if k.isupper():\n",
        "                        non_generating.add(j)\n",
        "\n",
        "    # elimina el elemento que tiene un no-terminal no generador\n",
        "    for i in testCopy[start]:\n",
        "        for j in i:\n",
        "            if ((j in non_generating)):\n",
        "                cfg[start].remove(i)\n",
        "    # borra el no-terminal no-generador del cfg\n",
        "    for i in non_generating:\n",
        "        del cfg[i]\n",
        "\n",
        "    # No accesible\n",
        "    reachable = {}\n",
        "    non_reachable = {}\n",
        "\n",
        "    for i in cfg[start]:\n",
        "        for j in i:        # comprueba los no-terminales en el estado inicial y los añade al dict alcanzable con sus valores\n",
        "            if (j.isupper()):\n",
        "                reachable[j] = cfg[j]\n",
        "\n",
        "    for i in cfg.keys():   # añade cualquier no-terminal encontrado en el CFG que no esté en el dict accesible y lo añade al dict no alcanzable\n",
        "        if ((i not in reachable.keys()) and i != start):\n",
        "            non_reachable[i] = cfg[i]\n",
        "\n",
        "    for i in testCopy:     # recorre los no-terminales que no pueden ser alcanzados desde el estado inicial y los borra\n",
        "        if i in non_reachable:\n",
        "            del cfg[i]\n",
        "\n",
        "    return cfg\n",
        "\n",
        "CFG = eliminateUselessProd(CFG, nuevo_inicio[0])\n",
        "\n",
        ""
      ]
    },
    {
      "cell_type": "code",
      "execution_count": null,
      "metadata": {
        "id": "951iVpZpX388"
      },
      "outputs": [],
      "source": [
        "print(CFG)"
      ]
    },
    {
      "cell_type": "code",
      "execution_count": null,
      "metadata": {
        "id": "AFi8gN6nX388"
      },
      "outputs": [],
      "source": [
        "def ReduceStringToEvens(regla:str,originalInput:dict[str,set[str]],currentDict:dict[str,set[str]],currentCounter:int)->tuple[str,dict[str,str],int]:\n",
        "    output = {}\n",
        "    if regla.count('.') == 1:\n",
        "        return regla,{},currentCounter\n",
        "    splitString = regla.split('.')\n",
        "    if(len(splitString)%2==1):\n",
        "        evenRule = None\n",
        "        firstTwoLiterals = regla[:regla.index('.',regla.index('.')+1)]\n",
        "        if {firstTwoLiterals} in originalInput.values():\n",
        "            newRuleKey = list(originalInput.keys())[list(originalInput.values()).index({firstTwoLiterals})]\n",
        "            evenRule = regla.replace(firstTwoLiterals,newRuleKey)\n",
        "        elif {firstTwoLiterals} not in currentDict.values():\n",
        "            newRuleKey = f'K{currentCounter}'\n",
        "            currentCounter += 1\n",
        "            newRuleValue= firstTwoLiterals\n",
        "            output[newRuleKey] = {newRuleValue}\n",
        "            evenRule = regla.replace(firstTwoLiterals,newRuleKey)\n",
        "        else:\n",
        "            newRuleKey = list(currentDict.keys())[list(currentDict.values()).index({firstTwoLiterals})]\n",
        "            evenRule = regla.replace(firstTwoLiterals,newRuleKey)\n",
        "    else:\n",
        "        evenRule = regla\n",
        "\n",
        "    currentDict.update(output)\n",
        "    if len(evenRule.split('.'))>2:\n",
        "        left = '.'.join(splitString[:len(splitString)//2])\n",
        "        right = '.'.join(splitString[len(splitString)//2:])\n",
        "        leftSet = {left}\n",
        "        if leftSet in originalInput.values():\n",
        "            leftKey = list(originalInput.keys())[list(originalInput.values()).index(leftSet)]\n",
        "        elif leftSet in output.values():\n",
        "            leftKey = list(output.keys())[list(output.values()).index(leftSet)]\n",
        "        elif leftSet not in currentDict.values():\n",
        "            leftKey = currentCounter\n",
        "            currentCounter += 1\n",
        "            leftKey = f'K{leftKey}'\n",
        "        else:\n",
        "            leftKey = list(currentDict.keys())[list(currentDict.values()).index({left})]\n",
        "        splitStringLeft = ReduceStringToEvens(left,originalInput,currentDict,currentCounter)\n",
        "        currentCounter = splitStringLeft[2]\n",
        "        output.update(splitStringLeft[1])\n",
        "        output[f'{leftKey}'] = {splitStringLeft[0]}\n",
        "\n",
        "        rightSet = {right}\n",
        "        if rightSet in originalInput.values():\n",
        "            rightKey = list(originalInput.keys())[list(originalInput.values()).index(rightSet)]\n",
        "        elif rightSet in output.values():\n",
        "            rightKey = list(output.keys())[list(output.values()).index(rightSet)]\n",
        "        elif rightSet not in currentDict.values():\n",
        "            rightKey = currentCounter\n",
        "            currentCounter += 1\n",
        "            rightKey = f'K{rightKey}'\n",
        "        else:\n",
        "            rightKey = list(currentDict.keys())[list(currentDict.values()).index(rightSet)]\n",
        "        splitStringRight = ReduceStringToEvens(right,originalInput,currentDict,currentCounter)\n",
        "        output[f'{rightKey}'] = {splitStringRight[0]}\n",
        "        currentCounter = splitStringRight[2]\n",
        "        output.update(splitStringRight[1])\n",
        "\n",
        "        evenRule = f'{leftKey}.{rightKey}'\n",
        "\n",
        "    return evenRule,output,currentCounter\n",
        "\n",
        "\n",
        "def ToCNF(input : dict[str,set[str]])->dict[str,set[str]]:\n",
        "    output = {}\n",
        "    newRuleCounter = 0\n",
        "    for k,v in input.items():\n",
        "        FinalValue = set()\n",
        "        for regla in v:\n",
        "            if(len(regla)>1):\n",
        "                elementos = regla.split('.')\n",
        "                for i in range(len(elementos)):\n",
        "                    if(elementos[i].islower()):\n",
        "                        if {elementos[i]} in input.values():\n",
        "                            newRuleKey = list(input.keys())[list(input.values()).index({elementos[i]})]\n",
        "                            elementos[i] = newRuleKey\n",
        "                        elif {elementos[i]} not in output.values():\n",
        "                            newRuleKey = f'K{newRuleCounter}'\n",
        "                            newRuleCounter += 1\n",
        "                            newRuleValue = elementos[i]\n",
        "                            output[newRuleKey] = {newRuleValue}\n",
        "                            elementos[i] = newRuleKey\n",
        "                        else:\n",
        "                            newRuleKey = list(output.keys())[list(output.values()).index({elementos[i]})]\n",
        "                            elementos[i] = newRuleKey\n",
        "                regla = '.'.join(elementos)\n",
        "            if len(regla.split('.'))<=2:\n",
        "                FinalValue.add(regla)\n",
        "                continue\n",
        "            final = ReduceStringToEvens(regla,input,output,newRuleCounter)\n",
        "            newRuleCounter = final[2]\n",
        "            output.update(final[1])\n",
        "            evenRule = final[0]\n",
        "            FinalValue.add(evenRule)\n",
        "        output[k] = FinalValue\n",
        "    sortedOutput = {}\n",
        "    for k in input.keys():\n",
        "        sortedOutput[k] = output[k]\n",
        "    sortedOutput.update(output)\n",
        "    return sortedOutput\n",
        "\n",
        "print(CFG)\n",
        "ToCNF(CFG)"
      ]
    }
  ],
  "metadata": {
    "kernelspec": {
      "display_name": "Python 3",
      "language": "python",
      "name": "python3"
    },
    "language_info": {
      "codemirror_mode": {
        "name": "ipython",
        "version": 3
      },
      "file_extension": ".py",
      "mimetype": "text/x-python",
      "name": "python",
      "nbconvert_exporter": "python",
      "pygments_lexer": "ipython3",
      "version": "3.9.13"
    },
    "orig_nbformat": 4,
    "colab": {
      "provenance": []
    }
  },
  "nbformat": 4,
  "nbformat_minor": 0
}