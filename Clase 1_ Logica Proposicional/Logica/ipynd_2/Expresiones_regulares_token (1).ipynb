{
  "cells": [
    {
      "cell_type": "markdown",
      "metadata": {
        "id": "6XlWdEDB6TEK"
      },
      "source": [
        "# Expresiones regulares y tokenización de palabras\n",
        "Aqui se presentan algunos conceptos básicos de la PNL, como la tokenización de palabras y las expresiones regulares para ayudar a analizar el texto. También aprenderás cómo manejar texto en otros idiomas y la tokenización más difícil que puedas encontrar. Este es un resumen de  \"Procesamiento del Lenguaje Natural en Python\", vía datacamp.\n",
        "\n",
        "- toc: true\n",
        "- insignias: true\n",
        "- comentarios: true\n",
        "- autor: Chanseok Kang\n",
        "- categorías: [Python, Datacamp, Procesamiento_del_lenguaje_natural]\n",
        "- imagen: images/line_num_words.png"
      ]
    },
    {
      "cell_type": "code",
      "execution_count": 1,
      "metadata": {
        "id": "QL5T0XhV6TEO",
        "colab": {
          "base_uri": "https://localhost:8080/"
        },
        "outputId": "c6e61b9b-144d-4330-b988-358d60ff6a0b"
      },
      "outputs": [
        {
          "output_type": "stream",
          "name": "stderr",
          "text": [
            "[nltk_data] Downloading package punkt to /root/nltk_data...\n",
            "[nltk_data]   Unzipping tokenizers/punkt.zip.\n"
          ]
        },
        {
          "output_type": "execute_result",
          "data": {
            "text/plain": [
              "True"
            ]
          },
          "metadata": {},
          "execution_count": 1
        }
      ],
      "source": [
        "import re\n",
        "import nltk           #Tokenización de palabras con NLTK\n",
        "from pprint import pprint\n",
        "from nltk.tokenize import sent_tokenize\n",
        "from nltk.tokenize import word_tokenize\n",
        "nltk.download('punkt')# descarga y desempaqueta nltk_data, #nltk.download('stopwords'),#nltk.download('corpus')"
      ]
    },
    {
      "cell_type": "markdown",
      "metadata": {
        "id": "Cgpqykhe6TEP"
      },
      "source": [
        "## Introducción a las expresiones regulares\n",
        "- Expresiones regulares\n",
        "    - Cadenas con una sintaxis especial\n",
        "    - Nos permiten emparejar patrones en otras cadenas\n",
        "    - Aplicaciones de las expresiones regulares\n",
        "        - Encontrar todos los enlaces web de un documento\n",
        "        - Analizar direcciones de correo electrónico, eliminar/reemplazar caracteres no deseados\n",
        "- Patrones Regex comunes\n",
        "\n",
        "| patrón | matches | ejemplos |\n",
        "| ------- | ------- | -------- |\n",
        "| \\w+ | palabra | 'Magia' |\n",
        "| \\d | dígito | 9 |\n",
        "| \\s | espacio | '' |\n",
        "| .* | comodín | 'usuario74' |\n",
        "| + or * | greedy match | 'aaaaaaa' |\n",
        "| \\S | sin espacio | 'sin_espacios' |\n",
        "| [a-z] | grupo minúsculas | 'abcdfg' |\n",
        "\n",
        "- Módulo **re** de Python\n",
        "    - `split`: dividir una cadena en regex\n",
        "    - `findall`: buscar todos los patrones de una cadena\n",
        "    - `search`: buscar un patrón\n",
        "    - `match`: hacer coincidir una cadena completa o una subcadena a partir de un patrón\n",
        "    - El patrón primero y la cadena después\n",
        "    - Puede devolver un iterador, una cadena o un objeto de coincidencia"
      ]
    },
    {
      "cell_type": "code",
      "execution_count": 2,
      "metadata": {
        "id": "72ZeLXv26TEP",
        "outputId": "b81de91f-8708-4130-e322-32c7ad730679",
        "colab": {
          "base_uri": "https://localhost:8080/"
        }
      },
      "outputs": [
        {
          "output_type": "execute_result",
          "data": {
            "text/plain": [
              "['Escribamos', 'RegEx']"
            ]
          },
          "metadata": {},
          "execution_count": 2
        }
      ],
      "source": [
        "cadena = \"Escribamos RegEx!\"\n",
        "PATRON = r\"\\w+\"\n",
        "re.findall(PATRON, cadena)"
      ]
    },
    {
      "cell_type": "markdown",
      "metadata": {
        "id": "bjLnKKN86TEQ"
      },
      "source": [
        "### Práctica de expresiones regulares - re.split() y re.findall()\n",
        "Ahora tendrás la oportunidad de escribir algunas expresiones regulares para emparejar dígitos, cadenas y caracteres no alfanuméricos. Echa un vistazo a \"cadena\" primero imprimiéndola en la IPython Shell, para determinar cómo podrías emparejar mejor los diferentes pasos.\n",
        "\n",
        "Nota: Es importante prefijar tus **patrones regex** con `r` para asegurarte de que tus patrones se interpretan de la forma que deseas. De lo contrario, puede encontrarse con problemas relacionados con las secuencias de escape en las cadenas.\n",
        "\n",
        "Por ejemplo, `\"\\n\"` en Python se usa para indicar una nueva línea, pero si usas el prefijo `r`, se interpretará como la cadena cruda `\"\\n\"` - es decir, el carácter `\"\\\"` seguido del carácter `\"n\"` - y no como una nueva línea.\n",
        "\n",
        "Recuerda que la sintaxis para la librería regex es siempre pasar primero el **patrón**, y después la **cadena**."
      ]
    },
    {
      "cell_type": "code",
      "execution_count": 3,
      "metadata": {
        "id": "WVzvae0w6TES"
      },
      "outputs": [],
      "source": [
        "cadena = \"¡Escribamos RegEx!  ¿No será divertido?  Seguro que sí.  ¿Puedes encontrar 4 frases?  ¿O quizás las 19 palabras?\""
      ]
    },
    {
      "cell_type": "code",
      "execution_count": 4,
      "metadata": {
        "id": "qggWJ3Z-6TET",
        "outputId": "fa3f83c1-b6ff-42c2-8e83-4d2986add3c9",
        "colab": {
          "base_uri": "https://localhost:8080/"
        }
      },
      "outputs": [
        {
          "output_type": "stream",
          "name": "stdout",
          "text": [
            "['¡Escribamos RegEx', '  ¿No será divertido', '  Seguro que sí', '  ¿Puedes encontrar 4 frases', '  ¿O quizás las 19 palabras', ''] \n",
            "\n",
            "['Escribamos', 'RegEx', 'No', 'Seguro', 'Puedes'] \n",
            "\n",
            "['¡Escribamos', 'RegEx!', '¿No', 'será', 'divertido?', 'Seguro', 'que', 'sí.', '¿Puedes', 'encontrar', '4', 'frases?', '¿O', 'quizás', 'las', '19', 'palabras?'] \n",
            "\n",
            "['4', '19'] \n",
            "\n"
          ]
        }
      ],
      "source": [
        "# Escribe un patrón para que coincida con las finales de frase: terminaciones_de_frase\n",
        "terminaciones_de_frase = r\"[.?!]\"\n",
        "\n",
        "# Divide \"cadena\" en los finales de frase e imprime el resultado\n",
        "print(re.split(terminaciones_de_frase, cadena),\"\\n\")\n",
        "\n",
        "# Encuentra todas las palabras capitalizadas en \"cadena\" e imprime el resultado\n",
        "palabras_MAYUS = r\"[A-Z]\\w+\"\n",
        "print(re.findall(palabras_MAYUS, cadena),\"\\n\")\n",
        "\n",
        "# Divide \"cadena\" en espacios e imprime el resultado\n",
        "espacios = r\"\\s+\"\n",
        "print(re.split(espacios, cadena),\"\\n\")\n",
        "\n",
        "# Encuentra todos los dígitos en \"cadena\" e imprime el resultado\n",
        "digitos = r\"\\d+\"\n",
        "print(re.findall(digitos, cadena),\"\\n\")"
      ]
    },
    {
      "cell_type": "markdown",
      "metadata": {
        "id": "ViQJAjK86TET"
      },
      "source": [
        "## Introducción a la tokenización\n",
        "\n",
        "Tokenización es el proceso de división de un texto en unidades más pequeñas llamadas **«tokens»**, que pueden ser palabras, subpalabras o caracteres. Esta división ayuda a estructurar el texto y facilita su procesamiento posterior por modelos y algoritmos de **NLP**.\n",
        "- Tokenizacion\n",
        "    - Convertir una cadena o un documento en **tokens** (trozos más pequeños)\n",
        "    - Una etapa de la preparación de un texto para la PNL\n",
        "    - Muchas teorías y reglas diferentes\n",
        "    - Puede crear sus propias reglas utilizando expresiones regulares\n",
        "    - Algunos ejemplos:\n",
        "        - Separación de palabras o frases\n",
        "        - Separar los signos de puntuación\n",
        "        - Separar todos los hashtags de un tweet\n",
        "- ¿Por qué tokenizar?\n",
        "    - Es más fácil determinar la parte de la oración\n",
        "    - Coincidencia de palabras comunes\n",
        "    - Eliminación de tokens no deseados\n",
        "- Otros tokenizadores `nltk`\n",
        "    - `sent_tokenize`: tokeniza un documento en frases\n",
        "    - `regexp_tokenize`: tokeniza una cadena o documento basándose en un patrón de expresión regular\n",
        "    - `TweetTokenizer`: clase especial para la tokenización de tweets, que permite separar hashtags, menciones y muchos signos de exclamación."
      ]
    },
    {
      "cell_type": "markdown",
      "metadata": {
        "id": "P0HLqQCp6TET"
      },
      "source": [
        "### Tokenización de palabras con NLTK\n",
        "Aquí utilizarás la primera escena de Monty Python's Holy Grail, que ha sido precargada como `scene_one`.\n",
        "\n",
        "Tu trabajo en este ejercicio es utilizar `word_tokenize` y `sent_tokenize` de `nltk.tokenize` para tokenizar tanto palabras como frases a partir de cadenas de Python - en este caso, la primera escena de El Santo Grial de los Monty Python."
      ]
    },
    {
      "cell_type": "markdown",
      "metadata": {
        "id": "zD7GgMGQ6TEU"
      },
      "source": [
        "> Note: Before using NLTK, you must install `punkt` package for tokenizer"
      ]
    },
    {
      "cell_type": "code",
      "execution_count": null,
      "metadata": {
        "id": "0AHikd1u6TEU"
      },
      "outputs": [],
      "source": [
        "with open('grail.txt', 'r') as file:\n",
        "    holy_grail = file.read()\n",
        "    scene_one = re.split('SCENE 2:', holy_grail)[0]"
      ]
    },
    {
      "cell_type": "code",
      "execution_count": null,
      "metadata": {
        "id": "w3567I0a6TEU"
      },
      "outputs": [],
      "source": [
        "scene_one"
      ]
    },
    {
      "cell_type": "code",
      "execution_count": null,
      "metadata": {
        "id": "4KKJCNFH6TEU"
      },
      "outputs": [],
      "source": [
        "from nltk.tokenize import word_tokenize, sent_tokenize\n",
        "\n",
        "# Split scene_one into sentences: sentences\n",
        "sentences = sent_tokenize(scene_one)\n",
        "\n",
        "# Use word_tokenize to tokenize the fourth sentence: tokenized_sent\n",
        "tokenized_sent = word_tokenize(sentences[3])\n",
        "\n",
        "# Make a set of unique tokens in the entire scene: unique_tokens\n",
        "unique_tokens = set(word_tokenize(scene_one))\n",
        "\n",
        "# Print the unique tokens result\n",
        "print(unique_tokens)"
      ]
    },
    {
      "cell_type": "markdown",
      "metadata": {
        "id": "s_wsN-PE6TEV"
      },
      "source": [
        "### Más regex con re.search()\n",
        "En este ejercicio, utilizarás `re.search()` y `re.match()` para encontrar tokens específicos. Tanto search como match esperan patrones regex, similares a los que definiste en un ejercicio anterior. Aplicarás estos métodos de la biblioteca regex al mismo texto de Monty Python del corpus `nltk`.\n",
        "\n"
      ]
    },
    {
      "cell_type": "code",
      "execution_count": null,
      "metadata": {
        "id": "NEuJFCS-6TEV"
      },
      "outputs": [],
      "source": [
        "# Buscar la primera aparición de la palabra \"coconuts\" en scene_one: match\n",
        "match = re.search(\"coconuts\", scene_one)\n",
        "\n",
        "# Imprime los índices de inicio y final de la coincidencia (match)\n",
        "print(match.start(), match.end())"
      ]
    },
    {
      "cell_type": "code",
      "execution_count": null,
      "metadata": {
        "id": "XwJA3SXB6TEV"
      },
      "outputs": [],
      "source": [
        "# Escribe una expresión regular para buscar cualquier cosa entre corchetes: pattern1\n",
        "patron1 = r\"\\[.*\\]\"\n",
        "\n",
        "# Usa re.search para encontrar el primer texto entre corchetes\n",
        "print(re.search(patron1, scene_one))"
      ]
    },
    {
      "cell_type": "code",
      "execution_count": null,
      "metadata": {
        "id": "Ea11nrhB6TEV"
      },
      "outputs": [],
      "source": [
        "# Encuentra la notación de guión al principio de la cuarta frase e imprímela\n",
        "patron2 = r\"[\\w\\s]+:\"\n",
        "print(re.match(patron2, sentences[3]))"
      ]
    },
    {
      "cell_type": "markdown",
      "metadata": {
        "id": "SOlbheYp6TEV"
      },
      "source": [
        "## Tokenización avanzada con NLTK y regex\n",
        "- Grupos regex usando or `|`\n",
        "    - OR se representa con `|`.\n",
        "    - Puede definir un grupo usando `()`.\n",
        "    - Puedes definir rangos de caracteres explícitos usando `[]`.\n",
        "- Rangos y grupos regex\n",
        "\n",
        "| patrón | coincidencias (match) | ejemplo |\n",
        "| ------- | ------- | ------- |\n",
        "| [A-Za-z]+ | alfabeto en mayúsculas y minúsculas | 'ABCDEFghijk' |\n",
        "| [0-9] | números del 0 al 9 | 9 |\n",
        "| [A-Za-z\\-\\.]+ | alfabeto en mayúsculas y minúsculas, - y . | 'Mi-Website.com' |\n",
        "| (a-z) | a, - y z | 'a-z' |\n",
        "| (\\s+|,) | espacios o una coma | ', ' |"
      ]
    },
    {
      "cell_type": "markdown",
      "metadata": {
        "id": "KcCLjG6i6TEV"
      },
      "source": [
        "### Elegir un tokenizador\n",
        "Dada la siguiente cadena, ¿cuál de los siguientes patrones es el mejor tokenizador? Si es posible, quiere mantener la puntuación de la frase como tokens separados, pero que `'#1'` siga siendo un único token.\n",
        "```python\n",
        "cadena = \"SOLDIER #1: Found them? In Mercea? The coconut's tropical!\"\n",
        "```\n",
        "\n",
        "Además, `regexp_tokenize` se ha importado desde `nltk.tokenize`. Se puede utilizar `regexp_tokenize(cadena, patron)` con `cadena` y uno de los patrones como argumentos para experimentar por ti mismo y ver cuál es el mejor tokenizer."
      ]
    },
    {
      "cell_type": "code",
      "execution_count": null,
      "metadata": {
        "id": "RQiC6QyU6TEW"
      },
      "outputs": [],
      "source": [
        "from nltk.tokenize import regexp_tokenize\n",
        "\n",
        "cadena = \"SOLDIER #1: Found them? In Mercea? The coconut's tropical!\"\n",
        "\n",
        "patron1 = r'(\\\\w+|\\\\?|!)'\n",
        "patron2 = r\"(\\w+|#\\d|\\?|!)\"\n",
        "patron3 = r'(#\\\\d\\\\w+\\\\?!)'\n",
        "patron4 = r'\\\\s+'"
      ]
    },
    {
      "cell_type": "code",
      "execution_count": null,
      "metadata": {
        "id": "3vG8qgyQ6TEW"
      },
      "outputs": [],
      "source": [
        "pprint(regexp_tokenize(cadena, patron2))"
      ]
    },
    {
      "cell_type": "markdown",
      "metadata": {
        "id": "2m7PNUAF6TEW"
      },
      "source": [
        "### Regex con tokenización NLTK\n",
        "Twitter es una fuente frecuentemente utilizada para textos y tareas NLP. En este ejercicio, se construirá un tokenizador más complejo para tweets con hashtags y menciones usando nltk y regex. La clase `nltk.tokenize.TweetTokenizer` te proporciona algunos métodos y atributos extra para analizar tweets.\n",
        "\n",
        "Aquí, se dan algunos ejemplos de tweets para analizar utilizando tanto `TweetTokenizer` como `regexp_tokenize` del módulo `nltk.tokenize`.\n",
        "\n",
        "A diferencia de la sintaxis de la librería regex, con `nltk_tokenize()` se pasa el patrón como segundo argumento."
      ]
    },
    {
      "cell_type": "code",
      "execution_count": null,
      "metadata": {
        "id": "OW3jZpne6TEW"
      },
      "outputs": [],
      "source": [
        "tweets = ['¡¡Este es el mejor ejercicio #nlp que he encontrado online! #python',\n",
        " '#NLP es super divertido! <3 #learning',\n",
        " 'Gracias @datacamp :) #nlp #python']"
      ]
    },
    {
      "cell_type": "code",
      "execution_count": null,
      "metadata": {
        "id": "9TKm5IxC6TEW"
      },
      "outputs": [],
      "source": [
        "from nltk.tokenize import regexp_tokenize, TweetTokenizer\n",
        "\n",
        "# Define un patrón regex para encontrar hashtags: patron1\n",
        "patron1 = r\"#\\w+\"\n",
        "\n",
        "# Utiliza el patrón en el primer tweet de la lista de tweets\n",
        "hashtags = regexp_tokenize(tweets[0], patron1)\n",
        "print(hashtags)"
      ]
    },
    {
      "cell_type": "code",
      "execution_count": null,
      "metadata": {
        "id": "Iqo-CLYy6TEW"
      },
      "outputs": [],
      "source": [
        "# escribe un patrón que coincida tanto con menciones (@) como con hashtags\n",
        "patron2 = r\"[@|#]\\w+\"\n",
        "\n",
        "# Utiliza el patrón en el último tweet de la lista de tweets\n",
        "mentions_hashtags = regexp_tokenize(tweets[-1], patron2)\n",
        "print(mentions_hashtags)"
      ]
    },
    {
      "cell_type": "code",
      "execution_count": null,
      "metadata": {
        "id": "hvXIQOEj6TEW"
      },
      "outputs": [],
      "source": [
        "# Usar TweetTokenizer para tokenizar todos los tweets de una lista.\n",
        "tokenizar = TweetTokenizer()\n",
        "todos_tokens = [tokenizar.tokenize(t) for t in tweets]\n",
        "print(todos_tokens)"
      ]
    },
    {
      "cell_type": "markdown",
      "metadata": {
        "id": "ErihMY9G6TEW"
      },
      "source": [
        "### Tokenización no-ascii\n",
        "En este ejercicio, practicarás la tokenización avanzada mediante la tokenización de texto no basado en ascii. Utilizarás alemán con emoji.\n",
        "\n",
        "Aquí tienes acceso a una cadena llamada `texto_aleman`, que se ha impreso en el Shell. Observa los emoji y los caracteres alemanes.\n",
        "\n",
        "Los rangos Unicode para emoji son:\n",
        "\n",
        "`('\\U0001F300'-'\\U0001F5FF')`, `('\\U0001F600-\\U0001F64F')`, `('\\U0001F680-\\U0001F6FF')`, and `('\\u2600'-\\u26FF-\\u2700-\\u27BF')`."
      ]
    },
    {
      "cell_type": "code",
      "execution_count": null,
      "metadata": {
        "id": "X1Lrrlhc6TEX"
      },
      "outputs": [],
      "source": [
        "texto_aleman = 'Wann gehen wir Pizza essen? 🍕 Und fährst du mit Über? 🚕'"
      ]
    },
    {
      "cell_type": "code",
      "execution_count": null,
      "metadata": {
        "id": "56cT8MAH6TEX"
      },
      "outputs": [],
      "source": [
        "# Tokenizar e imprimir todas las palabras en german_text\n",
        "todas_las_palabras = word_tokenize(texto_aleman)\n",
        "print(todas_las_palabras,\"\\n\")\n",
        "\n",
        "# Tokenizar e imprimir sólo mayúsculas\n",
        "palabras_MAYUS = r\"[A-ZÜ]\\w+\"\n",
        "print(regexp_tokenize(texto_aleman, palabras_MAYUS),\"\\n\")\n",
        "\n",
        "# Tokenizar e imprimir sólo emoji\n",
        "emoji = \"['\\U0001F300-\\U0001F5FF'|'\\U0001F600-\\U0001F64F'|'\\U0001F680-\\U0001F6FF'|'\\u2600-\\u26FF\\u2700-\\u27BF']\"\n",
        "print(regexp_tokenize(texto_aleman, emoji),\"\\n\")"
      ]
    },
    {
      "cell_type": "code",
      "source": [
        "text = u'Esta es una carita feliz \\U0001f604'\n",
        "print(text) # con emoji\n",
        "\n",
        "def deEmojify(text):\n",
        "    regrex_pattern = re.compile(pattern = \"[\"\n",
        "                               u\"\\U0001F600-\\U0001F64F\"  # emoticons\n",
        "                               u\"\\U0001F300-\\U0001F5FF\"  # symbols & pictographs\n",
        "                               u\"\\U0001F680-\\U0001F6FF\"  # transport & map symbols\n",
        "                               u\"\\U0001F1E0-\\U0001F1FF\"  # flags (iOS)\n",
        "                               u\"\\U00002500-\\U00002BEF\"  # chinese char\n",
        "                               u\"\\U00002702-\\U000027B0\"\n",
        "                               u\"\\U00002702-\\U000027B0\"\n",
        "                               u\"\\U000024C2-\\U0001F251\"\n",
        "                               u\"\\U0001f926-\\U0001f937\"\n",
        "                               u\"\\U00010000-\\U0010ffff\"\n",
        "                               u\"\\u2640-\\u2642\"\n",
        "                               u\"\\u2600-\\u2B55\"\n",
        "                               u\"\\u200d\"\n",
        "                               u\"\\u23cf\"\n",
        "                               u\"\\u23e9\"\n",
        "                               u\"\\u231a\"\n",
        "                               u\"\\ufe0f\"  # dingbats\n",
        "                               u\"\\u3030\"\n",
        "                               \"]+\", flags=re.UNICODE)\n",
        "    return regrex_pattern.sub(r'',text)\n",
        "\n",
        "print(deEmojify(text))"
      ],
      "metadata": {
        "id": "ODNccZJrIkjd"
      },
      "execution_count": null,
      "outputs": []
    },
    {
      "cell_type": "markdown",
      "metadata": {
        "id": "JyBWyJuP6TEX"
      },
      "source": [
        "## Gráfico de longitud de palabra con NLTK\n"
      ]
    },
    {
      "cell_type": "markdown",
      "metadata": {
        "id": "83aXKJ6M6TEX"
      },
      "source": [
        "### Práctica de gráficos\n",
        "Intenta usar tus nuevas habilidades para encontrar y graficar el número de palabras por línea en el script usando matplotlib. El guión del Grial está cargado para ti, y necesitas usar regex para encontrar las palabras por línea.\n",
        "\n",
        "El uso de listas comprensivas acelerará tus cálculos. Por ejemplo: `my_lines = [tokenize(l) for l in lines]` llamará a una función tokenize en cada línea de la lista lines. La nueva lista transformada se guardará en la variable \"mis_líneas\"."
      ]
    },
    {
      "cell_type": "code",
      "execution_count": null,
      "metadata": {
        "id": "srXf5pMH6TEX"
      },
      "outputs": [],
      "source": [
        "import matplotlib.pyplot as plt\n",
        "\n",
        "# Dividir el script en líneas: líneas\n",
        "lineas = holy_grail.split('\\n')\n",
        "\n",
        "# Reemplazar todas las líneas de script para el altavoz\n",
        "patron = \"[A-Z]{2,}(\\s)?(#\\d)?([A-Z]{2,})?:\"\n",
        "lineas = [re.sub(patron, '', l) for l in lineas]\n",
        "\n",
        "# Tokenizar cada linea: lineas_tokenizadas\n",
        "lineas_tokenizadas = [regexp_tokenize(s, '\\w+') for s in lineas]\n",
        "\n",
        "# Hacer una lista de frecuencia de longitudes: line_num_words\n",
        "numero_palabras = [len(t_line) for t_line in lineas_tokenizadas]\n",
        "\n",
        "# Traza un histograma de las longitudes de línea\n",
        "plt.figure(figsize=(8,8))\n",
        "plt.hist(numero_palabras);\n",
        "plt.title('Numero de palabras por línea');"
      ]
    },
    {
      "cell_type": "code",
      "source": [],
      "metadata": {
        "id": "lO7eaTESr5Hx"
      },
      "execution_count": null,
      "outputs": []
    },
    {
      "cell_type": "code",
      "source": [
        "import re\n",
        "\n",
        "txt = 'Me gusta enseñar python y javaScript'\n",
        "\n",
        "# Devuelve un objeto con span, y match\n",
        "# re.match(substring, string, re.I), substring es una cadena o un patrón,\n",
        "# la cadena es el texto buscamos un patrón , re.I es el indicador(flag) de ignorar caso\n",
        "match = re.match('Me gusta enseñar', txt, re.I)\n",
        "print(match)  # <re.Match object; span=(0, 15), match='Me encanta enseñar'>\n",
        "\n",
        "# Podemos obtener la posición inicial y final de la coincidencia como tupla usando span\n",
        "span = match.span()\n",
        "print(span)     # (0, 16)\n",
        "\n",
        "# Vamos a encontrar la posición de inicio y fin del tramo\n",
        "start, end = span\n",
        "print(start, end)  # 0, 16\n",
        "substring = txt[start:end]\n",
        "print(substring)       # Me gusta enseñar"
      ],
      "metadata": {
        "id": "65ST437W3c3l"
      },
      "execution_count": null,
      "outputs": []
    },
    {
      "cell_type": "markdown",
      "source": [
        "Como puede ver en el ejemplo anterior, el patrón que buscamos (o la subcadena que buscamos) es \"Me gusta enseñar\". La función **match** devuelve un objeto sólo si el texto empieza por el patrón.\n",
        "\n",
        "La cadena no concuerda con \"Me gusta enseñar\", por lo tanto no hubo coincidencia y el método match devolvió None.\n"
      ],
      "metadata": {
        "id": "aZ9xlBj45ICr"
      }
    },
    {
      "cell_type": "code",
      "source": [
        "import re\n",
        "\n",
        "txt = '''Python es el lenguaje más bello que el ser humano haya creado jamás.\n",
        "Recomiendo python para un primer lenguaje de programación'''\n",
        "\n",
        "# Devuelve un objeto con span y match\n",
        "match = re.search('primer', txt, re.I)\n",
        "print(match)  # <re.Match object; span=(100, 105), match='first'>\n",
        "\n",
        "# Podemos obtener la posición inicial y final de la coincidencia como tupla usando span\n",
        "span = match.span()\n",
        "print(span)     # (95, 101)\n",
        "\n",
        "# Vamos a encontrar la posición de inicio y fin del tramo\n",
        "start, end = span\n",
        "print(start, end)  # 95 101\n",
        "substring = txt[start:end]\n",
        "print(substring)       # primer"
      ],
      "metadata": {
        "id": "i-UytSRV5T44"
      },
      "execution_count": null,
      "outputs": []
    },
    {
      "cell_type": "markdown",
      "source": [
        "Como puede ver, la búsqueda es mucho mejor que la coincidencia porque puede buscar el patrón en todo el texto. Search devuelve un objeto match con la primera coincidencia encontrada, de lo contrario devuelve None. Una función re mucho mejor es findall. Esta función busca el patrón a través de toda la cadena y devuelve todas las coincidencias como una lista.\n",
        "\n",
        "Podemos buscar todas las coincidencias con findall. **findall()** devuelve todas las coincidencias en forma de lista."
      ],
      "metadata": {
        "id": "AJ-WOTJH8CHX"
      }
    },
    {
      "cell_type": "code",
      "source": [
        "txt = '''Python es el lenguaje más bello que el ser humano haya creado jamás.\n",
        "Recomiendo python para un primer lenguaje de programación'''\n",
        "\n",
        "# Devuelve una lista\n",
        "matches = re.findall('lenguaje', txt, re.I)\n",
        "print(matches)  # ['lenguaje', 'lenguaje']"
      ],
      "metadata": {
        "id": "mloqFdvB8EY8"
      },
      "execution_count": null,
      "outputs": []
    },
    {
      "cell_type": "markdown",
      "source": [
        "Como se puede ver, la palabra \"lenguaje\" se encontró dos veces en la cadena. Ahora buscaremos las palabras Python y python en la cadena:"
      ],
      "metadata": {
        "id": "KZUo_Uhz8tWb"
      }
    },
    {
      "cell_type": "code",
      "source": [
        "txt = '''Python es el lenguaje más bello que el ser humano haya creado jamás.\n",
        "Recomiendo python para un primer lenguaje de programación'''\n",
        "\n",
        "# Devuelve la lista\n",
        "matches = re.findall('python', txt, re.I)\n",
        "print(matches)  # ['Python', 'python']"
      ],
      "metadata": {
        "id": "TI9z9llN83Y7"
      },
      "execution_count": null,
      "outputs": []
    },
    {
      "cell_type": "markdown",
      "source": [
        "Dado que utilizamos re.I, se incluyen tanto las minúsculas como las mayúsculas. Si no tenemos el flag re.I, tendremos que escribir el patrón de otra manera. Comprobémoslo:\n"
      ],
      "metadata": {
        "id": "QpmYh3ln9YpI"
      }
    },
    {
      "cell_type": "code",
      "source": [
        "txt = '''Python es el lenguaje más bello que el ser humano haya creado jamás.\n",
        "Recomiendo python para un primer lenguaje de programación'''\n",
        "\n",
        "matches = re.findall('Python|python', txt)\n",
        "print(matches)  # ['Python', 'python']\n",
        "\n",
        "# Devuelve la lista\n",
        "matches = re.findall('[Pp]ython', txt)\n",
        "print(matches)  # ['Python', 'python']"
      ],
      "metadata": {
        "id": "TiBxVFs-9fAC"
      },
      "execution_count": null,
      "outputs": []
    },
    {
      "cell_type": "markdown",
      "source": [
        "Sustitución de un substring"
      ],
      "metadata": {
        "id": "Ku6ATTp898-t"
      }
    },
    {
      "cell_type": "code",
      "source": [
        "txt = '''Python es el lenguaje más bello que jamás ha creado el ser humano.\n",
        "Recomiendo python para un primer lenguaje de programación'''\n",
        "\n",
        "match_replaced = re.sub('Python|python', 'JavaScript', txt, re.I)\n",
        "print(match_replaced)  # JavaScript es el lenguaje más bello que jamás ha creado el ser humano.\n",
        "# OR\n",
        "match_replaced = re.sub('[Pp]ython', 'JavaScript', txt, re.I)\n",
        "print(match_replaced)  # JavaScript es el lenguaje más bello que jamás ha creado  el ser humano."
      ],
      "metadata": {
        "id": "r3A9Onfn9-KK"
      },
      "execution_count": null,
      "outputs": []
    },
    {
      "cell_type": "markdown",
      "source": [
        "Añadamos un ejemplo más. La siguiente cadena es realmente difícil de leer a menos que eliminemos el símbolo %. Sustituir el % por una cadena vacía limpiará el texto."
      ],
      "metadata": {
        "id": "uLvS0lrp_UeN"
      }
    },
    {
      "cell_type": "code",
      "source": [
        "txt = '''Y%o s%o%y un% pro%%fe%%so%r% y% %% a%m%o e%ns%e%ñ%ar.\n",
        "N%o h%ay na%da m%a%s gr%a%ti%fi%can%te co%mo e%ns%e%ñ%ar y% e%du%car a% las% p%e%rso%nas.\n",
        "En%co%n%tre qu%e en%se%ñar e%s% m%as in%t%er%%es%an%te.\n",
        "¿%T%e m%ot%iv%a s%er un pr%o%fe%sor?'''\n",
        "\n",
        "matches = re.sub('%', '', txt)\n",
        "print(matches)"
      ],
      "metadata": {
        "id": "BlTVWx9E_Z9H"
      },
      "execution_count": null,
      "outputs": []
    },
    {
      "cell_type": "markdown",
      "source": [
        "Dividir texto con RegEx Split"
      ],
      "metadata": {
        "id": "WSEVw6o7CVKo"
      }
    },
    {
      "cell_type": "code",
      "source": [
        "txt = '''Yo soy un profesor y  amo enseñar.\n",
        "No hay nada mas gratificante como enseñar y educar a las personas.\n",
        "Encontre que enseñar es mas interesante.\n",
        "¿Te motiva ser un profesor?'''\n",
        "print(re.split('\\n', txt)) # splitting using \\n - end of line symbol"
      ],
      "metadata": {
        "id": "Jk-hVmbMCWpD"
      },
      "execution_count": null,
      "outputs": []
    },
    {
      "cell_type": "markdown",
      "source": [
        "Escribir patrones RegEx"
      ],
      "metadata": {
        "id": "YsThvIC9CzGL"
      }
    },
    {
      "cell_type": "markdown",
      "source": [
        "Para declarar una variable de cadena utilizamos una comilla simple o doble. Para declarar la variable RegEx r' '. El siguiente patrón sólo identifica manzana con minúsculas, para hacerlo insensible a las mayúsculas y minúsculas podriamos reescribir un patrón o añadir un flag."
      ],
      "metadata": {
        "id": "8hl5H-uAC6nI"
      }
    },
    {
      "cell_type": "code",
      "source": [
        "import re\n",
        "\n",
        "regex_pattern = r'manzana'\n",
        "txt = 'Manzana y plátano son frutas. Un viejo refran dice que una manzana al día es como un médico de mañana, pero ha sido sustituido por un plátano al día que mantiene al médico lejano. '\n",
        "matches = re.findall(regex_pattern, txt)\n",
        "print(matches)  # ['manzana']\n",
        "\n",
        "# Para hacer insensible a mayúsculas y minúsculas se añade un flag '\n",
        "matches = re.findall(regex_pattern, txt, re.I)\n",
        "print(matches)  # ['Manzana', 'manzana']\n",
        "# o podemos utilizar un método de conjunto de caracteres\n",
        "regex_pattern = r'[Mm]anzana'  # esto significa que la primera letra podría ser Manzana o manzana\n",
        "matches = re.findall(regex_pattern, txt)\n",
        "print(matches)  # ['Manzana', 'manzana']"
      ],
      "metadata": {
        "id": "5C8pgW67C1VU"
      },
      "execution_count": null,
      "outputs": []
    },
    {
      "cell_type": "markdown",
      "source": [
        "[]: Conjunto de caracteres\n",
        "\n",
        "*   [a-c] significa, a o b o c\n",
        "*   [a-z] es decir, cualquier letra de la a, a la z\n",
        "*   [A-Z] significa, cualquier carácter de la A a la Z\n",
        "*   [0-3] significa, 0 o 1 o 2 o 3\n",
        "*   [0-9] significa cualquier número del 0 al 9\n",
        "*   [A-Za-z0-9] cualquier carácter simple, \"de a  z\", \"de A Z\" o del 0 al 9\n",
        "\\: se utiliza para escapar caracteres especiales\n",
        "*   \\d significa: coincidencia cuando la cadena contiene dígitos (del 0 al 9)\n",
        "*   \\D significa: coincidencia cuando la cadena no contiene dígitos\n",
        ". : cualquier carácter excepto carácter de nueva línea(\\n)\n",
        "\n",
        "^: empieza por\n",
        "\n",
        "*   r'^substring' por ejemplo r'^love', frase que empieza por la palabra love\n",
        "*   r'[^abc] significa ni a, ni b, ni c.\n",
        "\n",
        "$: termina con\n",
        "\n",
        "*   r'substring$' ej. r'amor$', frase que termina con una palabra amor\n",
        "\n",
        "*: cero o más veces\n",
        "\n",
        "*   r'[a]*' significa un opcional o puede ocurrir muchas veces.\n",
        "\n",
        "+: una o más veces\n",
        "\n",
        "*   r'[a]+' significa al menos una vez (o más)\n",
        "\n",
        "?: cero o una vez\n",
        "\n",
        "*   r'[a]?' significa cero veces o una vez\n",
        "{3}: Exactamente 3 caracteres\n",
        "\n",
        "{3,}: Al menos 3 caracteres\n",
        "\n",
        "{3,8}: De 3 a 8 caracteres\n",
        "\n",
        "|: Cualquiera o\n",
        "\n",
        "*   r'manzana|plátano' significa manzana o plátano\n",
        "\n",
        "(): Capturar y agrupar"
      ],
      "metadata": {
        "id": "FGUZala_Fn08"
      }
    },
    {
      "cell_type": "markdown",
      "source": [
        "![image.png](data:image/png;base64,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)"
      ],
      "metadata": {
        "id": "zzXtFiUwFaSo"
      }
    },
    {
      "cell_type": "markdown",
      "source": [
        "Utilicemos ejemplos para aclarar los metacaracteres anteriores\n",
        "\n",
        "**Corchetes**\n",
        "\n",
        "Utilizamos corchetes para incluir minúsculas y mayúsculas"
      ],
      "metadata": {
        "id": "l4BE_qCvFf2O"
      }
    },
    {
      "cell_type": "code",
      "source": [
        "regex_pattern = r'[Mm]anzana' # el corchete significa ni A o a\n",
        "txt = 'Manzana y plátano son frutas. Un viejo refran dice que una manzana al día es como un médico de mañana, pero ha sido sustituido por un plátano al día que mantiene al médico lejano. '\n",
        "matches = re.findall(regex_pattern, txt)\n",
        "print(matches)  # ['Manzana', 'manzana']"
      ],
      "metadata": {
        "id": "r628Xxn8I9Lf"
      },
      "execution_count": null,
      "outputs": []
    },
    {
      "cell_type": "markdown",
      "source": [
        "Si queremos buscar el plátano, escribimos el patrón de la siguiente manera:"
      ],
      "metadata": {
        "id": "E5lqhbJHJBdn"
      }
    },
    {
      "cell_type": "code",
      "source": [
        "regex_pattern = r'[Mm]anzana|[Pp]látano' # this square bracket means either A or a\n",
        "txt = 'Manzana y plátano son frutas. Un viejo refran dice que una manzana al día es como un médico de mañana, pero ha sido sustituido por un plátano al día que mantiene al médico lejano. '\n",
        "matches = re.findall(regex_pattern, txt)\n",
        "print(matches)  # ['Manzana', 'plátano', 'manzana', 'plátano']"
      ],
      "metadata": {
        "id": "rq-Z_LSRJpCp"
      },
      "execution_count": null,
      "outputs": []
    },
    {
      "cell_type": "markdown",
      "source": [
        "Utilizando el corchete y el operador or , conseguimos extraer Manzana, manzana, Plátano y platano."
      ],
      "metadata": {
        "id": "1oVwtrq7KOOi"
      }
    },
    {
      "cell_type": "code",
      "source": [
        "regex_pattern = r'\\d'  # d es un carácter especial que significa dígitos\n",
        "txt = 'Las clases comenzaron el 16 de Agosto,2023 y terminan el 12 de Diciembre, 2023'\n",
        "matches = re.findall(regex_pattern, txt)\n",
        "print(matches)  # ['1', '6', '2', '0', '2', '3', '1', '2', '2', '0', '2', '3'], esto no es lo que queremos"
      ],
      "metadata": {
        "id": "SmIw1gEkKZ_m"
      },
      "execution_count": null,
      "outputs": []
    },
    {
      "cell_type": "markdown",
      "source": [
        "One or more times(+)"
      ],
      "metadata": {
        "id": "l5m2sUf0Nig1"
      }
    },
    {
      "cell_type": "code",
      "source": [
        "regex_pattern = r'\\d+'  # d is a special character which means digits, + mean one or more times\n",
        "txt = 'This regular expression example was made on December 6,  2019 and revised on July 8, 2021'\n",
        "matches = re.findall(regex_pattern, txt)\n",
        "print(matches)  # ['6', '2019', '8', '2021'] - now, this is better!"
      ],
      "metadata": {
        "id": "R1oEuG0cNjTZ"
      },
      "execution_count": null,
      "outputs": []
    },
    {
      "cell_type": "markdown",
      "source": [
        "**Period(.)**"
      ],
      "metadata": {
        "id": "-audSw9pNkSY"
      }
    },
    {
      "cell_type": "code",
      "source": [
        "regex_pattern = r'[a].'  # this square bracket means a and . means any character except new line\n",
        "txt = '''Apple and banana are fruits'''\n",
        "matches = re.findall(regex_pattern, txt)\n",
        "print(matches)  # ['an', 'an', 'an', 'a ', 'ar']\n",
        "\n",
        "regex_pattern = r'[a].+'  # . any character, + any character one or more times\n",
        "matches = re.findall(regex_pattern, txt)\n",
        "print(matches)  # ['and banana are fruits']"
      ],
      "metadata": {
        "id": "PRfXqnK4ODPc"
      },
      "execution_count": null,
      "outputs": []
    },
    {
      "cell_type": "markdown",
      "source": [
        "**Zero or more times(*)**\n",
        "\n",
        "Zero or many times. The pattern could may not occur or it can occur many times."
      ],
      "metadata": {
        "id": "-9ZiTjYaOHb3"
      }
    },
    {
      "cell_type": "code",
      "source": [
        "regex_pattern = r'[a].*'  # . any character, * any character zero or more times\n",
        "txt = '''Apple and banana are fruits'''\n",
        "matches = re.findall(regex_pattern, txt)\n",
        "print(matches)  # ['and banana are fruits']"
      ],
      "metadata": {
        "id": "GEa-FhrCOG_N"
      },
      "execution_count": null,
      "outputs": []
    },
    {
      "cell_type": "markdown",
      "source": [
        "**¿Cero o una vez?**\n",
        "\n",
        "Cero o una vez. El patrón puede no ocurrir o puede ocurrir una vez."
      ],
      "metadata": {
        "id": "hLpzQ5UXO-CU"
      }
    },
    {
      "cell_type": "code",
      "source": [
        "txt = '''I am not sure if there is a convention how to write the word e-mail.\n",
        "Some people write it as email others may write it as Email or E-mail.'''\n",
        "regex_pattern = r'[Ee]-?mail'  # ? means here that '-' is optional\n",
        "matches = re.findall(regex_pattern, txt)\n",
        "print(matches)  # ['e-mail', 'email', 'Email', 'E-mail']"
      ],
      "metadata": {
        "id": "X7NszRIwPD1Y"
      },
      "execution_count": null,
      "outputs": []
    },
    {
      "cell_type": "markdown",
      "source": [
        "**Cuantificador en RegEx**\n",
        "\n",
        "Podemos especificar la longitud de la subcadena que buscamos en un texto, utilizando una llave. Imaginemos que estamos interesados en una subcadena con una longitud de 4 caracteres:"
      ],
      "metadata": {
        "id": "V0-nYJcePIbQ"
      }
    },
    {
      "cell_type": "code",
      "source": [
        "txt = 'Este ejemplo de expresion regular se hizo el 16 de agosto de 2022 y se reviso el 16 de agosto de 2023'\n",
        "regex_pattern = r'\\d{4}'  # exactly four times\n",
        "matches = re.findall(regex_pattern, txt)\n",
        "print(matches)  # ['2019', '2021']\n",
        "\n",
        "txt = 'Este ejemplo de expresion regular se hizo el 16 de agosto de 2022 y se reviso el 16 de agosto de 2023'\n",
        "regex_pattern = r'\\d{1, 4}'   # 1 to 4\n",
        "matches = re.findall(regex_pattern, txt)\n",
        "print(matches)  # ['6', '2019', '8', '2021']"
      ],
      "metadata": {
        "id": "FOdJvtGiPONa"
      },
      "execution_count": null,
      "outputs": []
    },
    {
      "cell_type": "markdown",
      "source": [
        "**Sombrero ^**\n",
        "\n",
        "Empieza por"
      ],
      "metadata": {
        "id": "iPB1O4AxPSBT"
      }
    },
    {
      "cell_type": "code",
      "source": [
        "txt = 'Este ejemplo de expresion regular se hizo el 16 de agosto de 2022 y se reviso el 16 de agosto de 2023'\n",
        "regex_pattern = r'^Este'  # ^ significa que empieza por\n",
        "matches = re.findall(regex_pattern, txt)\n",
        "print(matches)  # ['Este']"
      ],
      "metadata": {
        "id": "uZiMJ-1IPePH"
      },
      "execution_count": null,
      "outputs": []
    },
    {
      "cell_type": "markdown",
      "source": [
        "Negación"
      ],
      "metadata": {
        "id": "Dq2hgghqPhup"
      }
    },
    {
      "cell_type": "code",
      "source": [
        "txt = 'Este ejemplo de expresion regular se hizo el 16 de agosto de 2022 y se reviso el 16 de agosto de 2023'\n",
        "regex_pattern = r'[^A-Za-z ]+'\n",
        "# ^ en carácter de conjunto significa negación, no de la A a la Z, no de la a a la z, sin espacio\n",
        "matches = re.findall(regex_pattern, txt)\n",
        "print(matches)  # ['16', '2022', '16', '2023']"
      ],
      "metadata": {
        "id": "AYiVfvW5PjNL"
      },
      "execution_count": null,
      "outputs": []
    },
    {
      "cell_type": "markdown",
      "source": [
        "Ejercicios\n",
        "\n",
        "¿Cuál es la palabra más frecuente en el siguiente párrafo?\n",
        "\n",
        "    parrafo = \"Me encanta enseñar. Si no amas la enseñanza, ¿qué otra cosa puedes amar? Amo Python si no amas algo que te puede dar todas las capacidades para desarrollar una aplicación qué más puedes amar.\n",
        "\n",
        "[ (3, 'que'),(2,'Si'),(2,'no'),(2,'amas'),(2, 'puedes') ,(2, 'amar'),(1, 'Me'),(1, 'Encanta'),(1,'Enseñar'),(1, 'la'), (1,'enseñanza'),(1, Python),(1, una), (1, aplicación), (1,más), (1,otra),(1, cosa), (1,Amo ),(1,algo ),(1,te ),(1,puede),(1, dar),(1,todas),(1,las),(1,capacidades ),(1,para), (1,desarrollar)]"
      ],
      "metadata": {
        "id": "swMhFeyISOrZ"
      }
    },
    {
      "cell_type": "code",
      "source": [],
      "metadata": {
        "id": "aqhmQirCSUJZ"
      },
      "execution_count": null,
      "outputs": []
    },
    {
      "cell_type": "markdown",
      "source": [
        "La posición de algunas partículas en el eje horizontal x son -12, -4, -3 y -1 en sentido negativo, 0 en el origen, 4 y 8 en sentido positivo. Extraer estos números del texto completo y hallar la distancia entre las dos partículas más alejadas.\n",
        "\n",
        "Considerar que el resultado sera similar a :\n",
        "\n",
        "puntos_x = ['-12', '-4', '-3', '-1', '0', '4', '8']\n",
        "\n",
        "puntos_ordenados = [-12, -4, -3, -1, -1, 0, 2, 4, 8]\n",
        "\n",
        "distancia = 8 -(-12) # 20"
      ],
      "metadata": {
        "id": "meYO3LTcTOgB"
      }
    },
    {
      "cell_type": "code",
      "source": [],
      "metadata": {
        "id": "eBuA0QTITQKa"
      },
      "execution_count": null,
      "outputs": []
    },
    {
      "cell_type": "markdown",
      "source": [
        "Ejercicios: Nivel 2\n",
        "\n",
        "Escribe un patrón que identifique si una cadena es una variable python válida\n",
        "\n",
        "is_valid_variable('first_name') # True\n",
        "\n",
        "is_valid_variable('first-name') # False\n",
        "is_valid_variable('1first_name') # False\n",
        "is_valid_variable('firstname') # True"
      ],
      "metadata": {
        "id": "Utb9PkVXSvQz"
      }
    },
    {
      "cell_type": "code",
      "source": [],
      "metadata": {
        "id": "NVUT3DDDS2Zy"
      },
      "execution_count": null,
      "outputs": []
    },
    {
      "cell_type": "markdown",
      "source": [
        "Exercises: Level 3\n",
        "\n",
        "Clean the following text. After cleaning, count three most frequent words in the string.\n",
        "\n",
        "sentence = '''%I $am@% a %tea@cher%, &and& I lo%#ve %tea@ching%;. There $is nothing; &as& mo@re rewarding as educa@ting &and& @emp%o@wering peo@ple. ;I found tea@ching m%o@re interesting tha@n any other %jo@bs. %Do@es thi%s mo@tivate yo@u to be a tea@cher!?'''\n",
        "\n",
        "print(clean_text(sentence));\n",
        "\n",
        "I am a teacher and I love teaching There is nothing as more rewarding as educating and empowering people I found teaching more interesting than any other jobs Does this motivate you to be a teacher\n",
        "\n",
        "print(most_frequent_words(cleaned_text))\n"
      ],
      "metadata": {
        "id": "3gprw1uyS26X"
      }
    },
    {
      "cell_type": "code",
      "source": [],
      "metadata": {
        "id": "8ZgAnYlmTSS2"
      },
      "execution_count": null,
      "outputs": []
    },
    {
      "cell_type": "markdown",
      "source": [
        "Expresiones regulares y tokenización de palabras\n"
      ],
      "metadata": {
        "id": "04vRwrSKmZ4R"
      }
    },
    {
      "cell_type": "code",
      "source": [
        "##Practicando expresiones regulares: módulo regex, re.split() y re.findall()\n",
        "import re\n",
        "text = 'Este ejemplo de expresion regular se hizo el 16 de agosto de 2022 y se reviso el 16 de agosto de 2023'\n",
        "\n",
        "# Escribe un patrón para que coincida con los finales de frase: frase_finales\n",
        "sentence_endings = r\"[.?!]\"\n",
        "\n",
        "# Divide mi_cadena en los finales de frase e imprime el resultado\n",
        "print(re.split(sentence_endings, text))\n",
        "\n",
        "# Encuentra todas las palabras en mayúsculas en mi_cadena e imprime el resultado\n",
        "capitalized_words = r\"[A-Z]\\w+\"\n",
        "print(re.findall(capitalized_words, text))\n",
        "\n",
        "# Divide mi_cadena en espacios e imprime el resultado\n",
        "spaces = r\"\\s+\"\n",
        "print(re.split(spaces, text))\n",
        "\n",
        "# Encuentra todos los dígitos en mi_cadena e imprime el resultado\n",
        "digits = r\"\\d+\"\n",
        "print(re.findall(digits, text))\n"
      ],
      "metadata": {
        "id": "Fcahwxqpmapl"
      },
      "execution_count": null,
      "outputs": []
    }
  ],
  "metadata": {
    "kernelspec": {
      "display_name": "Python 3",
      "language": "python",
      "name": "python3"
    },
    "language_info": {
      "codemirror_mode": {
        "name": "ipython",
        "version": 3
      },
      "file_extension": ".py",
      "mimetype": "text/x-python",
      "name": "python",
      "nbconvert_exporter": "python",
      "pygments_lexer": "ipython3",
      "version": "3.7.6"
    },
    "colab": {
      "provenance": []
    }
  },
  "nbformat": 4,
  "nbformat_minor": 0
}