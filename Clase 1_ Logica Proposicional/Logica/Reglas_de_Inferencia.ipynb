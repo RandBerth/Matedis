{
  "cells": [
    {
      "cell_type": "markdown",
      "metadata": {
        "id": "nfDn78l_qehq"
      },
      "source": [
        "Aqui se toman frases en ingles y se traducen a expresiones lógicas.\n",
        "\n",
        "Se utiliza un conjunto de reglas predefinidas para hacer coincidir las frases con expresiones lógicas.\n"
      ]
    },
    {
      "cell_type": "markdown",
      "source": [
        "Una **expresión regular** (o re) especifica un conjunto de cadenas que coinciden con ella; las funciones de este módulo permiten comprobar si una determinada cadena coincide con una expresión regular dada (o si una expresión regular dada coincide con una determinada cadena, que se reduce a lo mismo).\n",
        "\n",
        "El módulo \"re\" tiene funciones para buscar coincidencias en una cadena."
      ],
      "metadata": {
        "id": "ptfs5xGPuydG"
      }
    },
    {
      "cell_type": "markdown",
      "source": [
        "Sustituir '{Q}' por '(?P<Q>.+??)', que significa 'coincide con 1 o más caracteres, y llámalo Q'.\n",
        "\n",
        "La función **nombre_grupo** se utiliza en la función **Regla** para crear grupos con nombre en expresiones regulares que se utilizan para coincidir con patrones en el texto de entrada.\n",
        "\n",
        "La función toma un patrón de expresión regular como de entrada y sustituye cualquier instancia de {} por (?P<{}>.+?), lo que crea un grupo con el nombre especificado.\n",
        "\n",
        "Esto facilita la extracción posterior de los valores de estos grupos."
      ],
      "metadata": {
        "id": "CKJ96-I_vLMZ"
      }
    },
    {
      "cell_type": "code",
      "execution_count": 22,
      "metadata": {
        "id": "9OexzhKqzDhT"
      },
      "outputs": [],
      "source": [
        "#el módulo tiene funciones para buscar coincidencias en una cadena\n",
        "import re"
      ]
    },
    {
      "cell_type": "code",
      "execution_count": 23,
      "metadata": {
        "id": "a-iNFaM4zDhU"
      },
      "outputs": [],
      "source": [
        "#producir salida si la entrada coincide con algún patrón\n",
        "def Rule(output, *patterns):\n",
        "    return (output, [name_group(pat) + '$' for pat in patterns])\n",
        "\n",
        "#Sustituir '{Q}' con '(?P<Q>.+?)', que significa 'coincide con 1 o más caracteres, y lo llama Q'\n",
        "def name_group(pat):\n",
        "    return re.sub('{(.)}', r'(?P<\\1>.+?)', pat)\n",
        "\n",
        "#Devuelve una expresión regular que coincide con w como una palabra completa no letras\n",
        "def word(w):\n",
        "    return r'\\b' + w + r'\\b' # '\\b' matches at word boundary"
      ]
    },
    {
      "cell_type": "code",
      "execution_count": 24,
      "metadata": {
        "id": "h3UmysMnzDhU"
      },
      "outputs": [],
      "source": [
        "rules = [\n",
        "    Rule('{P} ⇒ {Q}',          'if {P} then {Q}', 'if {P}, {Q}'),\n",
        "    Rule('{P} ⋁ {Q}',          'either {P} or else {Q}', 'either {P} or {Q}'),\n",
        "    Rule('{P} ⋀ {Q}',          'both {P} and {Q}'),\n",
        "    Rule('～{P} ⋀ ～{Q}',       'neither {P} nor {Q}'),\n",
        "    Rule('～{A}{P} ⋀ ～{A}{Q}', '{A} neither {P} nor {Q}'),\n",
        "    Rule('～{Q} ⇒ {P}',        '{P} unless {Q}'),\n",
        "    Rule('{P} ⇒ {Q}',          '{Q} provided that {P}', '{Q} whenever {P}',\n",
        "                               '{P} implies {Q}', '{P} therefore {Q}',\n",
        "                               '{Q}, if {P}', '{Q} if {P}', '{P} only if {Q}'),\n",
        "    Rule('{P} ⋀ {Q}',          '{P} and {Q}', '{P} but {Q}'),\n",
        "    Rule('{P} ⋁ {Q}',          '{P} or else {Q}', '{P} or {Q}'),\n",
        "    ]\n",
        "\n",
        "negations = [\n",
        "    (word(\"not\"), \"\"),\n",
        "    (word(\"cannot\"), \"can\"),\n",
        "    (word(\"can't\"), \"can\"),\n",
        "    (word(\"won't\"), \"will\"),\n",
        "    (word(\"ain't\"), \"is\"),\n",
        "    (\"n't\", \"\"), # coincidencias como parte de una palabra: didn't, couldn't, etc.\n",
        "    ]"
      ]
    },
    {
      "cell_type": "code",
      "execution_count": 25,
      "metadata": {
        "id": "oSwoCEJOzDhV"
      },
      "outputs": [],
      "source": [
        "##Emparejar la frase con todas las reglas\n",
        "#devolver la traducción lógica y la def en inglés\n",
        "def match_rules(sentence, rules, defs):\n",
        "    sentence = clean(sentence)\n",
        "    for rule in rules:\n",
        "        result = match_rule(sentence, rule, defs)\n",
        "        if result:\n",
        "            return result\n",
        "    return match_literal(sentence, negations, defs)"
      ]
    },
    {
      "cell_type": "code",
      "execution_count": 26,
      "metadata": {
        "id": "8f2M3NM8zDhW"
      },
      "outputs": [],
      "source": [
        "#devuelve la transición lógica y el dict de def\n",
        "#si la coincidencia tuvo éxito\n",
        "def match_rule(sentence, rule, defs):\n",
        "    output, patterns = rule\n",
        "    for pat in patterns:\n",
        "        match = re.match(pat, sentence, flags=re.I)\n",
        "        if match:\n",
        "            groups = match.groupdict()\n",
        "            for P in sorted(groups): # Recursively apply rules to each of the matching groups\n",
        "                groups[P] = match_rules(groups[P], rules, defs)[0]\n",
        "            return '(' + output.format(**groups) + ')', defs\n"
      ]
    },
    {
      "cell_type": "code",
      "execution_count": 27,
      "metadata": {
        "id": "ElsLjZr4zDhW"
      },
      "outputs": [],
      "source": [
        "#si Ninguna regla coincide; Añadir nueva proposición a defs. Manejar la negación.\n",
        "def match_literal(sentence, negations, defs):\n",
        "    polarity = ''\n",
        "    for (neg, pos) in negations:\n",
        "        (sentence, n) = re.subn(neg, pos, sentence, flags=re.I)\n",
        "        polarity += n * '～'\n",
        "    sentence = clean(sentence)\n",
        "    P = proposition_name(sentence, defs)\n",
        "    defs[P] = sentence\n",
        "    return polarity + P, defs\n"
      ]
    },
    {
      "cell_type": "code",
      "execution_count": 28,
      "metadata": {
        "id": "tnZVc-NOzDhX"
      },
      "outputs": [],
      "source": [
        "#Devuelve el nombre antiguo de esta sentencia, si se usaba antes, o un nombre nuevo sin usar.\n",
        "def proposition_name(sentence, defs, names='PQRSTUVWXYZBCDEFGHJKLMN'):\n",
        "    inverted = {defs[P]: P for P in defs}\n",
        "    if sentence in inverted:\n",
        "        return inverted[sentence]                      # Find previously-used name\n",
        "    else:\n",
        "        return next(P for P in names if P not in defs) # Use a new unused name\n"
      ]
    },
    {
      "cell_type": "code",
      "execution_count": 29,
      "metadata": {
        "id": "o8cpIlBPzDhX"
      },
      "outputs": [],
      "source": [
        "#Eliminar los espacios en blanco redundantes; tratar el apóstrofe y la coma/punto final\n",
        "def clean(text):\n",
        "    return ' '.join(text.split()).replace(\"’\", \"'\").rstrip('.').rstrip(',')\n",
        "match_rule(\"If today is Tuesday, I have a test in english\",\n",
        "           Rule('{P} ⇒ {Q}', 'if {P}, {Q}'),\n",
        "           {})\n",
        "\n",
        "sentences = ''' if today is Tuesday, I have a test in english, it is Tuesday'''.split('.')\n"
      ]
    },
    {
      "cell_type": "code",
      "execution_count": null,
      "metadata": {
        "id": "IZBOPrmozDhX"
      },
      "outputs": [],
      "source": [
        "#para asegurarse de que cada str (entrada) como máximo de anchura\n",
        "import textwrap\n",
        "#comparar las reglas con cada frase del txt e imprimir el resultado\n",
        "def logic(sentences, width=80):\n",
        "    for s in map(clean, sentences):\n",
        "        logic, defs = match_rules(s, rules, {})\n",
        "        print('\\n' + textwrap.fill('English: ' + s +'.', width), '\\n\\nLogic:', logic)\n",
        "        for P in sorted(defs):\n",
        "            print('{}: {}'.format(P, defs[P]))\n",
        "\n",
        "logic(sentences)"
      ]
    },
    {
      "cell_type": "markdown",
      "metadata": {
        "id": "OnxTIGjYzDhX"
      },
      "source": [
        "# --------------------------------------------------------------------------"
      ]
    },
    {
      "cell_type": "code",
      "execution_count": 31,
      "metadata": {
        "id": "rtdbtrotzDhY"
      },
      "outputs": [],
      "source": [
        "def match_rule(sentence, output, patterns, defs):\n",
        "    key = (output, tuple(patterns))  # Utiliza una tupla de (salida, tupla(patrones)) como clave de caché\n",
        "    if key in match_rule.cache:\n",
        "        return match_rule.cache[key]\n",
        "    pattern_str = r'\\b' + '|'.join([f'(?P<P{i+len(patterns)}>{p})' for i, p in enumerate(output.split())] + [f'(?P<P{i}>{p})' for i, p in enumerate(patterns)]) + r'\\b'  # Use unique group names for each variable in output and patterns\n",
        "    groups = re.match(pattern_str, sentence)\n",
        "    if groups:\n",
        "        groups = groups.groupdict()\n",
        "        for i, P in enumerate(output.split()):\n",
        "            if f'P{i+len(patterns)}' in groups and P not in patterns:\n",
        "                groups[f'P{i+len(patterns)}'], defs = match_rule(sentence, output, patterns + [groups[f'P{i+len(patterns)}']], defs)\n",
        "        result = '(' + output.format(**groups) + ')', defs\n",
        "    else:\n",
        "        result = '', defs\n",
        "    match_rule.cache[key] = result\n",
        "    return result\n",
        "match_rule.cache = {}  # Inicializar la caché como un diccionario vacío\n",
        "\n",
        "def match_rules(sentence, rules, defs={}):\n",
        "    key = str((tuple(rules), defs))  # Utilizar una representación de cadena de (tuple(rules), defs) como clave de caché.\n",
        "    if key in match_rules.cache:\n",
        "        return match_rules.cache[key]\n",
        "    sentence = clean(sentence)\n",
        "    for rule in rules:\n",
        "        result, defs = match_rule(sentence, *rule, defs)\n",
        "        if result:\n",
        "            match_rules.cache[key] = result, defs\n",
        "            return result, defs\n",
        "    match_rules.cache[key] = None, defs\n",
        "    return None, defs\n",
        "match_rules.cache = {}  # Inicializar la caché como un diccionario vacío"
      ]
    },
    {
      "cell_type": "code",
      "execution_count": 32,
      "metadata": {
        "id": "g2dhMitCzDhZ"
      },
      "outputs": [],
      "source": [
        "def modus_ponens(P_Q, P):\n",
        "    P_Q = P_Q.strip('()')\n",
        "    P, Q = P_Q.split('⇒')\n",
        "    if P.strip() == P and Q.strip() == Q:\n",
        "        if P.strip() == P_Q.strip():\n",
        "            return Q.strip()\n",
        "    return None"
      ]
    },
    {
      "cell_type": "code",
      "execution_count": 33,
      "metadata": {
        "id": "bmAFtW2EzDhZ"
      },
      "outputs": [],
      "source": [
        "def hypothetical_syllogism(P_Q, Q_R):\n",
        "    P_Q = P_Q.strip('()')\n",
        "    Q_R = Q_R.strip('()')\n",
        "    P, Q = P_Q.split('⇒')\n",
        "    Q, R = Q_R.split('⇒')\n",
        "    if P.strip() == P and Q.strip() == Q and R.strip() == R:\n",
        "        if Q.strip() == Q_R.strip().split('⇒')[0].strip():\n",
        "            return P.strip() + ' ⇒ ' + R.strip()\n",
        "    return None"
      ]
    },
    {
      "cell_type": "code",
      "execution_count": 34,
      "metadata": {
        "id": "X07UIOZLzDhZ"
      },
      "outputs": [],
      "source": [
        "def simplification(P_and_Q):\n",
        "    P_and_Q = P_and_Q.strip('()')\n",
        "    P, Q = P_and_Q.split('⋀')\n",
        "    return P.strip() or Q.strip()"
      ]
    },
    {
      "cell_type": "code",
      "execution_count": 35,
      "metadata": {
        "id": "MC7iVVcPzDhZ"
      },
      "outputs": [],
      "source": [
        "def conjunction(P, Q):\n",
        "    return P.strip() + ' ⋀ ' + Q.strip()"
      ]
    },
    {
      "cell_type": "code",
      "execution_count": 36,
      "metadata": {
        "id": "xS9TpjQazDhZ"
      },
      "outputs": [],
      "source": [
        "def modus_tollens(P_Q, not_Q):\n",
        "    P_Q = P_Q.strip('()')\n",
        "    P, Q = P_Q.split('⇒')\n",
        "    if P.strip() == P and Q.strip() == Q:\n",
        "        if '～' + Q.strip() == not_Q.strip():\n",
        "            return '～' + P.strip()\n",
        "    return None\n",
        "\n",
        "def disjunctive_syllogism(P_or_Q, not_P):\n",
        "    P_or_Q = P_or_Q.strip('()')\n",
        "    P, Q = P_or_Q.split('⋁')\n",
        "    if '～' + P.strip() == not_P.strip():\n",
        "        return Q.strip()\n",
        "    elif '～' + Q.strip() == not_P.strip():\n",
        "        return P.strip()\n",
        "    return None\n",
        "\n",
        "def resolution(P, not_P):\n",
        "    if P.strip() == '～' + not_P.strip():\n",
        "        return ''\n",
        "    return None"
      ]
    },
    {
      "cell_type": "code",
      "execution_count": 37,
      "metadata": {
        "id": "DAaGg_tjzDhZ"
      },
      "outputs": [],
      "source": [
        "def test_inference_rules(propositions):\n",
        "    for i, P in enumerate(propositions):\n",
        "        for j, Q in enumerate(propositions):\n",
        "            if i != j:\n",
        "                P_Q = match_rules(P + ' ⇒ ' + Q, rules, {})[0]\n",
        "                not_Q = '～' + Q.strip()\n",
        "                if P_Q and not_Q in propositions:\n",
        "                    # Modus Ponens\n",
        "                    result = modus_ponens(P_Q, P)\n",
        "                    if result:\n",
        "                        return result\n",
        "\n",
        "                Q_R = match_rules(Q + ' ⇒ ' + P, rules, {})[0]\n",
        "                if P_Q and Q_R:\n",
        "                    # Silogismo hipotético\n",
        "                    result = hypothetical_syllogism(P_Q, Q_R)\n",
        "                    if result:\n",
        "                        return result\n",
        "\n",
        "                if '⋁' in P:\n",
        "                    # Silogismo disyuntivo\n",
        "                    result = disjunctive_syllogism(P, not_Q)\n",
        "                    if result:\n",
        "                        return result\n",
        "\n",
        "                if '⋁' in Q:\n",
        "                    # Silogismo disyuntivo\n",
        "                    result = disjunctive_syllogism(Q, not_P=P)\n",
        "                    if result:\n",
        "                        return result\n",
        "\n",
        "                if '⋀' in P and '⋀' in Q:\n",
        "                    # Simplificacion\n",
        "                    result = simplification(P + ' ⋀ ' + Q)\n",
        "                    if result:\n",
        "                        return result\n",
        "\n",
        "                    # Conjuncion\n",
        "                    result = conjunction(P, Q)\n",
        "                    if result:\n",
        "                        return result\n",
        "\n",
        "                not_P = '～' + P.strip()\n",
        "                if not_P in propositions:\n",
        "                    # Modus Tollens\n",
        "                    result = modus_tollens(Q_R, not_P)\n",
        "                    if result:\n",
        "                        return result\n",
        "\n",
        "                    # Disjunctive Syllogism\n",
        "                    result = disjunctive_syllogism(P, not_P=not_P)\n",
        "                    if result:\n",
        "                        return result\n",
        "\n",
        "                    # Resolution\n",
        "                    result = resolution(P, not_P)\n",
        "                    if result:\n",
        "                        return result\n",
        "\n",
        "    return None"
      ]
    },
    {
      "cell_type": "code",
      "execution_count": null,
      "metadata": {
        "id": "wRaMMxY6zDhZ"
      },
      "outputs": [],
      "source": [
        "#Encontrar y corregir el error\n",
        "propositions = ['today is Tuesday', 'I have a test in english, it is Tuesday']\n",
        "result = test_inference_rules(propositions)\n",
        "print(result)"
      ]
    },
    {
      "cell_type": "code",
      "execution_count": null,
      "metadata": {
        "id": "VMmcRkpczDha"
      },
      "outputs": [],
      "source": []
    }
  ],
  "metadata": {
    "kernelspec": {
      "display_name": "base",
      "language": "python",
      "name": "python3"
    },
    "language_info": {
      "codemirror_mode": {
        "name": "ipython",
        "version": 3
      },
      "file_extension": ".py",
      "mimetype": "text/x-python",
      "name": "python",
      "nbconvert_exporter": "python",
      "pygments_lexer": "ipython3",
      "version": "3.10.9"
    },
    "orig_nbformat": 4,
    "colab": {
      "provenance": []
    }
  },
  "nbformat": 4,
  "nbformat_minor": 0
}